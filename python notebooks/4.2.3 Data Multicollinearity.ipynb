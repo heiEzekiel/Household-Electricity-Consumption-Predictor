{
 "cells": [
  {
   "cell_type": "code",
   "execution_count": 1,
   "id": "22e60fe7",
   "metadata": {},
   "outputs": [],
   "source": [
    "import pandas as pd\n",
    "import numpy as np\n",
    "import seaborn as sns\n",
    "import matplotlib.pyplot as plt\n",
    "from sklearn.preprocessing import MinMaxScaler\n",
    "from sklearn.linear_model import LinearRegression\n",
    "from sklearn.neighbors import KNeighborsRegressor\n",
    "from sklearn.tree import DecisionTreeRegressor\n",
    "from sklearn.model_selection import train_test_split, GridSearchCV\n",
    "from sklearn.metrics import mean_absolute_error\n",
    "from sklearn.metrics import mean_squared_error\n",
    "from sklearn.metrics import mean_squared_log_error\n",
    "from sklearn.metrics import r2_score\n",
    "import warnings\n",
    "warnings.filterwarnings('ignore')\n",
    "# to remove warning calls/emitted\n",
    "from sklearn.metrics import accuracy_score, plot_confusion_matrix\n",
    "FIGURE_SIZE = (15, 12)\n",
    "SNS_FIGURE_SIZE = (20, 15)"
   ]
  },
  {
   "cell_type": "code",
   "execution_count": 2,
   "id": "a518078c",
   "metadata": {},
   "outputs": [],
   "source": [
    "df = pd.read_excel('./datasets/combined.xlsx', index_col=0)"
   ]
  },
  {
   "cell_type": "code",
   "execution_count": 3,
   "id": "0ad703d7",
   "metadata": {},
   "outputs": [
    {
     "data": {
      "text/html": [
       "<div>\n",
       "<style scoped>\n",
       "    .dataframe tbody tr th:only-of-type {\n",
       "        vertical-align: middle;\n",
       "    }\n",
       "\n",
       "    .dataframe tbody tr th {\n",
       "        vertical-align: top;\n",
       "    }\n",
       "\n",
       "    .dataframe thead th {\n",
       "        text-align: right;\n",
       "    }\n",
       "</style>\n",
       "<table border=\"1\" class=\"dataframe\">\n",
       "  <thead>\n",
       "    <tr style=\"text-align: right;\">\n",
       "      <th></th>\n",
       "      <th>Dwelling Type</th>\n",
       "      <th>Year</th>\n",
       "      <th>Month</th>\n",
       "      <th>Region</th>\n",
       "      <th>Towns</th>\n",
       "      <th>Avg kWh</th>\n",
       "      <th>Daily Rainfall Total (mm)</th>\n",
       "      <th>Highest 30 min Rainfall (mm)</th>\n",
       "      <th>Highest 60 min Rainfall (mm)</th>\n",
       "      <th>Highest 120 min Rainfall (mm)</th>\n",
       "      <th>Mean Temperature (°C)</th>\n",
       "      <th>Maximum Temperature (°C)</th>\n",
       "      <th>Minimum Temperature (°C)</th>\n",
       "      <th>Mean Wind Speed (km/h)</th>\n",
       "      <th>Max Wind Speed (km/h)</th>\n",
       "    </tr>\n",
       "  </thead>\n",
       "  <tbody>\n",
       "    <tr>\n",
       "      <th>0</th>\n",
       "      <td>1-room / 2-room</td>\n",
       "      <td>2005</td>\n",
       "      <td>1</td>\n",
       "      <td>Central Region</td>\n",
       "      <td>Bishan</td>\n",
       "      <td>104.9</td>\n",
       "      <td>2.9</td>\n",
       "      <td>3.6</td>\n",
       "      <td>4.4</td>\n",
       "      <td>5.0</td>\n",
       "      <td>27.5</td>\n",
       "      <td>31.3</td>\n",
       "      <td>25.1</td>\n",
       "      <td>7.2</td>\n",
       "      <td>35.3</td>\n",
       "    </tr>\n",
       "    <tr>\n",
       "      <th>1</th>\n",
       "      <td>1-room / 2-room</td>\n",
       "      <td>2005</td>\n",
       "      <td>1</td>\n",
       "      <td>Central Region</td>\n",
       "      <td>Bukit Merah</td>\n",
       "      <td>140.7</td>\n",
       "      <td>2.9</td>\n",
       "      <td>3.6</td>\n",
       "      <td>4.4</td>\n",
       "      <td>5.0</td>\n",
       "      <td>27.5</td>\n",
       "      <td>31.3</td>\n",
       "      <td>25.1</td>\n",
       "      <td>7.2</td>\n",
       "      <td>35.3</td>\n",
       "    </tr>\n",
       "    <tr>\n",
       "      <th>2</th>\n",
       "      <td>1-room / 2-room</td>\n",
       "      <td>2005</td>\n",
       "      <td>1</td>\n",
       "      <td>Central Region</td>\n",
       "      <td>Central Region</td>\n",
       "      <td>136.5</td>\n",
       "      <td>2.9</td>\n",
       "      <td>3.6</td>\n",
       "      <td>4.4</td>\n",
       "      <td>5.0</td>\n",
       "      <td>27.5</td>\n",
       "      <td>31.3</td>\n",
       "      <td>25.1</td>\n",
       "      <td>7.2</td>\n",
       "      <td>35.3</td>\n",
       "    </tr>\n",
       "    <tr>\n",
       "      <th>3</th>\n",
       "      <td>1-room / 2-room</td>\n",
       "      <td>2005</td>\n",
       "      <td>1</td>\n",
       "      <td>Central Region</td>\n",
       "      <td>Geylang</td>\n",
       "      <td>148.5</td>\n",
       "      <td>2.9</td>\n",
       "      <td>3.6</td>\n",
       "      <td>4.4</td>\n",
       "      <td>5.0</td>\n",
       "      <td>27.5</td>\n",
       "      <td>31.3</td>\n",
       "      <td>25.1</td>\n",
       "      <td>7.2</td>\n",
       "      <td>35.3</td>\n",
       "    </tr>\n",
       "    <tr>\n",
       "      <th>4</th>\n",
       "      <td>1-room / 2-room</td>\n",
       "      <td>2005</td>\n",
       "      <td>1</td>\n",
       "      <td>Central Region</td>\n",
       "      <td>Kallang</td>\n",
       "      <td>115.6</td>\n",
       "      <td>2.9</td>\n",
       "      <td>3.6</td>\n",
       "      <td>4.4</td>\n",
       "      <td>5.0</td>\n",
       "      <td>27.5</td>\n",
       "      <td>31.3</td>\n",
       "      <td>25.1</td>\n",
       "      <td>7.2</td>\n",
       "      <td>35.3</td>\n",
       "    </tr>\n",
       "  </tbody>\n",
       "</table>\n",
       "</div>"
      ],
      "text/plain": [
       "     Dwelling Type  Year  Month          Region           Towns  Avg kWh  \\\n",
       "0  1-room / 2-room  2005      1  Central Region          Bishan    104.9   \n",
       "1  1-room / 2-room  2005      1  Central Region     Bukit Merah    140.7   \n",
       "2  1-room / 2-room  2005      1  Central Region  Central Region    136.5   \n",
       "3  1-room / 2-room  2005      1  Central Region         Geylang    148.5   \n",
       "4  1-room / 2-room  2005      1  Central Region         Kallang    115.6   \n",
       "\n",
       "   Daily Rainfall Total (mm)  Highest 30 min Rainfall (mm)  \\\n",
       "0                        2.9                           3.6   \n",
       "1                        2.9                           3.6   \n",
       "2                        2.9                           3.6   \n",
       "3                        2.9                           3.6   \n",
       "4                        2.9                           3.6   \n",
       "\n",
       "   Highest 60 min Rainfall (mm)  Highest 120 min Rainfall (mm)  \\\n",
       "0                           4.4                            5.0   \n",
       "1                           4.4                            5.0   \n",
       "2                           4.4                            5.0   \n",
       "3                           4.4                            5.0   \n",
       "4                           4.4                            5.0   \n",
       "\n",
       "   Mean Temperature (°C)  Maximum Temperature (°C)  Minimum Temperature (°C)  \\\n",
       "0                   27.5                      31.3                      25.1   \n",
       "1                   27.5                      31.3                      25.1   \n",
       "2                   27.5                      31.3                      25.1   \n",
       "3                   27.5                      31.3                      25.1   \n",
       "4                   27.5                      31.3                      25.1   \n",
       "\n",
       "   Mean Wind Speed (km/h)  Max Wind Speed (km/h)  \n",
       "0                     7.2                   35.3  \n",
       "1                     7.2                   35.3  \n",
       "2                     7.2                   35.3  \n",
       "3                     7.2                   35.3  \n",
       "4                     7.2                   35.3  "
      ]
     },
     "execution_count": 3,
     "metadata": {},
     "output_type": "execute_result"
    }
   ],
   "source": [
    "df.head()"
   ]
  },
  {
   "cell_type": "code",
   "execution_count": 4,
   "id": "699fdf91",
   "metadata": {},
   "outputs": [
    {
     "data": {
      "text/plain": [
       "Dwelling Type                    0\n",
       "Year                             0\n",
       "Month                            0\n",
       "Region                           0\n",
       "Towns                            0\n",
       "Avg kWh                          0\n",
       "Daily Rainfall Total (mm)        0\n",
       "Highest 30 min Rainfall (mm)     0\n",
       "Highest 60 min Rainfall (mm)     0\n",
       "Highest 120 min Rainfall (mm)    0\n",
       "Mean Temperature (°C)            0\n",
       "Maximum Temperature (°C)         0\n",
       "Minimum Temperature (°C)         0\n",
       "Mean Wind Speed (km/h)           0\n",
       "Max Wind Speed (km/h)            0\n",
       "dtype: int64"
      ]
     },
     "execution_count": 4,
     "metadata": {},
     "output_type": "execute_result"
    }
   ],
   "source": [
    "df.isna().sum()"
   ]
  },
  {
   "cell_type": "code",
   "execution_count": 5,
   "id": "5f20b1dc",
   "metadata": {},
   "outputs": [
    {
     "data": {
      "text/plain": [
       "<AxesSubplot:>"
      ]
     },
     "execution_count": 5,
     "metadata": {},
     "output_type": "execute_result"
    },
    {
     "data": {
      "image/png": "[encoded data removed]",
      "text/plain": [
       "<Figure size 1440x1080 with 2 Axes>"
      ]
     },
     "metadata": {
      "needs_background": "light"
     },
     "output_type": "display_data"
    }
   ],
   "source": [
    "fig, ax = plt.subplots(figsize=SNS_FIGURE_SIZE)\n",
    "mask_matrix = np.triu(df.corr())\n",
    "sns.heatmap(df.corr(), annot = True, cmap= 'coolwarm', linewidths=3, linecolor='black', mask=mask_matrix)"
   ]
  },
  {
   "cell_type": "markdown",
   "id": "cd380286",
   "metadata": {},
   "source": [
    "# We define variables with high correlation to be 0.9 and above for this project. A total of 3 variables is identified."
   ]
  },
  {
   "cell_type": "markdown",
   "id": "6b7714ff",
   "metadata": {},
   "source": [
    "# We will try to use each of these 3 variables to see which one predicts the best for us"
   ]
  },
  {
   "cell_type": "markdown",
   "id": "524b89cc",
   "metadata": {},
   "source": [
    "# One Hot Encoding"
   ]
  },
  {
   "cell_type": "code",
   "execution_count": 6,
   "id": "699864c4",
   "metadata": {},
   "outputs": [],
   "source": [
    "df_one_hot_encoded_1hour = df.copy()\n",
    "df_one_hot_encoded_2hour = df.copy()\n",
    "df_one_hot_encoded_30min = df.copy()\n",
    "df_encoded = df.copy()\n",
    "features_df_1hour = pd.get_dummies(df_one_hot_encoded_1hour, columns=['Dwelling Type', 'Month', 'Towns', 'Region'])\n",
    "features_df_2hour = pd.get_dummies(df_one_hot_encoded_2hour, columns=['Dwelling Type', 'Month', 'Towns', 'Region'])\n",
    "features_df_30min = pd.get_dummies(df_one_hot_encoded_30min, columns=['Dwelling Type', 'Month', 'Towns', 'Region'])"
   ]
  },
  {
   "cell_type": "markdown",
   "id": "ff7303f9",
   "metadata": {},
   "source": [
    "# Normalize Data"
   ]
  },
  {
   "cell_type": "code",
   "execution_count": 7,
   "id": "e0b74d30",
   "metadata": {},
   "outputs": [],
   "source": [
    "features_df_1hour.drop('Highest 30 min Rainfall (mm)', axis=1,inplace=True)\n",
    "features_df_1hour.drop('Highest 120 min Rainfall (mm)', axis=1,inplace=True)"
   ]
  },
  {
   "cell_type": "code",
   "execution_count": 8,
   "id": "b71cf5e5",
   "metadata": {},
   "outputs": [],
   "source": [
    "features_df_2hour.drop('Highest 60 min Rainfall (mm)', axis=1,inplace=True)\n",
    "features_df_2hour.drop('Highest 30 min Rainfall (mm)', axis=1,inplace=True)"
   ]
  },
  {
   "cell_type": "code",
   "execution_count": 9,
   "id": "442f0e39",
   "metadata": {},
   "outputs": [],
   "source": [
    "features_df_30min.drop('Highest 60 min Rainfall (mm)', axis=1,inplace=True)\n",
    "features_df_30min.drop('Highest 120 min Rainfall (mm)', axis=1,inplace=True)"
   ]
  },
  {
   "cell_type": "code",
   "execution_count": 10,
   "id": "5b2dd795",
   "metadata": {},
   "outputs": [],
   "source": [
    "df_min_max_scaled_1hour = features_df_1hour.copy()\n",
    "# apply normalization techniques\n",
    "for column in df_min_max_scaled_1hour.columns:\n",
    "    df_min_max_scaled_1hour[column] = (df_min_max_scaled_1hour[column] - df_min_max_scaled_1hour[column].min()) / (df_min_max_scaled_1hour[column].max() - df_min_max_scaled_1hour[column].min())\n",
    "    \n",
    "df_min_max_scaled_2hour = features_df_2hour.copy()\n",
    "# apply normalization techniques\n",
    "for column in df_min_max_scaled_2hour.columns:\n",
    "    df_min_max_scaled_2hour[column] = (df_min_max_scaled_2hour[column] - df_min_max_scaled_2hour[column].min()) / (df_min_max_scaled_2hour[column].max() - df_min_max_scaled_2hour[column].min()) \n",
    "    \n",
    "df_min_max_scaled_30min = features_df_30min.copy()\n",
    "# apply normalization techniques\n",
    "for column in df_min_max_scaled_30min.columns:\n",
    "    df_min_max_scaled_30min[column] = (df_min_max_scaled_30min[column] - df_min_max_scaled_30min[column].min()) / (df_min_max_scaled_30min[column].max() - df_min_max_scaled_30min[column].min()) "
   ]
  },
  {
   "cell_type": "markdown",
   "id": "6910266a",
   "metadata": {},
   "source": [
    "# Split to train and test"
   ]
  },
  {
   "cell_type": "code",
   "execution_count": 11,
   "id": "758f88e5",
   "metadata": {},
   "outputs": [],
   "source": [
    "X_1hour = df_min_max_scaled_1hour.loc[:, df_min_max_scaled_1hour.columns !='Avg kWh']\n",
    "y_1hour = df_encoded['Avg kWh']\n",
    "\n",
    "X_2hour = df_min_max_scaled_2hour.loc[:, df_min_max_scaled_2hour.columns !='Avg kWh']\n",
    "y_2hour = df_encoded['Avg kWh']\n",
    "\n",
    "X_30min = df_min_max_scaled_30min.loc[:, df_min_max_scaled_30min.columns !='Avg kWh']\n",
    "y_30min = df_encoded['Avg kWh']"
   ]
  },
  {
   "cell_type": "code",
   "execution_count": 12,
   "id": "cf5e570c",
   "metadata": {},
   "outputs": [],
   "source": [
    "X_train_1hour, X_test_1hour, y_train_1hour, y_test_1hour = train_test_split(X_1hour, y_1hour, test_size=0.2, random_state=0)\n",
    "X_train_2hour, X_test_2hour, y_train_2hour, y_test_2hour = train_test_split(X_2hour, y_2hour, test_size=0.2, random_state=0)\n",
    "X_train_30min, X_test_30min, y_train_30min, y_test_30min = train_test_split(X_30min, y_30min, test_size=0.2, random_state=0)"
   ]
  },
  {
   "cell_type": "code",
   "execution_count": 13,
   "id": "29d9eb32",
   "metadata": {},
   "outputs": [],
   "source": [
    "rmse_loss = lambda y, y_pred: np.sqrt(mean_squared_error(y, y_pred))\n",
    "\n",
    "models = [\n",
    "           ['Linear Regression', LinearRegression()],\n",
    "           ['Desicion Tree Regressor', DecisionTreeRegressor()],\n",
    "           ['KNeighbors Regressor',  KNeighborsRegressor()],\n",
    "         ]"
   ]
  },
  {
   "cell_type": "markdown",
   "id": "d5d18d9c",
   "metadata": {},
   "source": [
    "Try using 60 minutes rainfall"
   ]
  },
  {
   "cell_type": "code",
   "execution_count": 14,
   "id": "e652fcb3",
   "metadata": {},
   "outputs": [
    {
     "data": {
      "text/html": [
       "<div>\n",
       "<style scoped>\n",
       "    .dataframe tbody tr th:only-of-type {\n",
       "        vertical-align: middle;\n",
       "    }\n",
       "\n",
       "    .dataframe tbody tr th {\n",
       "        vertical-align: top;\n",
       "    }\n",
       "\n",
       "    .dataframe thead th {\n",
       "        text-align: right;\n",
       "    }\n",
       "</style>\n",
       "<table border=\"1\" class=\"dataframe\">\n",
       "  <thead>\n",
       "    <tr style=\"text-align: right;\">\n",
       "      <th></th>\n",
       "      <th>Models</th>\n",
       "      <th>Train RMSE Score</th>\n",
       "      <th>Train R^2 Score</th>\n",
       "      <th>Test RMSE Score</th>\n",
       "      <th>Test R^2 Score</th>\n",
       "    </tr>\n",
       "  </thead>\n",
       "  <tbody>\n",
       "    <tr>\n",
       "      <th>0</th>\n",
       "      <td>Linear Regression</td>\n",
       "      <td>219.604100</td>\n",
       "      <td>0.740220</td>\n",
       "      <td>217.696735</td>\n",
       "      <td>0.734999</td>\n",
       "    </tr>\n",
       "    <tr>\n",
       "      <th>1</th>\n",
       "      <td>Desicion Tree Regressor</td>\n",
       "      <td>0.000000</td>\n",
       "      <td>1.000000</td>\n",
       "      <td>92.946917</td>\n",
       "      <td>0.951693</td>\n",
       "    </tr>\n",
       "    <tr>\n",
       "      <th>2</th>\n",
       "      <td>KNeighbors Regressor</td>\n",
       "      <td>75.988877</td>\n",
       "      <td>0.968895</td>\n",
       "      <td>90.936930</td>\n",
       "      <td>0.953759</td>\n",
       "    </tr>\n",
       "  </tbody>\n",
       "</table>\n",
       "</div>"
      ],
      "text/plain": [
       "                    Models  Train RMSE Score  Train R^2 Score  \\\n",
       "0        Linear Regression        219.604100         0.740220   \n",
       "1  Desicion Tree Regressor          0.000000         1.000000   \n",
       "2     KNeighbors Regressor         75.988877         0.968895   \n",
       "\n",
       "   Test RMSE Score  Test R^2 Score  \n",
       "0       217.696735        0.734999  \n",
       "1        92.946917        0.951693  \n",
       "2        90.936930        0.953759  "
      ]
     },
     "execution_count": 14,
     "metadata": {},
     "output_type": "execute_result"
    }
   ],
   "source": [
    "metric_data = []        \n",
    "for name, curr_model in models :\n",
    "    curr_model_data = []\n",
    "    curr_model_data.append(name)\n",
    "    curr_model.fit(X_train_1hour, y_train_1hour)\n",
    "    curr_model_data.append(round(rmse_loss(y_train_1hour, curr_model.predict(X_train_1hour)),6))\n",
    "    curr_model_data.append(round(r2_score(y_train_1hour, curr_model.predict(X_train_1hour)),6))\n",
    "    curr_model_data.append(round(rmse_loss(y_test_1hour,curr_model.predict(X_test_1hour)),6))\n",
    "    curr_model_data.append(round(r2_score(y_test_1hour,curr_model.predict(X_test_1hour)),6))\n",
    "    metric_data.append(curr_model_data)\n",
    "\n",
    "model_res_df = pd.DataFrame(metric_data, columns=['Models', 'Train RMSE Score', 'Train R^2 Score', 'Test RMSE Score', 'Test R^2 Score'])\n",
    "model_res_df"
   ]
  },
  {
   "cell_type": "markdown",
   "id": "3e48d9ca",
   "metadata": {},
   "source": [
    "Try using 120 minutes rainfall"
   ]
  },
  {
   "cell_type": "code",
   "execution_count": 15,
   "id": "52fa98d4",
   "metadata": {},
   "outputs": [
    {
     "data": {
      "text/html": [
       "<div>\n",
       "<style scoped>\n",
       "    .dataframe tbody tr th:only-of-type {\n",
       "        vertical-align: middle;\n",
       "    }\n",
       "\n",
       "    .dataframe tbody tr th {\n",
       "        vertical-align: top;\n",
       "    }\n",
       "\n",
       "    .dataframe thead th {\n",
       "        text-align: right;\n",
       "    }\n",
       "</style>\n",
       "<table border=\"1\" class=\"dataframe\">\n",
       "  <thead>\n",
       "    <tr style=\"text-align: right;\">\n",
       "      <th></th>\n",
       "      <th>Models</th>\n",
       "      <th>Train RMSE Score</th>\n",
       "      <th>Train R^2 Score</th>\n",
       "      <th>Test RMSE Score</th>\n",
       "      <th>Test R^2 Score</th>\n",
       "    </tr>\n",
       "  </thead>\n",
       "  <tbody>\n",
       "    <tr>\n",
       "      <th>0</th>\n",
       "      <td>Linear Regression</td>\n",
       "      <td>219.597396</td>\n",
       "      <td>0.740236</td>\n",
       "      <td>217.714058</td>\n",
       "      <td>0.734957</td>\n",
       "    </tr>\n",
       "    <tr>\n",
       "      <th>1</th>\n",
       "      <td>Desicion Tree Regressor</td>\n",
       "      <td>0.000000</td>\n",
       "      <td>1.000000</td>\n",
       "      <td>97.261109</td>\n",
       "      <td>0.947104</td>\n",
       "    </tr>\n",
       "    <tr>\n",
       "      <th>2</th>\n",
       "      <td>KNeighbors Regressor</td>\n",
       "      <td>76.040227</td>\n",
       "      <td>0.968853</td>\n",
       "      <td>90.570360</td>\n",
       "      <td>0.954131</td>\n",
       "    </tr>\n",
       "  </tbody>\n",
       "</table>\n",
       "</div>"
      ],
      "text/plain": [
       "                    Models  Train RMSE Score  Train R^2 Score  \\\n",
       "0        Linear Regression        219.597396         0.740236   \n",
       "1  Desicion Tree Regressor          0.000000         1.000000   \n",
       "2     KNeighbors Regressor         76.040227         0.968853   \n",
       "\n",
       "   Test RMSE Score  Test R^2 Score  \n",
       "0       217.714058        0.734957  \n",
       "1        97.261109        0.947104  \n",
       "2        90.570360        0.954131  "
      ]
     },
     "execution_count": 15,
     "metadata": {},
     "output_type": "execute_result"
    }
   ],
   "source": [
    "metric_data = []        \n",
    "for name, curr_model in models :\n",
    "    curr_model_data = []\n",
    "    curr_model_data.append(name)\n",
    "    curr_model.fit(X_train_2hour, y_train_2hour)\n",
    "    curr_model_data.append(round(rmse_loss(y_train_2hour, curr_model.predict(X_train_2hour)),6))\n",
    "    curr_model_data.append(round(r2_score(y_train_2hour, curr_model.predict(X_train_2hour)),6))\n",
    "    curr_model_data.append(round(rmse_loss(y_test_2hour,curr_model.predict(X_test_2hour)),6))\n",
    "    curr_model_data.append(round(r2_score(y_test_2hour,curr_model.predict(X_test_2hour)),6))\n",
    "    metric_data.append(curr_model_data)\n",
    "\n",
    "model_res_df = pd.DataFrame(metric_data, columns=['Models', 'Train RMSE Score', 'Train R^2 Score', 'Test RMSE Score', 'Test R^2 Score'])\n",
    "model_res_df"
   ]
  },
  {
   "cell_type": "markdown",
   "id": "cdd8b676",
   "metadata": {},
   "source": [
    "Try using 30 minutes rainfall"
   ]
  },
  {
   "cell_type": "code",
   "execution_count": 16,
   "id": "956c42fa",
   "metadata": {},
   "outputs": [
    {
     "data": {
      "text/html": [
       "<div>\n",
       "<style scoped>\n",
       "    .dataframe tbody tr th:only-of-type {\n",
       "        vertical-align: middle;\n",
       "    }\n",
       "\n",
       "    .dataframe tbody tr th {\n",
       "        vertical-align: top;\n",
       "    }\n",
       "\n",
       "    .dataframe thead th {\n",
       "        text-align: right;\n",
       "    }\n",
       "</style>\n",
       "<table border=\"1\" class=\"dataframe\">\n",
       "  <thead>\n",
       "    <tr style=\"text-align: right;\">\n",
       "      <th></th>\n",
       "      <th>Models</th>\n",
       "      <th>Train RMSE Score</th>\n",
       "      <th>Train R^2 Score</th>\n",
       "      <th>Test RMSE Score</th>\n",
       "      <th>Test R^2 Score</th>\n",
       "    </tr>\n",
       "  </thead>\n",
       "  <tbody>\n",
       "    <tr>\n",
       "      <th>0</th>\n",
       "      <td>Linear Regression</td>\n",
       "      <td>219.596363</td>\n",
       "      <td>217.707954</td>\n",
       "      <td>0.740239</td>\n",
       "      <td>0.734972</td>\n",
       "    </tr>\n",
       "    <tr>\n",
       "      <th>1</th>\n",
       "      <td>Desicion Tree Regressor</td>\n",
       "      <td>0.000000</td>\n",
       "      <td>86.537225</td>\n",
       "      <td>1.000000</td>\n",
       "      <td>0.958126</td>\n",
       "    </tr>\n",
       "    <tr>\n",
       "      <th>2</th>\n",
       "      <td>KNeighbors Regressor</td>\n",
       "      <td>76.053692</td>\n",
       "      <td>90.435289</td>\n",
       "      <td>0.968842</td>\n",
       "      <td>0.954268</td>\n",
       "    </tr>\n",
       "  </tbody>\n",
       "</table>\n",
       "</div>"
      ],
      "text/plain": [
       "                    Models  Train RMSE Score  Train R^2 Score  \\\n",
       "0        Linear Regression        219.596363       217.707954   \n",
       "1  Desicion Tree Regressor          0.000000        86.537225   \n",
       "2     KNeighbors Regressor         76.053692        90.435289   \n",
       "\n",
       "   Test RMSE Score  Test R^2 Score  \n",
       "0         0.740239        0.734972  \n",
       "1         1.000000        0.958126  \n",
       "2         0.968842        0.954268  "
      ]
     },
     "execution_count": 16,
     "metadata": {},
     "output_type": "execute_result"
    }
   ],
   "source": [
    "metric_data = []        \n",
    "for name, curr_model in models :\n",
    "    curr_model_data = []\n",
    "    curr_model_data.append(name)\n",
    "    curr_model.fit(X_train_30min, y_train_30min)\n",
    "    curr_model_data.append(round(rmse_loss(y_train_30min, curr_model.predict(X_train_30min)),6))\n",
    "    curr_model_data.append(round(rmse_loss(y_test_30min,curr_model.predict(X_test_30min)),6))\n",
    "    curr_model_data.append(round(r2_score(y_train_30min, curr_model.predict(X_train_30min)),6))\n",
    "    curr_model_data.append(round(r2_score(y_test_30min,curr_model.predict(X_test_30min)),6))\n",
    "    metric_data.append(curr_model_data)\n",
    "\n",
    "model_res_df = pd.DataFrame(metric_data, columns=['Models', 'Train RMSE Score', 'Train R^2 Score', 'Test RMSE Score', 'Test R^2 Score'])\n",
    "model_res_df"
   ]
  },
  {
   "cell_type": "markdown",
   "id": "3696af2d",
   "metadata": {},
   "source": [
    "There is not much difference in the RMSE,R^2, Test_RMSE, and Test R^2 score.\n",
    "We have decided to proceed with only one of the variable to prevent the isuse of multi-collinearity. From here, we select <b> 120 minutes rainfall </b> features and will continue with it."
   ]
  }
 ],
 "metadata": {
  "kernelspec": {
   "display_name": "Python 3.10.2 64-bit",
   "language": "python",
   "name": "python3"
  },
  "language_info": {
   "codemirror_mode": {
    "name": "ipython",
    "version": 3
   },
   "file_extension": ".py",
   "mimetype": "text/x-python",
   "name": "python",
   "nbconvert_exporter": "python",
   "pygments_lexer": "ipython3",
   "version": "3.10.2"
  },
  "vscode": {
   "interpreter": {
    "hash": "54b5c02bac415170f398c1cb9c40d2712252a7d195ee8eb19ed147dda00b9728"
   }
  }
 },
 "nbformat": 4,
 "nbformat_minor": 5
}
