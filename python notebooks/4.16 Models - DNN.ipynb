{
 "cells": [
  {
   "cell_type": "markdown",
   "metadata": {
    "id": "FhGuhbZ6M5tl"
   },
   "source": [
    "##### Copyright 2018 The TensorFlow Authors."
   ]
  },
  {
   "cell_type": "code",
   "execution_count": 1,
   "metadata": {
    "execution": {
     "iopub.execute_input": "2022-06-16T01:37:25.714605Z",
     "iopub.status.busy": "2022-06-16T01:37:25.714327Z",
     "iopub.status.idle": "2022-06-16T01:37:27.086286Z",
     "shell.execute_reply": "2022-06-16T01:37:27.085246Z"
    },
    "id": "1rRo8oNqZ-Rj"
   },
   "outputs": [
    {
     "name": "stdout",
     "output_type": "stream",
     "text": [
      "2.10.0\n"
     ]
    }
   ],
   "source": [
    "import os\n",
    "import matplotlib.pyplot as plt\n",
    "import numpy as np\n",
    "import pandas as pd\n",
    "import seaborn as sns\n",
    "import openpyxl\n",
    "import tensorflow as tf\n",
    "from tensorflow import keras\n",
    "from tensorflow.keras import layers\n",
    "from sklearn.metrics import mean_squared_error\n",
    "from sklearn.metrics import r2_score\n",
    "print(tf.__version__)"
   ]
  },
  {
   "cell_type": "code",
   "execution_count": 2,
   "metadata": {
    "execution": {
     "iopub.execute_input": "2022-06-16T01:37:28.830423Z",
     "iopub.status.busy": "2022-06-16T01:37:28.829924Z",
     "iopub.status.idle": "2022-06-16T01:37:29.164726Z",
     "shell.execute_reply": "2022-06-16T01:37:29.163763Z"
    },
    "id": "CiX2FI4gZtTt"
   },
   "outputs": [],
   "source": [
    "df = pd.read_excel('./datasets/combined.xlsx', index_col=0)\n",
    "del df['Highest 30 min Rainfall (mm)']\n",
    "del df['Highest 60 min Rainfall (mm)']"
   ]
  },
  {
   "cell_type": "code",
   "execution_count": 3,
   "metadata": {
    "execution": {
     "iopub.execute_input": "2022-06-16T01:37:29.168273Z",
     "iopub.status.busy": "2022-06-16T01:37:29.168002Z",
     "iopub.status.idle": "2022-06-16T01:37:29.187341Z",
     "shell.execute_reply": "2022-06-16T01:37:29.186598Z"
    },
    "id": "2oY3pMPagJrO"
   },
   "outputs": [
    {
     "data": {
      "text/html": [
       "<div>\n",
       "<style scoped>\n",
       "    .dataframe tbody tr th:only-of-type {\n",
       "        vertical-align: middle;\n",
       "    }\n",
       "\n",
       "    .dataframe tbody tr th {\n",
       "        vertical-align: top;\n",
       "    }\n",
       "\n",
       "    .dataframe thead th {\n",
       "        text-align: right;\n",
       "    }\n",
       "</style>\n",
       "<table border=\"1\" class=\"dataframe\">\n",
       "  <thead>\n",
       "    <tr style=\"text-align: right;\">\n",
       "      <th></th>\n",
       "      <th>Dwelling Type</th>\n",
       "      <th>Year</th>\n",
       "      <th>Month</th>\n",
       "      <th>Region</th>\n",
       "      <th>Towns</th>\n",
       "      <th>Avg kWh</th>\n",
       "      <th>Daily Rainfall Total (mm)</th>\n",
       "      <th>Highest 120 min Rainfall (mm)</th>\n",
       "      <th>Mean Temperature (°C)</th>\n",
       "      <th>Maximum Temperature (°C)</th>\n",
       "      <th>Minimum Temperature (°C)</th>\n",
       "      <th>Mean Wind Speed (km/h)</th>\n",
       "      <th>Max Wind Speed (km/h)</th>\n",
       "    </tr>\n",
       "  </thead>\n",
       "  <tbody>\n",
       "    <tr>\n",
       "      <th>60563</th>\n",
       "      <td>Public Housing</td>\n",
       "      <td>2021</td>\n",
       "      <td>6</td>\n",
       "      <td>West Region</td>\n",
       "      <td>Choa Chu Kang</td>\n",
       "      <td>470.8</td>\n",
       "      <td>9.8</td>\n",
       "      <td>9.4</td>\n",
       "      <td>28.1</td>\n",
       "      <td>32.7</td>\n",
       "      <td>24.5</td>\n",
       "      <td>8.6</td>\n",
       "      <td>31.9</td>\n",
       "    </tr>\n",
       "    <tr>\n",
       "      <th>60564</th>\n",
       "      <td>Public Housing</td>\n",
       "      <td>2021</td>\n",
       "      <td>6</td>\n",
       "      <td>West Region</td>\n",
       "      <td>Clementi</td>\n",
       "      <td>360.1</td>\n",
       "      <td>7.5</td>\n",
       "      <td>6.7</td>\n",
       "      <td>28.2</td>\n",
       "      <td>32.1</td>\n",
       "      <td>25.2</td>\n",
       "      <td>4.9</td>\n",
       "      <td>26.5</td>\n",
       "    </tr>\n",
       "    <tr>\n",
       "      <th>60565</th>\n",
       "      <td>Public Housing</td>\n",
       "      <td>2021</td>\n",
       "      <td>6</td>\n",
       "      <td>West Region</td>\n",
       "      <td>Jurong East</td>\n",
       "      <td>434.2</td>\n",
       "      <td>8.5</td>\n",
       "      <td>7.9</td>\n",
       "      <td>28.2</td>\n",
       "      <td>32.4</td>\n",
       "      <td>24.9</td>\n",
       "      <td>6.7</td>\n",
       "      <td>29.2</td>\n",
       "    </tr>\n",
       "    <tr>\n",
       "      <th>60566</th>\n",
       "      <td>Public Housing</td>\n",
       "      <td>2021</td>\n",
       "      <td>6</td>\n",
       "      <td>West Region</td>\n",
       "      <td>Jurong West</td>\n",
       "      <td>435.8</td>\n",
       "      <td>8.5</td>\n",
       "      <td>7.9</td>\n",
       "      <td>28.2</td>\n",
       "      <td>32.4</td>\n",
       "      <td>24.9</td>\n",
       "      <td>6.7</td>\n",
       "      <td>29.2</td>\n",
       "    </tr>\n",
       "    <tr>\n",
       "      <th>60567</th>\n",
       "      <td>Public Housing</td>\n",
       "      <td>2021</td>\n",
       "      <td>6</td>\n",
       "      <td>West Region</td>\n",
       "      <td>West Region</td>\n",
       "      <td>426.5</td>\n",
       "      <td>8.5</td>\n",
       "      <td>7.9</td>\n",
       "      <td>28.2</td>\n",
       "      <td>32.4</td>\n",
       "      <td>24.9</td>\n",
       "      <td>6.7</td>\n",
       "      <td>29.2</td>\n",
       "    </tr>\n",
       "  </tbody>\n",
       "</table>\n",
       "</div>"
      ],
      "text/plain": [
       "        Dwelling Type  Year  Month       Region          Towns  Avg kWh  \\\n",
       "60563  Public Housing  2021      6  West Region  Choa Chu Kang    470.8   \n",
       "60564  Public Housing  2021      6  West Region       Clementi    360.1   \n",
       "60565  Public Housing  2021      6  West Region    Jurong East    434.2   \n",
       "60566  Public Housing  2021      6  West Region    Jurong West    435.8   \n",
       "60567  Public Housing  2021      6  West Region    West Region    426.5   \n",
       "\n",
       "       Daily Rainfall Total (mm)  Highest 120 min Rainfall (mm)  \\\n",
       "60563                        9.8                            9.4   \n",
       "60564                        7.5                            6.7   \n",
       "60565                        8.5                            7.9   \n",
       "60566                        8.5                            7.9   \n",
       "60567                        8.5                            7.9   \n",
       "\n",
       "       Mean Temperature (°C)  Maximum Temperature (°C)  \\\n",
       "60563                   28.1                      32.7   \n",
       "60564                   28.2                      32.1   \n",
       "60565                   28.2                      32.4   \n",
       "60566                   28.2                      32.4   \n",
       "60567                   28.2                      32.4   \n",
       "\n",
       "       Minimum Temperature (°C)  Mean Wind Speed (km/h)  Max Wind Speed (km/h)  \n",
       "60563                      24.5                     8.6                   31.9  \n",
       "60564                      25.2                     4.9                   26.5  \n",
       "60565                      24.9                     6.7                   29.2  \n",
       "60566                      24.9                     6.7                   29.2  \n",
       "60567                      24.9                     6.7                   29.2  "
      ]
     },
     "execution_count": 3,
     "metadata": {},
     "output_type": "execute_result"
    }
   ],
   "source": [
    "dataset = df.copy()\n",
    "dataset.tail()"
   ]
  },
  {
   "cell_type": "markdown",
   "metadata": {
    "id": "3MWuJTKEDM-f"
   },
   "source": [
    "### Clean the data\n",
    "\n",
    "The dataset contains a few unknown values:"
   ]
  },
  {
   "cell_type": "code",
   "execution_count": 4,
   "metadata": {
    "execution": {
     "iopub.execute_input": "2022-06-16T01:37:29.191332Z",
     "iopub.status.busy": "2022-06-16T01:37:29.190679Z",
     "iopub.status.idle": "2022-06-16T01:37:29.197435Z",
     "shell.execute_reply": "2022-06-16T01:37:29.196626Z"
    },
    "id": "JEJHhN65a2VV"
   },
   "outputs": [
    {
     "data": {
      "text/plain": [
       "Dwelling Type                    0\n",
       "Year                             0\n",
       "Month                            0\n",
       "Region                           0\n",
       "Towns                            0\n",
       "Avg kWh                          0\n",
       "Daily Rainfall Total (mm)        0\n",
       "Highest 120 min Rainfall (mm)    0\n",
       "Mean Temperature (°C)            0\n",
       "Maximum Temperature (°C)         0\n",
       "Minimum Temperature (°C)         0\n",
       "Mean Wind Speed (km/h)           0\n",
       "Max Wind Speed (km/h)            0\n",
       "dtype: int64"
      ]
     },
     "execution_count": 4,
     "metadata": {},
     "output_type": "execute_result"
    }
   ],
   "source": [
    "dataset.isna().sum()"
   ]
  },
  {
   "cell_type": "code",
   "execution_count": 5,
   "metadata": {
    "execution": {
     "iopub.execute_input": "2022-06-16T01:37:29.217643Z",
     "iopub.status.busy": "2022-06-16T01:37:29.217378Z",
     "iopub.status.idle": "2022-06-16T01:37:29.233790Z",
     "shell.execute_reply": "2022-06-16T01:37:29.232937Z"
    },
    "id": "ulXz4J7PAUzk"
   },
   "outputs": [
    {
     "data": {
      "text/html": [
       "<div>\n",
       "<style scoped>\n",
       "    .dataframe tbody tr th:only-of-type {\n",
       "        vertical-align: middle;\n",
       "    }\n",
       "\n",
       "    .dataframe tbody tr th {\n",
       "        vertical-align: top;\n",
       "    }\n",
       "\n",
       "    .dataframe thead th {\n",
       "        text-align: right;\n",
       "    }\n",
       "</style>\n",
       "<table border=\"1\" class=\"dataframe\">\n",
       "  <thead>\n",
       "    <tr style=\"text-align: right;\">\n",
       "      <th></th>\n",
       "      <th>Avg kWh</th>\n",
       "      <th>Year</th>\n",
       "      <th>Daily Rainfall Total (mm)</th>\n",
       "      <th>Highest 120 min Rainfall (mm)</th>\n",
       "      <th>Mean Temperature (°C)</th>\n",
       "      <th>Maximum Temperature (°C)</th>\n",
       "      <th>Minimum Temperature (°C)</th>\n",
       "      <th>Mean Wind Speed (km/h)</th>\n",
       "      <th>Max Wind Speed (km/h)</th>\n",
       "      <th>1-room / 2-room</th>\n",
       "      <th>...</th>\n",
       "      <th>Tanglin</th>\n",
       "      <th>Toa Payoh</th>\n",
       "      <th>West Region</th>\n",
       "      <th>Woodlands</th>\n",
       "      <th>Yishun</th>\n",
       "      <th>Central Region</th>\n",
       "      <th>East Region</th>\n",
       "      <th>North East Region</th>\n",
       "      <th>North Region</th>\n",
       "      <th>West Region</th>\n",
       "    </tr>\n",
       "  </thead>\n",
       "  <tbody>\n",
       "    <tr>\n",
       "      <th>60563</th>\n",
       "      <td>470.8</td>\n",
       "      <td>2021</td>\n",
       "      <td>9.8</td>\n",
       "      <td>9.4</td>\n",
       "      <td>28.1</td>\n",
       "      <td>32.7</td>\n",
       "      <td>24.5</td>\n",
       "      <td>8.6</td>\n",
       "      <td>31.9</td>\n",
       "      <td>0</td>\n",
       "      <td>...</td>\n",
       "      <td>0</td>\n",
       "      <td>0</td>\n",
       "      <td>0</td>\n",
       "      <td>0</td>\n",
       "      <td>0</td>\n",
       "      <td>0</td>\n",
       "      <td>0</td>\n",
       "      <td>0</td>\n",
       "      <td>0</td>\n",
       "      <td>1</td>\n",
       "    </tr>\n",
       "    <tr>\n",
       "      <th>60564</th>\n",
       "      <td>360.1</td>\n",
       "      <td>2021</td>\n",
       "      <td>7.5</td>\n",
       "      <td>6.7</td>\n",
       "      <td>28.2</td>\n",
       "      <td>32.1</td>\n",
       "      <td>25.2</td>\n",
       "      <td>4.9</td>\n",
       "      <td>26.5</td>\n",
       "      <td>0</td>\n",
       "      <td>...</td>\n",
       "      <td>0</td>\n",
       "      <td>0</td>\n",
       "      <td>0</td>\n",
       "      <td>0</td>\n",
       "      <td>0</td>\n",
       "      <td>0</td>\n",
       "      <td>0</td>\n",
       "      <td>0</td>\n",
       "      <td>0</td>\n",
       "      <td>1</td>\n",
       "    </tr>\n",
       "    <tr>\n",
       "      <th>60565</th>\n",
       "      <td>434.2</td>\n",
       "      <td>2021</td>\n",
       "      <td>8.5</td>\n",
       "      <td>7.9</td>\n",
       "      <td>28.2</td>\n",
       "      <td>32.4</td>\n",
       "      <td>24.9</td>\n",
       "      <td>6.7</td>\n",
       "      <td>29.2</td>\n",
       "      <td>0</td>\n",
       "      <td>...</td>\n",
       "      <td>0</td>\n",
       "      <td>0</td>\n",
       "      <td>0</td>\n",
       "      <td>0</td>\n",
       "      <td>0</td>\n",
       "      <td>0</td>\n",
       "      <td>0</td>\n",
       "      <td>0</td>\n",
       "      <td>0</td>\n",
       "      <td>1</td>\n",
       "    </tr>\n",
       "    <tr>\n",
       "      <th>60566</th>\n",
       "      <td>435.8</td>\n",
       "      <td>2021</td>\n",
       "      <td>8.5</td>\n",
       "      <td>7.9</td>\n",
       "      <td>28.2</td>\n",
       "      <td>32.4</td>\n",
       "      <td>24.9</td>\n",
       "      <td>6.7</td>\n",
       "      <td>29.2</td>\n",
       "      <td>0</td>\n",
       "      <td>...</td>\n",
       "      <td>0</td>\n",
       "      <td>0</td>\n",
       "      <td>0</td>\n",
       "      <td>0</td>\n",
       "      <td>0</td>\n",
       "      <td>0</td>\n",
       "      <td>0</td>\n",
       "      <td>0</td>\n",
       "      <td>0</td>\n",
       "      <td>1</td>\n",
       "    </tr>\n",
       "    <tr>\n",
       "      <th>60567</th>\n",
       "      <td>426.5</td>\n",
       "      <td>2021</td>\n",
       "      <td>8.5</td>\n",
       "      <td>7.9</td>\n",
       "      <td>28.2</td>\n",
       "      <td>32.4</td>\n",
       "      <td>24.9</td>\n",
       "      <td>6.7</td>\n",
       "      <td>29.2</td>\n",
       "      <td>0</td>\n",
       "      <td>...</td>\n",
       "      <td>0</td>\n",
       "      <td>0</td>\n",
       "      <td>1</td>\n",
       "      <td>0</td>\n",
       "      <td>0</td>\n",
       "      <td>0</td>\n",
       "      <td>0</td>\n",
       "      <td>0</td>\n",
       "      <td>0</td>\n",
       "      <td>1</td>\n",
       "    </tr>\n",
       "  </tbody>\n",
       "</table>\n",
       "<p>5 rows × 81 columns</p>\n",
       "</div>"
      ],
      "text/plain": [
       "       Avg kWh  Year  Daily Rainfall Total (mm)  \\\n",
       "60563    470.8  2021                        9.8   \n",
       "60564    360.1  2021                        7.5   \n",
       "60565    434.2  2021                        8.5   \n",
       "60566    435.8  2021                        8.5   \n",
       "60567    426.5  2021                        8.5   \n",
       "\n",
       "       Highest 120 min Rainfall (mm)  Mean Temperature (°C)  \\\n",
       "60563                            9.4                   28.1   \n",
       "60564                            6.7                   28.2   \n",
       "60565                            7.9                   28.2   \n",
       "60566                            7.9                   28.2   \n",
       "60567                            7.9                   28.2   \n",
       "\n",
       "       Maximum Temperature (°C)  Minimum Temperature (°C)  \\\n",
       "60563                      32.7                      24.5   \n",
       "60564                      32.1                      25.2   \n",
       "60565                      32.4                      24.9   \n",
       "60566                      32.4                      24.9   \n",
       "60567                      32.4                      24.9   \n",
       "\n",
       "       Mean Wind Speed (km/h)  Max Wind Speed (km/h)  1-room / 2-room  ...  \\\n",
       "60563                     8.6                   31.9                0  ...   \n",
       "60564                     4.9                   26.5                0  ...   \n",
       "60565                     6.7                   29.2                0  ...   \n",
       "60566                     6.7                   29.2                0  ...   \n",
       "60567                     6.7                   29.2                0  ...   \n",
       "\n",
       "       Tanglin  Toa Payoh  West Region  Woodlands  Yishun  Central Region  \\\n",
       "60563        0          0            0          0       0               0   \n",
       "60564        0          0            0          0       0               0   \n",
       "60565        0          0            0          0       0               0   \n",
       "60566        0          0            0          0       0               0   \n",
       "60567        0          0            1          0       0               0   \n",
       "\n",
       "       East Region  North East Region  North Region  West Region  \n",
       "60563            0                  0             0            1  \n",
       "60564            0                  0             0            1  \n",
       "60565            0                  0             0            1  \n",
       "60566            0                  0             0            1  \n",
       "60567            0                  0             0            1  \n",
       "\n",
       "[5 rows x 81 columns]"
      ]
     },
     "execution_count": 5,
     "metadata": {},
     "output_type": "execute_result"
    }
   ],
   "source": [
    "#one hot encoding\n",
    "dataset = pd.get_dummies(dataset, columns=['Dwelling Type', 'Month', 'Towns', 'Region'], prefix='', prefix_sep='')\n",
    "first_column = dataset.pop('Avg kWh')\n",
    "dataset.insert(0, 'Avg kWh', first_column)\n",
    "dataset.tail()\n"
   ]
  },
  {
   "cell_type": "markdown",
   "metadata": {
    "id": "Cuym4yvk76vU"
   },
   "source": [
    "### Split the data into training and test sets\n",
    "\n",
    "Now, split the dataset into a training set and a test set. You will use the test set in the final evaluation of your models."
   ]
  },
  {
   "cell_type": "code",
   "execution_count": 6,
   "metadata": {
    "execution": {
     "iopub.execute_input": "2022-06-16T01:37:29.237842Z",
     "iopub.status.busy": "2022-06-16T01:37:29.237194Z",
     "iopub.status.idle": "2022-06-16T01:37:29.242481Z",
     "shell.execute_reply": "2022-06-16T01:37:29.241715Z"
    },
    "id": "qn-IGhUE7_1H"
   },
   "outputs": [],
   "source": [
    "train_dataset = dataset.sample(frac=0.8, random_state=0)\n",
    "test_dataset = dataset.drop(train_dataset.index)"
   ]
  },
  {
   "cell_type": "markdown",
   "metadata": {
    "id": "gavKO_6DWRMP"
   },
   "source": [
    "Let's also check the overall statistics. Note how each feature covers a very different range:"
   ]
  },
  {
   "cell_type": "code",
   "execution_count": 7,
   "metadata": {
    "execution": {
     "iopub.execute_input": "2022-06-16T01:37:32.022713Z",
     "iopub.status.busy": "2022-06-16T01:37:32.022445Z",
     "iopub.status.idle": "2022-06-16T01:37:32.060971Z",
     "shell.execute_reply": "2022-06-16T01:37:32.060147Z"
    },
    "id": "yi2FzC3T21jR"
   },
   "outputs": [
    {
     "data": {
      "text/html": [
       "<div>\n",
       "<style scoped>\n",
       "    .dataframe tbody tr th:only-of-type {\n",
       "        vertical-align: middle;\n",
       "    }\n",
       "\n",
       "    .dataframe tbody tr th {\n",
       "        vertical-align: top;\n",
       "    }\n",
       "\n",
       "    .dataframe thead th {\n",
       "        text-align: right;\n",
       "    }\n",
       "</style>\n",
       "<table border=\"1\" class=\"dataframe\">\n",
       "  <thead>\n",
       "    <tr style=\"text-align: right;\">\n",
       "      <th></th>\n",
       "      <th>count</th>\n",
       "      <th>mean</th>\n",
       "      <th>std</th>\n",
       "      <th>min</th>\n",
       "      <th>25%</th>\n",
       "      <th>50%</th>\n",
       "      <th>75%</th>\n",
       "      <th>max</th>\n",
       "    </tr>\n",
       "  </thead>\n",
       "  <tbody>\n",
       "    <tr>\n",
       "      <th>Avg kWh</th>\n",
       "      <td>48454.0</td>\n",
       "      <td>566.847244</td>\n",
       "      <td>430.268789</td>\n",
       "      <td>0.0</td>\n",
       "      <td>321.2</td>\n",
       "      <td>441.6</td>\n",
       "      <td>692.9</td>\n",
       "      <td>7161.319423</td>\n",
       "    </tr>\n",
       "    <tr>\n",
       "      <th>Year</th>\n",
       "      <td>48454.0</td>\n",
       "      <td>2012.770917</td>\n",
       "      <td>4.755051</td>\n",
       "      <td>2005.0</td>\n",
       "      <td>2009.0</td>\n",
       "      <td>2013.0</td>\n",
       "      <td>2017.0</td>\n",
       "      <td>2021.000000</td>\n",
       "    </tr>\n",
       "    <tr>\n",
       "      <th>Daily Rainfall Total (mm)</th>\n",
       "      <td>48454.0</td>\n",
       "      <td>6.836511</td>\n",
       "      <td>3.669284</td>\n",
       "      <td>0.0</td>\n",
       "      <td>4.3</td>\n",
       "      <td>6.4</td>\n",
       "      <td>8.9</td>\n",
       "      <td>64.600000</td>\n",
       "    </tr>\n",
       "    <tr>\n",
       "      <th>Highest 120 min Rainfall (mm)</th>\n",
       "      <td>48454.0</td>\n",
       "      <td>5.082978</td>\n",
       "      <td>1.796803</td>\n",
       "      <td>0.0</td>\n",
       "      <td>4.2</td>\n",
       "      <td>5.0</td>\n",
       "      <td>5.8</td>\n",
       "      <td>24.200000</td>\n",
       "    </tr>\n",
       "    <tr>\n",
       "      <th>Mean Temperature (°C)</th>\n",
       "      <td>48454.0</td>\n",
       "      <td>27.590946</td>\n",
       "      <td>0.708405</td>\n",
       "      <td>24.8</td>\n",
       "      <td>27.2</td>\n",
       "      <td>27.6</td>\n",
       "      <td>28.1</td>\n",
       "      <td>30.000000</td>\n",
       "    </tr>\n",
       "    <tr>\n",
       "      <th>...</th>\n",
       "      <td>...</td>\n",
       "      <td>...</td>\n",
       "      <td>...</td>\n",
       "      <td>...</td>\n",
       "      <td>...</td>\n",
       "      <td>...</td>\n",
       "      <td>...</td>\n",
       "      <td>...</td>\n",
       "    </tr>\n",
       "    <tr>\n",
       "      <th>Central Region</th>\n",
       "      <td>48454.0</td>\n",
       "      <td>0.410802</td>\n",
       "      <td>0.491984</td>\n",
       "      <td>0.0</td>\n",
       "      <td>0.0</td>\n",
       "      <td>0.0</td>\n",
       "      <td>1.0</td>\n",
       "      <td>1.000000</td>\n",
       "    </tr>\n",
       "    <tr>\n",
       "      <th>East Region</th>\n",
       "      <td>48454.0</td>\n",
       "      <td>0.125026</td>\n",
       "      <td>0.330752</td>\n",
       "      <td>0.0</td>\n",
       "      <td>0.0</td>\n",
       "      <td>0.0</td>\n",
       "      <td>0.0</td>\n",
       "      <td>1.000000</td>\n",
       "    </tr>\n",
       "    <tr>\n",
       "      <th>North East Region</th>\n",
       "      <td>48454.0</td>\n",
       "      <td>0.161720</td>\n",
       "      <td>0.368198</td>\n",
       "      <td>0.0</td>\n",
       "      <td>0.0</td>\n",
       "      <td>0.0</td>\n",
       "      <td>0.0</td>\n",
       "      <td>1.000000</td>\n",
       "    </tr>\n",
       "    <tr>\n",
       "      <th>North Region</th>\n",
       "      <td>48454.0</td>\n",
       "      <td>0.119557</td>\n",
       "      <td>0.324446</td>\n",
       "      <td>0.0</td>\n",
       "      <td>0.0</td>\n",
       "      <td>0.0</td>\n",
       "      <td>0.0</td>\n",
       "      <td>1.000000</td>\n",
       "    </tr>\n",
       "    <tr>\n",
       "      <th>West Region</th>\n",
       "      <td>48454.0</td>\n",
       "      <td>0.182895</td>\n",
       "      <td>0.386585</td>\n",
       "      <td>0.0</td>\n",
       "      <td>0.0</td>\n",
       "      <td>0.0</td>\n",
       "      <td>0.0</td>\n",
       "      <td>1.000000</td>\n",
       "    </tr>\n",
       "  </tbody>\n",
       "</table>\n",
       "<p>81 rows × 8 columns</p>\n",
       "</div>"
      ],
      "text/plain": [
       "                                 count         mean         std     min  \\\n",
       "Avg kWh                        48454.0   566.847244  430.268789     0.0   \n",
       "Year                           48454.0  2012.770917    4.755051  2005.0   \n",
       "Daily Rainfall Total (mm)      48454.0     6.836511    3.669284     0.0   \n",
       "Highest 120 min Rainfall (mm)  48454.0     5.082978    1.796803     0.0   \n",
       "Mean Temperature (°C)          48454.0    27.590946    0.708405    24.8   \n",
       "...                                ...          ...         ...     ...   \n",
       "Central Region                 48454.0     0.410802    0.491984     0.0   \n",
       "East Region                    48454.0     0.125026    0.330752     0.0   \n",
       "North East Region              48454.0     0.161720    0.368198     0.0   \n",
       "North Region                   48454.0     0.119557    0.324446     0.0   \n",
       "West Region                    48454.0     0.182895    0.386585     0.0   \n",
       "\n",
       "                                  25%     50%     75%          max  \n",
       "Avg kWh                         321.2   441.6   692.9  7161.319423  \n",
       "Year                           2009.0  2013.0  2017.0  2021.000000  \n",
       "Daily Rainfall Total (mm)         4.3     6.4     8.9    64.600000  \n",
       "Highest 120 min Rainfall (mm)     4.2     5.0     5.8    24.200000  \n",
       "Mean Temperature (°C)            27.2    27.6    28.1    30.000000  \n",
       "...                               ...     ...     ...          ...  \n",
       "Central Region                    0.0     0.0     1.0     1.000000  \n",
       "East Region                       0.0     0.0     0.0     1.000000  \n",
       "North East Region                 0.0     0.0     0.0     1.000000  \n",
       "North Region                      0.0     0.0     0.0     1.000000  \n",
       "West Region                       0.0     0.0     0.0     1.000000  \n",
       "\n",
       "[81 rows x 8 columns]"
      ]
     },
     "execution_count": 7,
     "metadata": {},
     "output_type": "execute_result"
    }
   ],
   "source": [
    "train_dataset.describe().transpose()"
   ]
  },
  {
   "cell_type": "markdown",
   "metadata": {
    "id": "Db7Auq1yXUvh"
   },
   "source": [
    "### Split features from labels\n",
    "\n",
    "Separate the target value—the \"label\"—from the features. This label is the value that you will train the model to predict."
   ]
  },
  {
   "cell_type": "code",
   "execution_count": 8,
   "metadata": {
    "execution": {
     "iopub.execute_input": "2022-06-16T01:37:32.064430Z",
     "iopub.status.busy": "2022-06-16T01:37:32.064147Z",
     "iopub.status.idle": "2022-06-16T01:37:32.069644Z",
     "shell.execute_reply": "2022-06-16T01:37:32.068859Z"
    },
    "id": "t2sluJdCW7jN"
   },
   "outputs": [],
   "source": [
    "X_train = train_dataset.copy()\n",
    "X_test = test_dataset.copy()\n",
    "\n",
    "y_train = X_train.pop('Avg kWh')\n",
    "y_test = X_test.pop('Avg kWh')\n",
    "#train_labels"
   ]
  },
  {
   "cell_type": "markdown",
   "metadata": {
    "id": "mRklxK5s388r"
   },
   "source": [
    "## Normalization\n",
    "\n",
    "In the table of statistics it's easy to see how different the ranges of each feature are:"
   ]
  },
  {
   "cell_type": "code",
   "execution_count": 9,
   "metadata": {
    "execution": {
     "iopub.execute_input": "2022-06-16T01:37:32.073498Z",
     "iopub.status.busy": "2022-06-16T01:37:32.072790Z",
     "iopub.status.idle": "2022-06-16T01:37:32.103435Z",
     "shell.execute_reply": "2022-06-16T01:37:32.102654Z"
    },
    "id": "IcmY6lKKbkw8"
   },
   "outputs": [
    {
     "data": {
      "text/html": [
       "<div>\n",
       "<style scoped>\n",
       "    .dataframe tbody tr th:only-of-type {\n",
       "        vertical-align: middle;\n",
       "    }\n",
       "\n",
       "    .dataframe tbody tr th {\n",
       "        vertical-align: top;\n",
       "    }\n",
       "\n",
       "    .dataframe thead th {\n",
       "        text-align: right;\n",
       "    }\n",
       "</style>\n",
       "<table border=\"1\" class=\"dataframe\">\n",
       "  <thead>\n",
       "    <tr style=\"text-align: right;\">\n",
       "      <th></th>\n",
       "      <th>mean</th>\n",
       "      <th>std</th>\n",
       "    </tr>\n",
       "  </thead>\n",
       "  <tbody>\n",
       "    <tr>\n",
       "      <th>Avg kWh</th>\n",
       "      <td>566.847244</td>\n",
       "      <td>430.268789</td>\n",
       "    </tr>\n",
       "    <tr>\n",
       "      <th>Year</th>\n",
       "      <td>2012.770917</td>\n",
       "      <td>4.755051</td>\n",
       "    </tr>\n",
       "    <tr>\n",
       "      <th>Daily Rainfall Total (mm)</th>\n",
       "      <td>6.836511</td>\n",
       "      <td>3.669284</td>\n",
       "    </tr>\n",
       "    <tr>\n",
       "      <th>Highest 120 min Rainfall (mm)</th>\n",
       "      <td>5.082978</td>\n",
       "      <td>1.796803</td>\n",
       "    </tr>\n",
       "    <tr>\n",
       "      <th>Mean Temperature (°C)</th>\n",
       "      <td>27.590946</td>\n",
       "      <td>0.708405</td>\n",
       "    </tr>\n",
       "    <tr>\n",
       "      <th>...</th>\n",
       "      <td>...</td>\n",
       "      <td>...</td>\n",
       "    </tr>\n",
       "    <tr>\n",
       "      <th>Central Region</th>\n",
       "      <td>0.410802</td>\n",
       "      <td>0.491984</td>\n",
       "    </tr>\n",
       "    <tr>\n",
       "      <th>East Region</th>\n",
       "      <td>0.125026</td>\n",
       "      <td>0.330752</td>\n",
       "    </tr>\n",
       "    <tr>\n",
       "      <th>North East Region</th>\n",
       "      <td>0.161720</td>\n",
       "      <td>0.368198</td>\n",
       "    </tr>\n",
       "    <tr>\n",
       "      <th>North Region</th>\n",
       "      <td>0.119557</td>\n",
       "      <td>0.324446</td>\n",
       "    </tr>\n",
       "    <tr>\n",
       "      <th>West Region</th>\n",
       "      <td>0.182895</td>\n",
       "      <td>0.386585</td>\n",
       "    </tr>\n",
       "  </tbody>\n",
       "</table>\n",
       "<p>81 rows × 2 columns</p>\n",
       "</div>"
      ],
      "text/plain": [
       "                                      mean         std\n",
       "Avg kWh                         566.847244  430.268789\n",
       "Year                           2012.770917    4.755051\n",
       "Daily Rainfall Total (mm)         6.836511    3.669284\n",
       "Highest 120 min Rainfall (mm)     5.082978    1.796803\n",
       "Mean Temperature (°C)            27.590946    0.708405\n",
       "...                                    ...         ...\n",
       "Central Region                    0.410802    0.491984\n",
       "East Region                       0.125026    0.330752\n",
       "North East Region                 0.161720    0.368198\n",
       "North Region                      0.119557    0.324446\n",
       "West Region                       0.182895    0.386585\n",
       "\n",
       "[81 rows x 2 columns]"
      ]
     },
     "execution_count": 9,
     "metadata": {},
     "output_type": "execute_result"
    }
   ],
   "source": [
    "train_dataset.describe().transpose()[['mean', 'std']]"
   ]
  },
  {
   "cell_type": "markdown",
   "metadata": {
    "id": "-ywmerQ6dSox"
   },
   "source": [
    "It is good practice to normalize features that use different scales and ranges.\n",
    "\n",
    "One reason this is important is because the features are multiplied by the model weights. So, the scale of the outputs and the scale of the gradients are affected by the scale of the inputs.\n",
    "\n",
    "Although a model *might* converge without feature normalization, normalization makes training much more stable.\n",
    "\n",
    "Note: There is no advantage to normalizing the one-hot features—it is done here for simplicity. For more details on how to use the preprocessing layers, refer to the [Working with preprocessing layers](https://www.tensorflow.org/guide/keras/preprocessing_layers) guide and the [Classify structured data using Keras preprocessing layers](../structured_data/preprocessing_layers.ipynb) tutorial."
   ]
  },
  {
   "cell_type": "markdown",
   "metadata": {
    "id": "aFJ6ISropeoo"
   },
   "source": [
    "### The Normalization layer\n",
    "\n",
    "The `tf.keras.layers.Normalization` is a clean and simple way to add feature normalization into your model.\n",
    "\n",
    "The first step is to create the layer:"
   ]
  },
  {
   "cell_type": "code",
   "execution_count": 10,
   "metadata": {
    "execution": {
     "iopub.execute_input": "2022-06-16T01:37:32.107447Z",
     "iopub.status.busy": "2022-06-16T01:37:32.107134Z",
     "iopub.status.idle": "2022-06-16T01:37:32.114081Z",
     "shell.execute_reply": "2022-06-16T01:37:32.113297Z"
    },
    "id": "JlC5ooJrgjQF"
   },
   "outputs": [],
   "source": [
    "normalizer = tf.keras.layers.Normalization(axis=-1)"
   ]
  },
  {
   "cell_type": "markdown",
   "metadata": {
    "id": "XYA2Ap6nVOha"
   },
   "source": [
    "Then, fit the state of the preprocessing layer to the data by calling `Normalization.adapt`:"
   ]
  },
  {
   "cell_type": "code",
   "execution_count": 11,
   "metadata": {
    "execution": {
     "iopub.execute_input": "2022-06-16T01:37:32.117794Z",
     "iopub.status.busy": "2022-06-16T01:37:32.117537Z",
     "iopub.status.idle": "2022-06-16T01:37:35.361879Z",
     "shell.execute_reply": "2022-06-16T01:37:35.360851Z"
    },
    "id": "CrBbbjbwV91f"
   },
   "outputs": [],
   "source": [
    "normalizer.adapt(np.array(X_train))"
   ]
  },
  {
   "cell_type": "markdown",
   "metadata": {
    "id": "oZccMR5yV9YV"
   },
   "source": [
    "Calculate the mean and variance, and store them in the layer:"
   ]
  },
  {
   "cell_type": "code",
   "execution_count": 12,
   "metadata": {
    "execution": {
     "iopub.execute_input": "2022-06-16T01:37:35.366092Z",
     "iopub.status.busy": "2022-06-16T01:37:35.365830Z",
     "iopub.status.idle": "2022-06-16T01:37:35.370904Z",
     "shell.execute_reply": "2022-06-16T01:37:35.370065Z"
    },
    "id": "GGn-ukwxSPtx"
   },
   "outputs": [
    {
     "name": "stdout",
     "output_type": "stream",
     "text": [
      "[[2.01277039e+03 6.83651209e+00 5.08296824e+00 2.75909252e+01\n",
      "  3.16137466e+01 2.49113503e+01 7.53638649e+00 3.30950966e+01\n",
      "  1.02261953e-01 1.11322068e-01 1.13881163e-01 1.13344572e-01\n",
      "  1.42320335e-01 1.47562593e-01 1.52082369e-01 1.17224544e-01\n",
      "  8.65150541e-02 8.46575722e-02 8.67626965e-02 8.58547091e-02\n",
      "  8.57722610e-02 8.63292962e-02 8.08808580e-02 8.15000311e-02\n",
      "  8.11283588e-02 8.01378936e-02 7.94155747e-02 8.10459927e-02\n",
      "  2.64993496e-02 2.62517221e-02 2.58182883e-02 2.59008650e-02\n",
      "  2.60040350e-02 2.44561620e-02 2.42498051e-02 2.61691641e-02\n",
      "  1.43228471e-02 2.54880749e-02 2.64167842e-02 2.11953633e-02\n",
      "  2.57151220e-02 2.63548978e-02 2.60246880e-02 2.34449040e-02\n",
      "  2.58595999e-02 2.58595776e-02 1.02158831e-02 2.57770028e-02\n",
      "  8.44100211e-03 9.80312657e-03 2.61691418e-02 2.56738383e-02\n",
      "  2.66644675e-02 7.75993010e-03 2.61897687e-02 2.41672341e-02\n",
      "  8.27588607e-03 5.07697696e-03 2.25368589e-02 2.70153172e-02\n",
      "  1.00507652e-02 2.62517035e-02 9.51416884e-03 2.32591499e-02\n",
      "  2.46832166e-02 2.62929667e-02 9.36971698e-03 9.12205689e-03\n",
      "  8.48227553e-03 2.62929779e-02 2.25781128e-02 2.61278655e-02\n",
      "  2.62516923e-02 2.59214640e-02 2.60040518e-02 4.10801947e-01\n",
      "  1.25025898e-01 1.61720365e-01 1.19556680e-01 1.82895184e-01]]\n"
     ]
    }
   ],
   "source": [
    "print(normalizer.mean.numpy())"
   ]
  },
  {
   "cell_type": "markdown",
   "metadata": {
    "id": "oGWKaF9GSRuN"
   },
   "source": [
    "When the layer is called, it returns the input data, with each feature independently normalized:"
   ]
  },
  {
   "cell_type": "code",
   "execution_count": 13,
   "metadata": {
    "execution": {
     "iopub.execute_input": "2022-06-16T01:37:35.374612Z",
     "iopub.status.busy": "2022-06-16T01:37:35.374285Z",
     "iopub.status.idle": "2022-06-16T01:37:35.382418Z",
     "shell.execute_reply": "2022-06-16T01:37:35.381639Z"
    },
    "id": "2l7zFL_XWIRu"
   },
   "outputs": [
    {
     "name": "stdout",
     "output_type": "stream",
     "text": [
      "First example: [[2008.     7.2    5.    27.6   31.6   24.4    8.9   32.5    0.     0.\n",
      "     0.     1.     0.     0.     0.     0.     0.     0.     0.     0.\n",
      "     0.     0.     0.     0.     1.     0.     0.     0.     0.     0.\n",
      "     0.     0.     0.     0.     0.     0.     0.     0.     0.     0.\n",
      "     0.     0.     0.     0.     0.     0.     0.     0.     0.     0.\n",
      "     0.     0.     0.     0.     0.     0.     0.     0.     0.     0.\n",
      "     0.     0.     0.     0.     1.     0.     0.     0.     0.     0.\n",
      "     0.     0.     0.     0.     0.     0.     0.     1.     0.     0. ]]\n",
      "\n",
      "Normalized: [[-1.    0.1  -0.05  0.01 -0.02 -0.68  0.62 -0.16 -0.34 -0.35 -0.36  2.8\n",
      "  -0.41 -0.42 -0.42 -0.36 -0.31 -0.3  -0.31 -0.31 -0.31 -0.31 -0.3  -0.3\n",
      "   3.37 -0.3  -0.29 -0.3  -0.16 -0.16 -0.16 -0.16 -0.16 -0.16 -0.16 -0.16\n",
      "  -0.12 -0.16 -0.16 -0.15 -0.16 -0.16 -0.16 -0.15 -0.16 -0.16 -0.1  -0.16\n",
      "  -0.09 -0.1  -0.16 -0.16 -0.17 -0.09 -0.16 -0.16 -0.09 -0.07 -0.15 -0.17\n",
      "  -0.1  -0.16 -0.1  -0.15  6.29 -0.16 -0.1  -0.1  -0.09 -0.16 -0.15 -0.16\n",
      "  -0.16 -0.16 -0.16 -0.83 -0.38  2.28 -0.37 -0.47]]\n"
     ]
    }
   ],
   "source": [
    "first = np.array(X_train[:1])\n",
    "\n",
    "with np.printoptions(precision=2, suppress=True):\n",
    "  print('First example:', first)\n",
    "  print()\n",
    "  print('Normalized:', normalizer(first).numpy())"
   ]
  },
  {
   "cell_type": "code",
   "execution_count": 14,
   "metadata": {},
   "outputs": [],
   "source": [
    "eval_results = {}\n",
    "def perform_eval(model, model_name):\n",
    "    #Mean squared error \n",
    "    y_train_pred = model.predict(X_train)\n",
    "    y_test_pred = model.predict(X_test)\n",
    "    #Train\n",
    "    mse_train = mean_squared_error(y_train, y_train_pred)\n",
    "    rmse_train = mean_squared_error(y_train, y_train_pred, squared=False)\n",
    "    #Test\n",
    "    mse_test = mean_squared_error(y_test, y_test_pred)\n",
    "    rmse_test = mean_squared_error(y_test, y_test_pred, squared=False)\n",
    "\n",
    "    #R Squared Score\n",
    "    #Train\n",
    "    r2train = r2_score(y_train, y_train_pred)\n",
    "    adjr2_train = 1 - (1-r2train) * (len(y_test)-1)/(len(y_test)-X_train.shape[1]-1)\n",
    "    #Test\n",
    "    r2test = r2_score(y_test, y_test_pred)\n",
    "    adjr2_test = 1 - (1-r2test) * (len(y_test)-1)/(len(y_test)-X_train.shape[1]-1)\n",
    "    \n",
    "    eval_results[model_name] = {\n",
    "        \"MSE (Train)\" : mse_train,\n",
    "        \"MSE (Test)\" : mse_test,\n",
    "        \"RMSE (Train)\" : rmse_train,\n",
    "        \"RMSE (Test)\" : rmse_test,\n",
    "        \"R2 (Train)\" : r2train,\n",
    "        \"R2 (Test)\" : r2test,\n",
    "        \"Adj R2 (Train)\" : adjr2_train,\n",
    "        \"Adj R2 (Test)\" : adjr2_test\n",
    "    }\n",
    "    \n",
    "    return eval_results[model_name]"
   ]
  },
  {
   "cell_type": "code",
   "execution_count": 15,
   "metadata": {},
   "outputs": [],
   "source": [
    "def build_and_compile_model(norm, activation_function):\n",
    "  if activation_function != \"leaky_relu\":\n",
    "    model = keras.Sequential([\n",
    "        norm,\n",
    "        layers.Dense(64, activation=activation_function),\n",
    "        layers.Dense(64, activation=activation_function),\n",
    "        layers.Dense(1)\n",
    "    ])\n",
    "  else:\n",
    "    model = keras.Sequential([\n",
    "        norm,\n",
    "        layers.Dense(64, activation=tf.keras.layers.LeakyReLU(alpha=0.1)),\n",
    "        layers.Dense(64, activation=tf.keras.layers.LeakyReLU(alpha=0.1)),\n",
    "        layers.Dense(1)\n",
    "    ])\n",
    "\n",
    "  model.compile(loss='huber_loss',\n",
    "                optimizer=tf.keras.optimizers.Adam(0.001))\n",
    "  return model\n",
    "test_results = {}"
   ]
  },
  {
   "cell_type": "code",
   "execution_count": 16,
   "metadata": {},
   "outputs": [],
   "source": [
    "best_model = \"\"\n",
    "def get_best_model(model, best_model):\n",
    "    if best_model == \"\":\n",
    "        best_model = model\n",
    "\n",
    "    #test adj r2\n",
    "    y_test_pred = model.predict(X_test)\n",
    "    best_adjr2_test = 1 - (1-r2_score(y_test, best_model.predict(X_test))) * (len(y_test)-1)/(len(y_test)-X_train.shape[1]-1)\n",
    "    model_adjr2_test = 1 - (1-r2_score(y_test, model.predict(X_test))) * (len(y_test)-1)/(len(y_test)-X_train.shape[1]-1)\n",
    "\n",
    "    if model_adjr2_test > best_adjr2_test:\n",
    "        best_model = model\n",
    "\n",
    "    return best_model"
   ]
  },
  {
   "cell_type": "code",
   "execution_count": 17,
   "metadata": {},
   "outputs": [],
   "source": [
    "def compare_results(desired_model):\n",
    "    metric_data = []\n",
    "    col_names = [\"Models\"]\n",
    "    col_done = False\n",
    "\n",
    "    for model in eval_results:\n",
    "        eval_list = []\n",
    "        #Append Model names\n",
    "        if (desired_model.lower() in str(model).lower()) or (desired_model.lower() == \"all\"):\n",
    "            eval_list.append(model)\n",
    "            for metric in eval_results[model]:\n",
    "                if not col_done:\n",
    "                    col_names.append(metric)\n",
    "                eval_list.append(eval_results[model][metric])\n",
    "            col_done = True\n",
    "            metric_data.append(eval_list)\n",
    "        \n",
    "    df = pd.DataFrame(metric_data, columns=col_names)\n",
    "    df = df.sort_values(by=['Adj R2 (Test)'], ascending=False)\n",
    "    df = df.style.set_table_attributes(\"style='display:inline'\").set_caption(f'{str(desired_model).capitalize()} Models (Sort by Adj R2 (Test))')\n",
    "    \n",
    "    return df"
   ]
  },
  {
   "cell_type": "code",
   "execution_count": 18,
   "metadata": {},
   "outputs": [],
   "source": [
    "def plot_loss(history):\n",
    "  plt.plot(history.history['loss'], label='loss')\n",
    "  plt.plot(history.history['val_loss'], label='val_loss')\n",
    "  plt.ylim([0, 1000])\n",
    "  plt.xlabel('Epoch')\n",
    "  plt.ylabel('Error [Avg kWh]')\n",
    "  plt.legend()\n",
    "  plt.grid(True)"
   ]
  },
  {
   "cell_type": "markdown",
   "metadata": {
    "id": "SmjdzxKzEu1-"
   },
   "source": [
    "## Regression with a deep neural network (DNN)"
   ]
  },
  {
   "cell_type": "markdown",
   "metadata": {
    "id": "DT_aHPsrzO1t"
   },
   "source": [
    "In the previous section, you implemented two linear models for single and multiple inputs.\n",
    "\n",
    "Here, you will implement single-input and multiple-input DNN models.\n",
    "\n",
    "The code is basically the same except the model is expanded to include some \"hidden\" non-linear layers. The name \"hidden\" here just means not directly connected to the inputs or outputs."
   ]
  },
  {
   "cell_type": "markdown",
   "metadata": {
    "id": "6SWtkIjhrZwa"
   },
   "source": [
    "These models will contain a few more layers than the linear model:\n",
    "\n",
    "* The normalization layer, as before (with `Avg kWh` for a single-input model and `normalizer` for a multiple-input model).\n",
    "* Two hidden, non-linear, `Dense` layers with the different activation function nonlinearity.\n",
    "* A linear `Dense` single-output layer.\n",
    "\n",
    "Both models will use the same training procedure, so the `compile` method is included in the `build_and_compile_model` function below."
   ]
  },
  {
   "cell_type": "markdown",
   "metadata": {
    "id": "S_2Btebp2e64"
   },
   "source": [
    "### Regression using a DNN and multiple inputs"
   ]
  },
  {
   "cell_type": "markdown",
   "metadata": {
    "id": "aKFtezDldLSf"
   },
   "source": [
    "Repeat the previous process using all the inputs. The model's performance slightly improves on the validation dataset."
   ]
  },
  {
   "cell_type": "code",
   "execution_count": 19,
   "metadata": {},
   "outputs": [
    {
     "name": "stdout",
     "output_type": "stream",
     "text": [
      "Model: \"sequential\"\n",
      "_________________________________________________________________\n",
      " Layer (type)                Output Shape              Param #   \n",
      "=================================================================\n",
      " normalization (Normalizatio  (None, 80)               161       \n",
      " n)                                                              \n",
      "                                                                 \n",
      " dense (Dense)               (None, 64)                5184      \n",
      "                                                                 \n",
      " dense_1 (Dense)             (None, 64)                4160      \n",
      "                                                                 \n",
      " dense_2 (Dense)             (None, 1)                 65        \n",
      "                                                                 \n",
      "=================================================================\n",
      "Total params: 9,570\n",
      "Trainable params: 9,409\n",
      "Non-trainable params: 161\n",
      "_________________________________________________________________\n"
     ]
    },
    {
     "data": {
      "image/png": "[encoded data removed]",
      "text/plain": [
       "<Figure size 432x288 with 1 Axes>"
      ]
     },
     "metadata": {
      "needs_background": "light"
     },
     "output_type": "display_data"
    }
   ],
   "source": [
    "sigmoid_dnn_model = build_and_compile_model(normalizer, \"sigmoid\")\n",
    "sigmoid_dnn_model.summary()\n",
    "\n",
    "history = sigmoid_dnn_model.fit(\n",
    "    X_train,\n",
    "    y_train,\n",
    "    validation_split=0.2,\n",
    "    verbose=0, epochs=100)\n",
    "\n",
    "plot_loss(history)"
   ]
  },
  {
   "cell_type": "code",
   "execution_count": 37,
   "metadata": {},
   "outputs": [
    {
     "name": "stdout",
     "output_type": "stream",
     "text": [
      "379/379 [==============================] - 1s 2ms/step\n",
      "379/379 [==============================] - 1s 1ms/step\n",
      "379/379 [==============================] - 1s 1ms/step\n",
      "1515/1515 [==============================] - 2s 1ms/step\n",
      "379/379 [==============================] - 1s 2ms/step\n",
      "MSE (Train): 22748.244634368228\n",
      "MSE (Test): 24694.764458997968\n",
      "RMSE (Train): 150.82521219732538\n",
      "RMSE (Test): 157.14567909744756\n",
      "R2 (Train): 0.8771211426280316\n",
      "R2 (Test): 0.8634496500794434\n",
      "Adj R2 (Train): 0.8763041968464512\n",
      "Adj R2 (Test): 0.8625418109708549\n",
      "INFO:tensorflow:Assets written to: .\\trained_models\\DNN (Sigmoid)\\assets\n"
     ]
    },
    {
     "name": "stderr",
     "output_type": "stream",
     "text": [
      "INFO:tensorflow:Assets written to: .\\trained_models\\DNN (Sigmoid)\\assets\n"
     ]
    }
   ],
   "source": [
    "best_model = get_best_model(sigmoid_dnn_model, best_model)\n",
    "res_val = perform_eval(sigmoid_dnn_model, \"DNN (Sigmoid)\")\n",
    "for key in res_val:image.png\n",
    "    print(f\"{key}: {res_val[key]}\")\n",
    "\n",
    "filename = 'DNN (Sigmoid)'\n",
    "save_location = os.path.join(\".\",\"trained_models\", filename)\n",
    "sigmoid_dnn_model.save(save_location)"
   ]
  },
  {
   "cell_type": "code",
   "execution_count": 21,
   "metadata": {},
   "outputs": [
    {
     "name": "stdout",
     "output_type": "stream",
     "text": [
      "Model: \"sequential_1\"\n",
      "_________________________________________________________________\n",
      " Layer (type)                Output Shape              Param #   \n",
      "=================================================================\n",
      " normalization (Normalizatio  (None, 80)               161       \n",
      " n)                                                              \n",
      "                                                                 \n",
      " dense_3 (Dense)             (None, 64)                5184      \n",
      "                                                                 \n",
      " dense_4 (Dense)             (None, 64)                4160      \n",
      "                                                                 \n",
      " dense_5 (Dense)             (None, 1)                 65        \n",
      "                                                                 \n",
      "=================================================================\n",
      "Total params: 9,570\n",
      "Trainable params: 9,409\n",
      "Non-trainable params: 161\n",
      "_________________________________________________________________\n"
     ]
    },
    {
     "data": {
      "image/png": "[encoded data removed]",
      "text/plain": [
       "<Figure size 432x288 with 1 Axes>"
      ]
     },
     "metadata": {
      "needs_background": "light"
     },
     "output_type": "display_data"
    }
   ],
   "source": [
    "tanh_dnn_model = build_and_compile_model(normalizer, \"tanh\")\n",
    "tanh_dnn_model.summary()\n",
    "\n",
    "history = tanh_dnn_model.fit(\n",
    "    X_train,\n",
    "    y_train,\n",
    "    validation_split=0.2,\n",
    "    verbose=0, epochs=100)\n",
    "\n",
    "plot_loss(history)"
   ]
  },
  {
   "cell_type": "code",
   "execution_count": 38,
   "metadata": {},
   "outputs": [
    {
     "name": "stdout",
     "output_type": "stream",
     "text": [
      "379/379 [==============================] - 1s 2ms/step\n",
      "379/379 [==============================] - 1s 1ms/step\n",
      "379/379 [==============================] - 1s 2ms/step\n",
      "1515/1515 [==============================] - 2s 1ms/step\n",
      "379/379 [==============================] - 1s 1ms/step\n",
      "MSE (Train): 31163.247589356637\n",
      "MSE (Test): 33717.201326146336\n",
      "RMSE (Train): 176.5311518949464\n",
      "RMSE (Test): 183.62244232703785\n",
      "R2 (Train): 0.8316659453365228\n",
      "R2 (Test): 0.8135598479964625\n",
      "Adj R2 (Train): 0.8305467959662014\n",
      "Adj R2 (Test): 0.8123203223453129\n",
      "INFO:tensorflow:Assets written to: .\\trained_models\\DNN (Tanh)\\assets\n"
     ]
    },
    {
     "name": "stderr",
     "output_type": "stream",
     "text": [
      "INFO:tensorflow:Assets written to: .\\trained_models\\DNN (Tanh)\\assets\n"
     ]
    }
   ],
   "source": [
    "best_model = get_best_model(tanh_dnn_model, best_model)\n",
    "res_val = perform_eval(tanh_dnn_model, \"DNN (Tanh)\")\n",
    "for key in res_val:\n",
    "    print(f\"{key}: {res_val[key]}\")\n",
    "\n",
    "filename = 'DNN (Tanh)'\n",
    "save_location = os.path.join(\".\",\"trained_models\", filename)\n",
    "tanh_dnn_model.save(save_location)"
   ]
  },
  {
   "cell_type": "code",
   "execution_count": 23,
   "metadata": {},
   "outputs": [
    {
     "name": "stdout",
     "output_type": "stream",
     "text": [
      "Model: \"sequential_2\"\n",
      "_________________________________________________________________\n",
      " Layer (type)                Output Shape              Param #   \n",
      "=================================================================\n",
      " normalization (Normalizatio  (None, 80)               161       \n",
      " n)                                                              \n",
      "                                                                 \n",
      " dense_6 (Dense)             (None, 64)                5184      \n",
      "                                                                 \n",
      " dense_7 (Dense)             (None, 64)                4160      \n",
      "                                                                 \n",
      " dense_8 (Dense)             (None, 1)                 65        \n",
      "                                                                 \n",
      "=================================================================\n",
      "Total params: 9,570\n",
      "Trainable params: 9,409\n",
      "Non-trainable params: 161\n",
      "_________________________________________________________________\n"
     ]
    },
    {
     "data": {
      "image/png": "[encoded data removed]",
      "text/plain": [
       "<Figure size 432x288 with 1 Axes>"
      ]
     },
     "metadata": {
      "needs_background": "light"
     },
     "output_type": "display_data"
    }
   ],
   "source": [
    "swish_dnn_model = build_and_compile_model(normalizer, \"swish\")\n",
    "swish_dnn_model.summary()\n",
    "\n",
    "history = swish_dnn_model.fit(\n",
    "    X_train,\n",
    "    y_train,\n",
    "    validation_split=0.2,\n",
    "    verbose=0, epochs=100)\n",
    "\n",
    "plot_loss(history)"
   ]
  },
  {
   "cell_type": "code",
   "execution_count": 39,
   "metadata": {},
   "outputs": [
    {
     "name": "stdout",
     "output_type": "stream",
     "text": [
      "379/379 [==============================] - 1s 2ms/step\n",
      "379/379 [==============================] - 0s 1ms/step\n",
      "379/379 [==============================] - 1s 2ms/step\n",
      "1515/1515 [==============================] - 2s 2ms/step\n",
      "379/379 [==============================] - 1s 1ms/step\n",
      "MSE (Train): 5902.273171272561\n",
      "MSE (Test): 6225.599024819964\n",
      "RMSE (Train): 76.82625313831569\n",
      "RMSE (Test): 78.90246526452746\n",
      "R2 (Train): 0.968117778103746\n",
      "R2 (Test): 0.9655753863651657\n",
      "Adj R2 (Train): 0.9679058128621852\n",
      "Adj R2 (Test): 0.9653465183280356\n",
      "INFO:tensorflow:Assets written to: .\\trained_models\\DNN (Swish)\\assets\n"
     ]
    },
    {
     "name": "stderr",
     "output_type": "stream",
     "text": [
      "INFO:tensorflow:Assets written to: .\\trained_models\\DNN (Swish)\\assets\n"
     ]
    }
   ],
   "source": [
    "best_model = get_best_model(swish_dnn_model, best_model)\n",
    "res_val = perform_eval(swish_dnn_model, \"DNN (Swish)\")\n",
    "for key in res_val:\n",
    "    print(f\"{key}: {res_val[key]}\")\n",
    "\n",
    "filename = 'DNN (Swish)'\n",
    "save_location = os.path.join(\".\",\"trained_models\", filename)\n",
    "swish_dnn_model.save(save_location)"
   ]
  },
  {
   "cell_type": "code",
   "execution_count": 25,
   "metadata": {},
   "outputs": [
    {
     "name": "stdout",
     "output_type": "stream",
     "text": [
      "Model: \"sequential_3\"\n",
      "_________________________________________________________________\n",
      " Layer (type)                Output Shape              Param #   \n",
      "=================================================================\n",
      " normalization (Normalizatio  (None, 80)               161       \n",
      " n)                                                              \n",
      "                                                                 \n",
      " dense_9 (Dense)             (None, 64)                5184      \n",
      "                                                                 \n",
      " dense_10 (Dense)            (None, 64)                4160      \n",
      "                                                                 \n",
      " dense_11 (Dense)            (None, 1)                 65        \n",
      "                                                                 \n",
      "=================================================================\n",
      "Total params: 9,570\n",
      "Trainable params: 9,409\n",
      "Non-trainable params: 161\n",
      "_________________________________________________________________\n"
     ]
    },
    {
     "data": {
      "image/png": "[encoded data removed]",
      "text/plain": [
       "<Figure size 432x288 with 1 Axes>"
      ]
     },
     "metadata": {
      "needs_background": "light"
     },
     "output_type": "display_data"
    }
   ],
   "source": [
    "elu_dnn_model = build_and_compile_model(normalizer, \"elu\")\n",
    "elu_dnn_model.summary()\n",
    "\n",
    "history = elu_dnn_model.fit(\n",
    "    X_train,\n",
    "    y_train,\n",
    "    validation_split=0.2,\n",
    "    verbose=0, epochs=100)\n",
    "\n",
    "plot_loss(history)"
   ]
  },
  {
   "cell_type": "code",
   "execution_count": 40,
   "metadata": {},
   "outputs": [
    {
     "name": "stdout",
     "output_type": "stream",
     "text": [
      "379/379 [==============================] - 1s 2ms/step\n",
      "379/379 [==============================] - 1s 2ms/step\n",
      "379/379 [==============================] - 1s 2ms/step\n",
      "1515/1515 [==============================] - 2s 1ms/step\n",
      "379/379 [==============================] - 1s 1ms/step\n",
      "MSE (Train): 5316.102072135901\n",
      "MSE (Test): 5795.132744967051\n",
      "RMSE (Train): 72.9116045094051\n",
      "RMSE (Test): 76.12576925698059\n",
      "R2 (Train): 0.9712840898805045\n",
      "R2 (Test): 0.967955660987364\n",
      "Adj R2 (Train): 0.97109317549427\n",
      "Adj R2 (Test): 0.9677426179290235\n",
      "INFO:tensorflow:Assets written to: .\\trained_models\\DNN (eLU)\\assets\n"
     ]
    },
    {
     "name": "stderr",
     "output_type": "stream",
     "text": [
      "INFO:tensorflow:Assets written to: .\\trained_models\\DNN (eLU)\\assets\n"
     ]
    }
   ],
   "source": [
    "best_model = get_best_model(elu_dnn_model, best_model)\n",
    "res_val = perform_eval(elu_dnn_model, \"DNN (eLU)\")\n",
    "for key in res_val:\n",
    "    print(f\"{key}: {res_val[key]}\")\n",
    "\n",
    "filename = 'DNN (eLU)'\n",
    "save_location = os.path.join(\".\",\"trained_models\", filename)\n",
    "elu_dnn_model.save(save_location)"
   ]
  },
  {
   "cell_type": "code",
   "execution_count": 27,
   "metadata": {},
   "outputs": [
    {
     "name": "stdout",
     "output_type": "stream",
     "text": [
      "Model: \"sequential_4\"\n",
      "_________________________________________________________________\n",
      " Layer (type)                Output Shape              Param #   \n",
      "=================================================================\n",
      " normalization (Normalizatio  (None, 80)               161       \n",
      " n)                                                              \n",
      "                                                                 \n",
      " dense_12 (Dense)            (None, 64)                5184      \n",
      "                                                                 \n",
      " dense_13 (Dense)            (None, 64)                4160      \n",
      "                                                                 \n",
      " dense_14 (Dense)            (None, 1)                 65        \n",
      "                                                                 \n",
      "=================================================================\n",
      "Total params: 9,570\n",
      "Trainable params: 9,409\n",
      "Non-trainable params: 161\n",
      "_________________________________________________________________\n"
     ]
    },
    {
     "data": {
      "image/png": "[encoded data removed]",
      "text/plain": [
       "<Figure size 432x288 with 1 Axes>"
      ]
     },
     "metadata": {
      "needs_background": "light"
     },
     "output_type": "display_data"
    }
   ],
   "source": [
    "relu_dnn_model = build_and_compile_model(normalizer, \"relu\")\n",
    "relu_dnn_model.summary()\n",
    "\n",
    "history = relu_dnn_model.fit(\n",
    "    X_train,\n",
    "    y_train,\n",
    "    validation_split=0.2,\n",
    "    verbose=0, epochs=100)\n",
    "\n",
    "plot_loss(history)"
   ]
  },
  {
   "cell_type": "code",
   "execution_count": 41,
   "metadata": {},
   "outputs": [
    {
     "name": "stdout",
     "output_type": "stream",
     "text": [
      "379/379 [==============================] - 1s 2ms/step\n",
      "379/379 [==============================] - 1s 1ms/step\n",
      "379/379 [==============================] - 1s 2ms/step\n",
      "1515/1515 [==============================] - 2s 1ms/step\n",
      "379/379 [==============================] - 1s 1ms/step\n",
      "MSE (Train): 5398.465903593392\n",
      "MSE (Test): 5882.6361593077\n",
      "RMSE (Train): 73.47425333811424\n",
      "RMSE (Test): 76.69834521883571\n",
      "R2 (Train): 0.9708391863874682\n",
      "R2 (Test): 0.9674718085551086\n",
      "Adj R2 (Train): 0.9706453141121418\n",
      "Adj R2 (Test): 0.967255548660187\n",
      "INFO:tensorflow:Assets written to: .\\trained_models\\DNN (ReLU)\\assets\n"
     ]
    },
    {
     "name": "stderr",
     "output_type": "stream",
     "text": [
      "INFO:tensorflow:Assets written to: .\\trained_models\\DNN (ReLU)\\assets\n"
     ]
    }
   ],
   "source": [
    "best_model = get_best_model(relu_dnn_model, best_model)\n",
    "res_val = perform_eval(relu_dnn_model, \"DNN (ReLU)\")\n",
    "for key in res_val:\n",
    "    print(f\"{key}: {res_val[key]}\")\n",
    "\n",
    "filename = 'DNN (ReLU)'\n",
    "save_location = os.path.join(\".\",\"trained_models\", filename)\n",
    "relu_dnn_model.save(save_location)"
   ]
  },
  {
   "cell_type": "code",
   "execution_count": 29,
   "metadata": {},
   "outputs": [
    {
     "name": "stdout",
     "output_type": "stream",
     "text": [
      "Model: \"sequential_5\"\n",
      "_________________________________________________________________\n",
      " Layer (type)                Output Shape              Param #   \n",
      "=================================================================\n",
      " normalization (Normalizatio  (None, 80)               161       \n",
      " n)                                                              \n",
      "                                                                 \n",
      " dense_15 (Dense)            (None, 64)                5184      \n",
      "                                                                 \n",
      " dense_16 (Dense)            (None, 64)                4160      \n",
      "                                                                 \n",
      " dense_17 (Dense)            (None, 1)                 65        \n",
      "                                                                 \n",
      "=================================================================\n",
      "Total params: 9,570\n",
      "Trainable params: 9,409\n",
      "Non-trainable params: 161\n",
      "_________________________________________________________________\n"
     ]
    },
    {
     "data": {
      "image/png": "[encoded data removed]",
      "text/plain": [
       "<Figure size 432x288 with 1 Axes>"
      ]
     },
     "metadata": {
      "needs_background": "light"
     },
     "output_type": "display_data"
    }
   ],
   "source": [
    "gelu_dnn_model = build_and_compile_model(normalizer, \"gelu\")\n",
    "gelu_dnn_model.summary()\n",
    "\n",
    "history = gelu_dnn_model.fit(\n",
    "    X_train,\n",
    "    y_train,\n",
    "    validation_split=0.2,\n",
    "    verbose=0, epochs=100)\n",
    "\n",
    "plot_loss(history)"
   ]
  },
  {
   "cell_type": "code",
   "execution_count": 42,
   "metadata": {},
   "outputs": [
    {
     "name": "stdout",
     "output_type": "stream",
     "text": [
      "379/379 [==============================] - 1s 2ms/step\n",
      "379/379 [==============================] - 1s 2ms/step\n",
      "379/379 [==============================] - 1s 2ms/step\n",
      "1515/1515 [==============================] - 2s 2ms/step\n",
      "379/379 [==============================] - 1s 2ms/step\n",
      "MSE (Train): 5703.629674740745\n",
      "MSE (Test): 6239.575790459738\n",
      "RMSE (Train): 75.52237863534718\n",
      "RMSE (Test): 78.99098550125665\n",
      "R2 (Train): 0.96919078774781\n",
      "R2 (Test): 0.965498101471761\n",
      "Adj R2 (Train): 0.968985956285982\n",
      "Adj R2 (Test): 0.965268719615012\n",
      "INFO:tensorflow:Assets written to: .\\trained_models\\DNN (GeLU)\\assets\n"
     ]
    },
    {
     "name": "stderr",
     "output_type": "stream",
     "text": [
      "INFO:tensorflow:Assets written to: .\\trained_models\\DNN (GeLU)\\assets\n"
     ]
    }
   ],
   "source": [
    "best_model = get_best_model(gelu_dnn_model, best_model)\n",
    "res_val = perform_eval(gelu_dnn_model, \"DNN (GeLU)\")\n",
    "for key in res_val:\n",
    "    print(f\"{key}: {res_val[key]}\")\n",
    "\n",
    "filename = 'DNN (GeLU)'\n",
    "save_location = os.path.join(\".\",\"trained_models\", filename)\n",
    "gelu_dnn_model.save(save_location)"
   ]
  },
  {
   "cell_type": "code",
   "execution_count": 31,
   "metadata": {},
   "outputs": [
    {
     "name": "stdout",
     "output_type": "stream",
     "text": [
      "Model: \"sequential_6\"\n",
      "_________________________________________________________________\n",
      " Layer (type)                Output Shape              Param #   \n",
      "=================================================================\n",
      " normalization (Normalizatio  (None, 80)               161       \n",
      " n)                                                              \n",
      "                                                                 \n",
      " dense_18 (Dense)            (None, 64)                5184      \n",
      "                                                                 \n",
      " dense_19 (Dense)            (None, 64)                4160      \n",
      "                                                                 \n",
      " dense_20 (Dense)            (None, 1)                 65        \n",
      "                                                                 \n",
      "=================================================================\n",
      "Total params: 9,570\n",
      "Trainable params: 9,409\n",
      "Non-trainable params: 161\n",
      "_________________________________________________________________\n"
     ]
    },
    {
     "data": {
      "image/png": "[encoded data removed]",
      "text/plain": [
       "<Figure size 432x288 with 1 Axes>"
      ]
     },
     "metadata": {
      "needs_background": "light"
     },
     "output_type": "display_data"
    }
   ],
   "source": [
    "selu_dnn_model = build_and_compile_model(normalizer, \"selu\")\n",
    "selu_dnn_model.summary()\n",
    "\n",
    "history = selu_dnn_model.fit(\n",
    "    X_train,\n",
    "    y_train,\n",
    "    validation_split=0.2,\n",
    "    verbose=0, epochs=100)\n",
    "\n",
    "plot_loss(history)"
   ]
  },
  {
   "cell_type": "code",
   "execution_count": 43,
   "metadata": {},
   "outputs": [
    {
     "name": "stdout",
     "output_type": "stream",
     "text": [
      "379/379 [==============================] - 1s 2ms/step\n",
      "379/379 [==============================] - 1s 2ms/step\n",
      "379/379 [==============================] - 1s 1ms/step\n",
      "1515/1515 [==============================] - 2s 1ms/step\n",
      "379/379 [==============================] - 1s 2ms/step\n",
      "MSE (Train): 6099.625969217264\n",
      "MSE (Test): 6631.036600857908\n",
      "RMSE (Train): 78.100102235639\n",
      "RMSE (Test): 81.43117708137288\n",
      "R2 (Train): 0.9670517404071948\n",
      "R2 (Test): 0.9633335086193445\n",
      "Adj R2 (Train): 0.9668326877380828\n",
      "Adj R2 (Test): 0.9630897357189496\n",
      "INFO:tensorflow:Assets written to: .\\trained_models\\DNN (SeLU)\\assets\n"
     ]
    },
    {
     "name": "stderr",
     "output_type": "stream",
     "text": [
      "INFO:tensorflow:Assets written to: .\\trained_models\\DNN (SeLU)\\assets\n"
     ]
    }
   ],
   "source": [
    "best_model = get_best_model(selu_dnn_model, best_model)\n",
    "res_val = perform_eval(selu_dnn_model, \"DNN (SeLU)\")\n",
    "for key in res_val:\n",
    "    print(f\"{key}: {res_val[key]}\")\n",
    "\n",
    "filename = 'DNN (SeLU)'\n",
    "save_location = os.path.join(\".\",\"trained_models\", filename)\n",
    "selu_dnn_model.save(save_location)"
   ]
  },
  {
   "cell_type": "code",
   "execution_count": 33,
   "metadata": {},
   "outputs": [
    {
     "name": "stdout",
     "output_type": "stream",
     "text": [
      "Model: \"sequential_7\"\n",
      "_________________________________________________________________\n",
      " Layer (type)                Output Shape              Param #   \n",
      "=================================================================\n",
      " normalization (Normalizatio  (None, 80)               161       \n",
      " n)                                                              \n",
      "                                                                 \n",
      " dense_21 (Dense)            (None, 64)                5184      \n",
      "                                                                 \n",
      " dense_22 (Dense)            (None, 64)                4160      \n",
      "                                                                 \n",
      " dense_23 (Dense)            (None, 1)                 65        \n",
      "                                                                 \n",
      "=================================================================\n",
      "Total params: 9,570\n",
      "Trainable params: 9,409\n",
      "Non-trainable params: 161\n",
      "_________________________________________________________________\n"
     ]
    },
    {
     "data": {
      "image/png": "[encoded data removed]",
      "text/plain": [
       "<Figure size 432x288 with 1 Axes>"
      ]
     },
     "metadata": {
      "needs_background": "light"
     },
     "output_type": "display_data"
    }
   ],
   "source": [
    "leaky_relu_dnn_model = build_and_compile_model(normalizer, \"leaky_relu\")\n",
    "leaky_relu_dnn_model.summary()\n",
    "\n",
    "history = leaky_relu_dnn_model.fit(\n",
    "    X_train,\n",
    "    y_train,\n",
    "    validation_split=0.2,\n",
    "    verbose=0, epochs=100)\n",
    "\n",
    "plot_loss(history)"
   ]
  },
  {
   "cell_type": "code",
   "execution_count": 44,
   "metadata": {},
   "outputs": [
    {
     "name": "stdout",
     "output_type": "stream",
     "text": [
      "379/379 [==============================] - 1s 2ms/step\n",
      "379/379 [==============================] - 1s 1ms/step\n",
      "379/379 [==============================] - 1s 1ms/step\n",
      "1515/1515 [==============================] - 2s 2ms/step\n",
      "379/379 [==============================] - 1s 1ms/step\n",
      "MSE (Train): 9995.327630083093\n",
      "MSE (Test): 10112.913536930662\n",
      "RMSE (Train): 99.97663542089768\n",
      "RMSE (Test): 100.56298293572372\n",
      "R2 (Train): 0.9460083862300531\n",
      "R2 (Test): 0.9440803784754848\n",
      "Adj R2 (Train): 0.9456494292698939\n",
      "Adj R2 (Test): 0.9437086033801668\n"
     ]
    },
    {
     "name": "stderr",
     "output_type": "stream",
     "text": [
      "WARNING:absl:Found untraced functions such as leaky_re_lu_layer_call_fn, leaky_re_lu_layer_call_and_return_conditional_losses, leaky_re_lu_1_layer_call_fn, leaky_re_lu_1_layer_call_and_return_conditional_losses while saving (showing 4 of 4). These functions will not be directly callable after loading.\n"
     ]
    },
    {
     "name": "stdout",
     "output_type": "stream",
     "text": [
      "INFO:tensorflow:Assets written to: .\\trained_models\\DNN (Leaky ReLU)\\assets\n"
     ]
    },
    {
     "name": "stderr",
     "output_type": "stream",
     "text": [
      "INFO:tensorflow:Assets written to: .\\trained_models\\DNN (Leaky ReLU)\\assets\n"
     ]
    }
   ],
   "source": [
    "best_model = get_best_model(leaky_relu_dnn_model, best_model)\n",
    "res_val = perform_eval(leaky_relu_dnn_model, \"DNN (Leaky ReLU)\")\n",
    "for key in res_val:\n",
    "    print(f\"{key}: {res_val[key]}\")\n",
    "\n",
    "filename = 'DNN (Leaky ReLU)'\n",
    "save_location = os.path.join(\".\",\"trained_models\", filename)\n",
    "leaky_relu_dnn_model.save(save_location)"
   ]
  },
  {
   "cell_type": "markdown",
   "metadata": {
    "id": "uiCucdPLfMkZ"
   },
   "source": [
    "## Performance"
   ]
  },
  {
   "cell_type": "code",
   "execution_count": 45,
   "metadata": {},
   "outputs": [
    {
     "data": {
      "text/html": [
       "<style type=\"text/css\">\n",
       "</style>\n",
       "<table id=\"T_fd870\" style='display:inline'>\n",
       "  <caption>All Models (Sort by Adj R2 (Test))</caption>\n",
       "  <thead>\n",
       "    <tr>\n",
       "      <th class=\"blank level0\" >&nbsp;</th>\n",
       "      <th id=\"T_fd870_level0_col0\" class=\"col_heading level0 col0\" >Models</th>\n",
       "      <th id=\"T_fd870_level0_col1\" class=\"col_heading level0 col1\" >MSE (Train)</th>\n",
       "      <th id=\"T_fd870_level0_col2\" class=\"col_heading level0 col2\" >MSE (Test)</th>\n",
       "      <th id=\"T_fd870_level0_col3\" class=\"col_heading level0 col3\" >RMSE (Train)</th>\n",
       "      <th id=\"T_fd870_level0_col4\" class=\"col_heading level0 col4\" >RMSE (Test)</th>\n",
       "      <th id=\"T_fd870_level0_col5\" class=\"col_heading level0 col5\" >R2 (Train)</th>\n",
       "      <th id=\"T_fd870_level0_col6\" class=\"col_heading level0 col6\" >R2 (Test)</th>\n",
       "      <th id=\"T_fd870_level0_col7\" class=\"col_heading level0 col7\" >Adj R2 (Train)</th>\n",
       "      <th id=\"T_fd870_level0_col8\" class=\"col_heading level0 col8\" >Adj R2 (Test)</th>\n",
       "    </tr>\n",
       "  </thead>\n",
       "  <tbody>\n",
       "    <tr>\n",
       "      <th id=\"T_fd870_level0_row0\" class=\"row_heading level0 row0\" >3</th>\n",
       "      <td id=\"T_fd870_row0_col0\" class=\"data row0 col0\" >DNN (eLU)</td>\n",
       "      <td id=\"T_fd870_row0_col1\" class=\"data row0 col1\" >5316.102072</td>\n",
       "      <td id=\"T_fd870_row0_col2\" class=\"data row0 col2\" >5795.132745</td>\n",
       "      <td id=\"T_fd870_row0_col3\" class=\"data row0 col3\" >72.911605</td>\n",
       "      <td id=\"T_fd870_row0_col4\" class=\"data row0 col4\" >76.125769</td>\n",
       "      <td id=\"T_fd870_row0_col5\" class=\"data row0 col5\" >0.971284</td>\n",
       "      <td id=\"T_fd870_row0_col6\" class=\"data row0 col6\" >0.967956</td>\n",
       "      <td id=\"T_fd870_row0_col7\" class=\"data row0 col7\" >0.971093</td>\n",
       "      <td id=\"T_fd870_row0_col8\" class=\"data row0 col8\" >0.967743</td>\n",
       "    </tr>\n",
       "    <tr>\n",
       "      <th id=\"T_fd870_level0_row1\" class=\"row_heading level0 row1\" >4</th>\n",
       "      <td id=\"T_fd870_row1_col0\" class=\"data row1 col0\" >DNN (ReLU)</td>\n",
       "      <td id=\"T_fd870_row1_col1\" class=\"data row1 col1\" >5398.465904</td>\n",
       "      <td id=\"T_fd870_row1_col2\" class=\"data row1 col2\" >5882.636159</td>\n",
       "      <td id=\"T_fd870_row1_col3\" class=\"data row1 col3\" >73.474253</td>\n",
       "      <td id=\"T_fd870_row1_col4\" class=\"data row1 col4\" >76.698345</td>\n",
       "      <td id=\"T_fd870_row1_col5\" class=\"data row1 col5\" >0.970839</td>\n",
       "      <td id=\"T_fd870_row1_col6\" class=\"data row1 col6\" >0.967472</td>\n",
       "      <td id=\"T_fd870_row1_col7\" class=\"data row1 col7\" >0.970645</td>\n",
       "      <td id=\"T_fd870_row1_col8\" class=\"data row1 col8\" >0.967256</td>\n",
       "    </tr>\n",
       "    <tr>\n",
       "      <th id=\"T_fd870_level0_row2\" class=\"row_heading level0 row2\" >2</th>\n",
       "      <td id=\"T_fd870_row2_col0\" class=\"data row2 col0\" >DNN (Swish)</td>\n",
       "      <td id=\"T_fd870_row2_col1\" class=\"data row2 col1\" >5902.273171</td>\n",
       "      <td id=\"T_fd870_row2_col2\" class=\"data row2 col2\" >6225.599025</td>\n",
       "      <td id=\"T_fd870_row2_col3\" class=\"data row2 col3\" >76.826253</td>\n",
       "      <td id=\"T_fd870_row2_col4\" class=\"data row2 col4\" >78.902465</td>\n",
       "      <td id=\"T_fd870_row2_col5\" class=\"data row2 col5\" >0.968118</td>\n",
       "      <td id=\"T_fd870_row2_col6\" class=\"data row2 col6\" >0.965575</td>\n",
       "      <td id=\"T_fd870_row2_col7\" class=\"data row2 col7\" >0.967906</td>\n",
       "      <td id=\"T_fd870_row2_col8\" class=\"data row2 col8\" >0.965347</td>\n",
       "    </tr>\n",
       "    <tr>\n",
       "      <th id=\"T_fd870_level0_row3\" class=\"row_heading level0 row3\" >5</th>\n",
       "      <td id=\"T_fd870_row3_col0\" class=\"data row3 col0\" >DNN (GeLU)</td>\n",
       "      <td id=\"T_fd870_row3_col1\" class=\"data row3 col1\" >5703.629675</td>\n",
       "      <td id=\"T_fd870_row3_col2\" class=\"data row3 col2\" >6239.575790</td>\n",
       "      <td id=\"T_fd870_row3_col3\" class=\"data row3 col3\" >75.522379</td>\n",
       "      <td id=\"T_fd870_row3_col4\" class=\"data row3 col4\" >78.990986</td>\n",
       "      <td id=\"T_fd870_row3_col5\" class=\"data row3 col5\" >0.969191</td>\n",
       "      <td id=\"T_fd870_row3_col6\" class=\"data row3 col6\" >0.965498</td>\n",
       "      <td id=\"T_fd870_row3_col7\" class=\"data row3 col7\" >0.968986</td>\n",
       "      <td id=\"T_fd870_row3_col8\" class=\"data row3 col8\" >0.965269</td>\n",
       "    </tr>\n",
       "    <tr>\n",
       "      <th id=\"T_fd870_level0_row4\" class=\"row_heading level0 row4\" >6</th>\n",
       "      <td id=\"T_fd870_row4_col0\" class=\"data row4 col0\" >DNN (SeLU)</td>\n",
       "      <td id=\"T_fd870_row4_col1\" class=\"data row4 col1\" >6099.625969</td>\n",
       "      <td id=\"T_fd870_row4_col2\" class=\"data row4 col2\" >6631.036601</td>\n",
       "      <td id=\"T_fd870_row4_col3\" class=\"data row4 col3\" >78.100102</td>\n",
       "      <td id=\"T_fd870_row4_col4\" class=\"data row4 col4\" >81.431177</td>\n",
       "      <td id=\"T_fd870_row4_col5\" class=\"data row4 col5\" >0.967052</td>\n",
       "      <td id=\"T_fd870_row4_col6\" class=\"data row4 col6\" >0.963334</td>\n",
       "      <td id=\"T_fd870_row4_col7\" class=\"data row4 col7\" >0.966833</td>\n",
       "      <td id=\"T_fd870_row4_col8\" class=\"data row4 col8\" >0.963090</td>\n",
       "    </tr>\n",
       "    <tr>\n",
       "      <th id=\"T_fd870_level0_row5\" class=\"row_heading level0 row5\" >7</th>\n",
       "      <td id=\"T_fd870_row5_col0\" class=\"data row5 col0\" >DNN (Leaky ReLU)</td>\n",
       "      <td id=\"T_fd870_row5_col1\" class=\"data row5 col1\" >9995.327630</td>\n",
       "      <td id=\"T_fd870_row5_col2\" class=\"data row5 col2\" >10112.913537</td>\n",
       "      <td id=\"T_fd870_row5_col3\" class=\"data row5 col3\" >99.976635</td>\n",
       "      <td id=\"T_fd870_row5_col4\" class=\"data row5 col4\" >100.562983</td>\n",
       "      <td id=\"T_fd870_row5_col5\" class=\"data row5 col5\" >0.946008</td>\n",
       "      <td id=\"T_fd870_row5_col6\" class=\"data row5 col6\" >0.944080</td>\n",
       "      <td id=\"T_fd870_row5_col7\" class=\"data row5 col7\" >0.945649</td>\n",
       "      <td id=\"T_fd870_row5_col8\" class=\"data row5 col8\" >0.943709</td>\n",
       "    </tr>\n",
       "    <tr>\n",
       "      <th id=\"T_fd870_level0_row6\" class=\"row_heading level0 row6\" >0</th>\n",
       "      <td id=\"T_fd870_row6_col0\" class=\"data row6 col0\" >DNN (Sigmoid)</td>\n",
       "      <td id=\"T_fd870_row6_col1\" class=\"data row6 col1\" >22748.244634</td>\n",
       "      <td id=\"T_fd870_row6_col2\" class=\"data row6 col2\" >24694.764459</td>\n",
       "      <td id=\"T_fd870_row6_col3\" class=\"data row6 col3\" >150.825212</td>\n",
       "      <td id=\"T_fd870_row6_col4\" class=\"data row6 col4\" >157.145679</td>\n",
       "      <td id=\"T_fd870_row6_col5\" class=\"data row6 col5\" >0.877121</td>\n",
       "      <td id=\"T_fd870_row6_col6\" class=\"data row6 col6\" >0.863450</td>\n",
       "      <td id=\"T_fd870_row6_col7\" class=\"data row6 col7\" >0.876304</td>\n",
       "      <td id=\"T_fd870_row6_col8\" class=\"data row6 col8\" >0.862542</td>\n",
       "    </tr>\n",
       "    <tr>\n",
       "      <th id=\"T_fd870_level0_row7\" class=\"row_heading level0 row7\" >1</th>\n",
       "      <td id=\"T_fd870_row7_col0\" class=\"data row7 col0\" >DNN (Tanh)</td>\n",
       "      <td id=\"T_fd870_row7_col1\" class=\"data row7 col1\" >31163.247589</td>\n",
       "      <td id=\"T_fd870_row7_col2\" class=\"data row7 col2\" >33717.201326</td>\n",
       "      <td id=\"T_fd870_row7_col3\" class=\"data row7 col3\" >176.531152</td>\n",
       "      <td id=\"T_fd870_row7_col4\" class=\"data row7 col4\" >183.622442</td>\n",
       "      <td id=\"T_fd870_row7_col5\" class=\"data row7 col5\" >0.831666</td>\n",
       "      <td id=\"T_fd870_row7_col6\" class=\"data row7 col6\" >0.813560</td>\n",
       "      <td id=\"T_fd870_row7_col7\" class=\"data row7 col7\" >0.830547</td>\n",
       "      <td id=\"T_fd870_row7_col8\" class=\"data row7 col8\" >0.812320</td>\n",
       "    </tr>\n",
       "  </tbody>\n",
       "</table>\n"
      ],
      "text/plain": [
       "<pandas.io.formats.style.Styler at 0x1549d7c6d70>"
      ]
     },
     "execution_count": 45,
     "metadata": {},
     "output_type": "execute_result"
    }
   ],
   "source": [
    "all_df = compare_results(\"all\")\n",
    "all_df"
   ]
  }
 ],
 "metadata": {
  "colab": {
   "collapsed_sections": [],
   "name": "regression.ipynb",
   "toc_visible": true
  },
  "kernelspec": {
   "display_name": "Python 3.10.2 64-bit",
   "language": "python",
   "name": "python3"
  },
  "language_info": {
   "codemirror_mode": {
    "name": "ipython",
    "version": 3
   },
   "file_extension": ".py",
   "mimetype": "text/x-python",
   "name": "python",
   "nbconvert_exporter": "python",
   "pygments_lexer": "ipython3",
   "version": "3.10.2"
  },
  "vscode": {
   "interpreter": {
    "hash": "54b5c02bac415170f398c1cb9c40d2712252a7d195ee8eb19ed147dda00b9728"
   }
  }
 },
 "nbformat": 4,
 "nbformat_minor": 0
}
