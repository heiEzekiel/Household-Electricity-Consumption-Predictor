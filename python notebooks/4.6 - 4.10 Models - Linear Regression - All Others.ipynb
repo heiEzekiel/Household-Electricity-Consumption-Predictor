{
 "cells": [
  {
   "cell_type": "code",
   "execution_count": 1,
   "id": "03ea0467",
   "metadata": {},
   "outputs": [],
   "source": [
    "import os\n",
    "import pandas as pd\n",
    "import numpy as np\n",
    "import seaborn as sns\n",
    "import matplotlib.pyplot as plt\n",
    "import warnings\n",
    "warnings.filterwarnings('ignore')\n",
    "# to remove warning calls/emitted\n",
    "from sklearn.metrics import r2_score\n",
    "from sklearn.metrics import mean_squared_error\n",
    "from sklearn.model_selection import train_test_split, GridSearchCV\n",
    "import pickle"
   ]
  },
  {
   "cell_type": "code",
   "execution_count": 2,
   "id": "9a5556b2",
   "metadata": {},
   "outputs": [],
   "source": [
    "df = pd.read_excel('./datasets/combined.xlsx', index_col=0)"
   ]
  },
  {
   "cell_type": "code",
   "execution_count": 3,
   "id": "2d6423cb",
   "metadata": {
    "scrolled": false
   },
   "outputs": [
    {
     "data": {
      "text/html": [
       "<div>\n",
       "<style scoped>\n",
       "    .dataframe tbody tr th:only-of-type {\n",
       "        vertical-align: middle;\n",
       "    }\n",
       "\n",
       "    .dataframe tbody tr th {\n",
       "        vertical-align: top;\n",
       "    }\n",
       "\n",
       "    .dataframe thead th {\n",
       "        text-align: right;\n",
       "    }\n",
       "</style>\n",
       "<table border=\"1\" class=\"dataframe\">\n",
       "  <thead>\n",
       "    <tr style=\"text-align: right;\">\n",
       "      <th></th>\n",
       "      <th>Dwelling Type</th>\n",
       "      <th>Year</th>\n",
       "      <th>Month</th>\n",
       "      <th>Region</th>\n",
       "      <th>Towns</th>\n",
       "      <th>Avg kWh</th>\n",
       "      <th>Daily Rainfall Total (mm)</th>\n",
       "      <th>Highest 30 min Rainfall (mm)</th>\n",
       "      <th>Highest 60 min Rainfall (mm)</th>\n",
       "      <th>Highest 120 min Rainfall (mm)</th>\n",
       "      <th>Mean Temperature (°C)</th>\n",
       "      <th>Maximum Temperature (°C)</th>\n",
       "      <th>Minimum Temperature (°C)</th>\n",
       "      <th>Mean Wind Speed (km/h)</th>\n",
       "      <th>Max Wind Speed (km/h)</th>\n",
       "    </tr>\n",
       "  </thead>\n",
       "  <tbody>\n",
       "    <tr>\n",
       "      <th>0</th>\n",
       "      <td>1-room / 2-room</td>\n",
       "      <td>2005</td>\n",
       "      <td>1</td>\n",
       "      <td>Central Region</td>\n",
       "      <td>Bishan</td>\n",
       "      <td>104.9</td>\n",
       "      <td>2.9</td>\n",
       "      <td>3.6</td>\n",
       "      <td>4.4</td>\n",
       "      <td>5.0</td>\n",
       "      <td>27.5</td>\n",
       "      <td>31.3</td>\n",
       "      <td>25.1</td>\n",
       "      <td>7.2</td>\n",
       "      <td>35.3</td>\n",
       "    </tr>\n",
       "    <tr>\n",
       "      <th>1</th>\n",
       "      <td>1-room / 2-room</td>\n",
       "      <td>2005</td>\n",
       "      <td>1</td>\n",
       "      <td>Central Region</td>\n",
       "      <td>Bukit Merah</td>\n",
       "      <td>140.7</td>\n",
       "      <td>2.9</td>\n",
       "      <td>3.6</td>\n",
       "      <td>4.4</td>\n",
       "      <td>5.0</td>\n",
       "      <td>27.5</td>\n",
       "      <td>31.3</td>\n",
       "      <td>25.1</td>\n",
       "      <td>7.2</td>\n",
       "      <td>35.3</td>\n",
       "    </tr>\n",
       "    <tr>\n",
       "      <th>2</th>\n",
       "      <td>1-room / 2-room</td>\n",
       "      <td>2005</td>\n",
       "      <td>1</td>\n",
       "      <td>Central Region</td>\n",
       "      <td>Central Region</td>\n",
       "      <td>136.5</td>\n",
       "      <td>2.9</td>\n",
       "      <td>3.6</td>\n",
       "      <td>4.4</td>\n",
       "      <td>5.0</td>\n",
       "      <td>27.5</td>\n",
       "      <td>31.3</td>\n",
       "      <td>25.1</td>\n",
       "      <td>7.2</td>\n",
       "      <td>35.3</td>\n",
       "    </tr>\n",
       "    <tr>\n",
       "      <th>3</th>\n",
       "      <td>1-room / 2-room</td>\n",
       "      <td>2005</td>\n",
       "      <td>1</td>\n",
       "      <td>Central Region</td>\n",
       "      <td>Geylang</td>\n",
       "      <td>148.5</td>\n",
       "      <td>2.9</td>\n",
       "      <td>3.6</td>\n",
       "      <td>4.4</td>\n",
       "      <td>5.0</td>\n",
       "      <td>27.5</td>\n",
       "      <td>31.3</td>\n",
       "      <td>25.1</td>\n",
       "      <td>7.2</td>\n",
       "      <td>35.3</td>\n",
       "    </tr>\n",
       "    <tr>\n",
       "      <th>4</th>\n",
       "      <td>1-room / 2-room</td>\n",
       "      <td>2005</td>\n",
       "      <td>1</td>\n",
       "      <td>Central Region</td>\n",
       "      <td>Kallang</td>\n",
       "      <td>115.6</td>\n",
       "      <td>2.9</td>\n",
       "      <td>3.6</td>\n",
       "      <td>4.4</td>\n",
       "      <td>5.0</td>\n",
       "      <td>27.5</td>\n",
       "      <td>31.3</td>\n",
       "      <td>25.1</td>\n",
       "      <td>7.2</td>\n",
       "      <td>35.3</td>\n",
       "    </tr>\n",
       "  </tbody>\n",
       "</table>\n",
       "</div>"
      ],
      "text/plain": [
       "     Dwelling Type  Year  Month          Region           Towns  Avg kWh  \\\n",
       "0  1-room / 2-room  2005      1  Central Region          Bishan    104.9   \n",
       "1  1-room / 2-room  2005      1  Central Region     Bukit Merah    140.7   \n",
       "2  1-room / 2-room  2005      1  Central Region  Central Region    136.5   \n",
       "3  1-room / 2-room  2005      1  Central Region         Geylang    148.5   \n",
       "4  1-room / 2-room  2005      1  Central Region         Kallang    115.6   \n",
       "\n",
       "   Daily Rainfall Total (mm)  Highest 30 min Rainfall (mm)  \\\n",
       "0                        2.9                           3.6   \n",
       "1                        2.9                           3.6   \n",
       "2                        2.9                           3.6   \n",
       "3                        2.9                           3.6   \n",
       "4                        2.9                           3.6   \n",
       "\n",
       "   Highest 60 min Rainfall (mm)  Highest 120 min Rainfall (mm)  \\\n",
       "0                           4.4                            5.0   \n",
       "1                           4.4                            5.0   \n",
       "2                           4.4                            5.0   \n",
       "3                           4.4                            5.0   \n",
       "4                           4.4                            5.0   \n",
       "\n",
       "   Mean Temperature (°C)  Maximum Temperature (°C)  Minimum Temperature (°C)  \\\n",
       "0                   27.5                      31.3                      25.1   \n",
       "1                   27.5                      31.3                      25.1   \n",
       "2                   27.5                      31.3                      25.1   \n",
       "3                   27.5                      31.3                      25.1   \n",
       "4                   27.5                      31.3                      25.1   \n",
       "\n",
       "   Mean Wind Speed (km/h)  Max Wind Speed (km/h)  \n",
       "0                     7.2                   35.3  \n",
       "1                     7.2                   35.3  \n",
       "2                     7.2                   35.3  \n",
       "3                     7.2                   35.3  \n",
       "4                     7.2                   35.3  "
      ]
     },
     "execution_count": 3,
     "metadata": {},
     "output_type": "execute_result"
    }
   ],
   "source": [
    "df.head()"
   ]
  },
  {
   "cell_type": "code",
   "execution_count": 4,
   "id": "4a17ce05",
   "metadata": {},
   "outputs": [],
   "source": [
    "df_one_hot_encoded = df.copy()"
   ]
  },
  {
   "cell_type": "code",
   "execution_count": 5,
   "id": "25ec1870",
   "metadata": {},
   "outputs": [
    {
     "data": {
      "text/html": [
       "<div>\n",
       "<style scoped>\n",
       "    .dataframe tbody tr th:only-of-type {\n",
       "        vertical-align: middle;\n",
       "    }\n",
       "\n",
       "    .dataframe tbody tr th {\n",
       "        vertical-align: top;\n",
       "    }\n",
       "\n",
       "    .dataframe thead th {\n",
       "        text-align: right;\n",
       "    }\n",
       "</style>\n",
       "<table border=\"1\" class=\"dataframe\">\n",
       "  <thead>\n",
       "    <tr style=\"text-align: right;\">\n",
       "      <th></th>\n",
       "      <th>Year</th>\n",
       "      <th>Daily Rainfall Total (mm)</th>\n",
       "      <th>Highest 120 min Rainfall (mm)</th>\n",
       "      <th>Mean Temperature (°C)</th>\n",
       "      <th>Maximum Temperature (°C)</th>\n",
       "      <th>Minimum Temperature (°C)</th>\n",
       "      <th>Mean Wind Speed (km/h)</th>\n",
       "      <th>Max Wind Speed (km/h)</th>\n",
       "      <th>Dwelling Type_1-room / 2-room</th>\n",
       "      <th>Dwelling Type_3-room</th>\n",
       "      <th>...</th>\n",
       "      <th>Towns_Tanglin</th>\n",
       "      <th>Towns_Toa Payoh</th>\n",
       "      <th>Towns_West Region</th>\n",
       "      <th>Towns_Woodlands</th>\n",
       "      <th>Towns_Yishun</th>\n",
       "      <th>Region_Central Region</th>\n",
       "      <th>Region_East Region</th>\n",
       "      <th>Region_North East Region</th>\n",
       "      <th>Region_North Region</th>\n",
       "      <th>Region_West Region</th>\n",
       "    </tr>\n",
       "  </thead>\n",
       "  <tbody>\n",
       "    <tr>\n",
       "      <th>0</th>\n",
       "      <td>2005</td>\n",
       "      <td>2.9</td>\n",
       "      <td>5.0</td>\n",
       "      <td>27.5</td>\n",
       "      <td>31.3</td>\n",
       "      <td>25.1</td>\n",
       "      <td>7.2</td>\n",
       "      <td>35.3</td>\n",
       "      <td>1</td>\n",
       "      <td>0</td>\n",
       "      <td>...</td>\n",
       "      <td>0</td>\n",
       "      <td>0</td>\n",
       "      <td>0</td>\n",
       "      <td>0</td>\n",
       "      <td>0</td>\n",
       "      <td>1</td>\n",
       "      <td>0</td>\n",
       "      <td>0</td>\n",
       "      <td>0</td>\n",
       "      <td>0</td>\n",
       "    </tr>\n",
       "    <tr>\n",
       "      <th>1</th>\n",
       "      <td>2005</td>\n",
       "      <td>2.9</td>\n",
       "      <td>5.0</td>\n",
       "      <td>27.5</td>\n",
       "      <td>31.3</td>\n",
       "      <td>25.1</td>\n",
       "      <td>7.2</td>\n",
       "      <td>35.3</td>\n",
       "      <td>1</td>\n",
       "      <td>0</td>\n",
       "      <td>...</td>\n",
       "      <td>0</td>\n",
       "      <td>0</td>\n",
       "      <td>0</td>\n",
       "      <td>0</td>\n",
       "      <td>0</td>\n",
       "      <td>1</td>\n",
       "      <td>0</td>\n",
       "      <td>0</td>\n",
       "      <td>0</td>\n",
       "      <td>0</td>\n",
       "    </tr>\n",
       "    <tr>\n",
       "      <th>2</th>\n",
       "      <td>2005</td>\n",
       "      <td>2.9</td>\n",
       "      <td>5.0</td>\n",
       "      <td>27.5</td>\n",
       "      <td>31.3</td>\n",
       "      <td>25.1</td>\n",
       "      <td>7.2</td>\n",
       "      <td>35.3</td>\n",
       "      <td>1</td>\n",
       "      <td>0</td>\n",
       "      <td>...</td>\n",
       "      <td>0</td>\n",
       "      <td>0</td>\n",
       "      <td>0</td>\n",
       "      <td>0</td>\n",
       "      <td>0</td>\n",
       "      <td>1</td>\n",
       "      <td>0</td>\n",
       "      <td>0</td>\n",
       "      <td>0</td>\n",
       "      <td>0</td>\n",
       "    </tr>\n",
       "    <tr>\n",
       "      <th>3</th>\n",
       "      <td>2005</td>\n",
       "      <td>2.9</td>\n",
       "      <td>5.0</td>\n",
       "      <td>27.5</td>\n",
       "      <td>31.3</td>\n",
       "      <td>25.1</td>\n",
       "      <td>7.2</td>\n",
       "      <td>35.3</td>\n",
       "      <td>1</td>\n",
       "      <td>0</td>\n",
       "      <td>...</td>\n",
       "      <td>0</td>\n",
       "      <td>0</td>\n",
       "      <td>0</td>\n",
       "      <td>0</td>\n",
       "      <td>0</td>\n",
       "      <td>1</td>\n",
       "      <td>0</td>\n",
       "      <td>0</td>\n",
       "      <td>0</td>\n",
       "      <td>0</td>\n",
       "    </tr>\n",
       "    <tr>\n",
       "      <th>4</th>\n",
       "      <td>2005</td>\n",
       "      <td>2.9</td>\n",
       "      <td>5.0</td>\n",
       "      <td>27.5</td>\n",
       "      <td>31.3</td>\n",
       "      <td>25.1</td>\n",
       "      <td>7.2</td>\n",
       "      <td>35.3</td>\n",
       "      <td>1</td>\n",
       "      <td>0</td>\n",
       "      <td>...</td>\n",
       "      <td>0</td>\n",
       "      <td>0</td>\n",
       "      <td>0</td>\n",
       "      <td>0</td>\n",
       "      <td>0</td>\n",
       "      <td>1</td>\n",
       "      <td>0</td>\n",
       "      <td>0</td>\n",
       "      <td>0</td>\n",
       "      <td>0</td>\n",
       "    </tr>\n",
       "    <tr>\n",
       "      <th>...</th>\n",
       "      <td>...</td>\n",
       "      <td>...</td>\n",
       "      <td>...</td>\n",
       "      <td>...</td>\n",
       "      <td>...</td>\n",
       "      <td>...</td>\n",
       "      <td>...</td>\n",
       "      <td>...</td>\n",
       "      <td>...</td>\n",
       "      <td>...</td>\n",
       "      <td>...</td>\n",
       "      <td>...</td>\n",
       "      <td>...</td>\n",
       "      <td>...</td>\n",
       "      <td>...</td>\n",
       "      <td>...</td>\n",
       "      <td>...</td>\n",
       "      <td>...</td>\n",
       "      <td>...</td>\n",
       "      <td>...</td>\n",
       "      <td>...</td>\n",
       "    </tr>\n",
       "    <tr>\n",
       "      <th>60563</th>\n",
       "      <td>2021</td>\n",
       "      <td>9.8</td>\n",
       "      <td>9.4</td>\n",
       "      <td>28.1</td>\n",
       "      <td>32.7</td>\n",
       "      <td>24.5</td>\n",
       "      <td>8.6</td>\n",
       "      <td>31.9</td>\n",
       "      <td>0</td>\n",
       "      <td>0</td>\n",
       "      <td>...</td>\n",
       "      <td>0</td>\n",
       "      <td>0</td>\n",
       "      <td>0</td>\n",
       "      <td>0</td>\n",
       "      <td>0</td>\n",
       "      <td>0</td>\n",
       "      <td>0</td>\n",
       "      <td>0</td>\n",
       "      <td>0</td>\n",
       "      <td>1</td>\n",
       "    </tr>\n",
       "    <tr>\n",
       "      <th>60564</th>\n",
       "      <td>2021</td>\n",
       "      <td>7.5</td>\n",
       "      <td>6.7</td>\n",
       "      <td>28.2</td>\n",
       "      <td>32.1</td>\n",
       "      <td>25.2</td>\n",
       "      <td>4.9</td>\n",
       "      <td>26.5</td>\n",
       "      <td>0</td>\n",
       "      <td>0</td>\n",
       "      <td>...</td>\n",
       "      <td>0</td>\n",
       "      <td>0</td>\n",
       "      <td>0</td>\n",
       "      <td>0</td>\n",
       "      <td>0</td>\n",
       "      <td>0</td>\n",
       "      <td>0</td>\n",
       "      <td>0</td>\n",
       "      <td>0</td>\n",
       "      <td>1</td>\n",
       "    </tr>\n",
       "    <tr>\n",
       "      <th>60565</th>\n",
       "      <td>2021</td>\n",
       "      <td>8.5</td>\n",
       "      <td>7.9</td>\n",
       "      <td>28.2</td>\n",
       "      <td>32.4</td>\n",
       "      <td>24.9</td>\n",
       "      <td>6.7</td>\n",
       "      <td>29.2</td>\n",
       "      <td>0</td>\n",
       "      <td>0</td>\n",
       "      <td>...</td>\n",
       "      <td>0</td>\n",
       "      <td>0</td>\n",
       "      <td>0</td>\n",
       "      <td>0</td>\n",
       "      <td>0</td>\n",
       "      <td>0</td>\n",
       "      <td>0</td>\n",
       "      <td>0</td>\n",
       "      <td>0</td>\n",
       "      <td>1</td>\n",
       "    </tr>\n",
       "    <tr>\n",
       "      <th>60566</th>\n",
       "      <td>2021</td>\n",
       "      <td>8.5</td>\n",
       "      <td>7.9</td>\n",
       "      <td>28.2</td>\n",
       "      <td>32.4</td>\n",
       "      <td>24.9</td>\n",
       "      <td>6.7</td>\n",
       "      <td>29.2</td>\n",
       "      <td>0</td>\n",
       "      <td>0</td>\n",
       "      <td>...</td>\n",
       "      <td>0</td>\n",
       "      <td>0</td>\n",
       "      <td>0</td>\n",
       "      <td>0</td>\n",
       "      <td>0</td>\n",
       "      <td>0</td>\n",
       "      <td>0</td>\n",
       "      <td>0</td>\n",
       "      <td>0</td>\n",
       "      <td>1</td>\n",
       "    </tr>\n",
       "    <tr>\n",
       "      <th>60567</th>\n",
       "      <td>2021</td>\n",
       "      <td>8.5</td>\n",
       "      <td>7.9</td>\n",
       "      <td>28.2</td>\n",
       "      <td>32.4</td>\n",
       "      <td>24.9</td>\n",
       "      <td>6.7</td>\n",
       "      <td>29.2</td>\n",
       "      <td>0</td>\n",
       "      <td>0</td>\n",
       "      <td>...</td>\n",
       "      <td>0</td>\n",
       "      <td>0</td>\n",
       "      <td>1</td>\n",
       "      <td>0</td>\n",
       "      <td>0</td>\n",
       "      <td>0</td>\n",
       "      <td>0</td>\n",
       "      <td>0</td>\n",
       "      <td>0</td>\n",
       "      <td>1</td>\n",
       "    </tr>\n",
       "  </tbody>\n",
       "</table>\n",
       "<p>60568 rows × 80 columns</p>\n",
       "</div>"
      ],
      "text/plain": [
       "       Year  Daily Rainfall Total (mm)  Highest 120 min Rainfall (mm)  \\\n",
       "0      2005                        2.9                            5.0   \n",
       "1      2005                        2.9                            5.0   \n",
       "2      2005                        2.9                            5.0   \n",
       "3      2005                        2.9                            5.0   \n",
       "4      2005                        2.9                            5.0   \n",
       "...     ...                        ...                            ...   \n",
       "60563  2021                        9.8                            9.4   \n",
       "60564  2021                        7.5                            6.7   \n",
       "60565  2021                        8.5                            7.9   \n",
       "60566  2021                        8.5                            7.9   \n",
       "60567  2021                        8.5                            7.9   \n",
       "\n",
       "       Mean Temperature (°C)  Maximum Temperature (°C)  \\\n",
       "0                       27.5                      31.3   \n",
       "1                       27.5                      31.3   \n",
       "2                       27.5                      31.3   \n",
       "3                       27.5                      31.3   \n",
       "4                       27.5                      31.3   \n",
       "...                      ...                       ...   \n",
       "60563                   28.1                      32.7   \n",
       "60564                   28.2                      32.1   \n",
       "60565                   28.2                      32.4   \n",
       "60566                   28.2                      32.4   \n",
       "60567                   28.2                      32.4   \n",
       "\n",
       "       Minimum Temperature (°C)  Mean Wind Speed (km/h)  \\\n",
       "0                          25.1                     7.2   \n",
       "1                          25.1                     7.2   \n",
       "2                          25.1                     7.2   \n",
       "3                          25.1                     7.2   \n",
       "4                          25.1                     7.2   \n",
       "...                         ...                     ...   \n",
       "60563                      24.5                     8.6   \n",
       "60564                      25.2                     4.9   \n",
       "60565                      24.9                     6.7   \n",
       "60566                      24.9                     6.7   \n",
       "60567                      24.9                     6.7   \n",
       "\n",
       "       Max Wind Speed (km/h)  Dwelling Type_1-room / 2-room  \\\n",
       "0                       35.3                              1   \n",
       "1                       35.3                              1   \n",
       "2                       35.3                              1   \n",
       "3                       35.3                              1   \n",
       "4                       35.3                              1   \n",
       "...                      ...                            ...   \n",
       "60563                   31.9                              0   \n",
       "60564                   26.5                              0   \n",
       "60565                   29.2                              0   \n",
       "60566                   29.2                              0   \n",
       "60567                   29.2                              0   \n",
       "\n",
       "       Dwelling Type_3-room  ...  Towns_Tanglin  Towns_Toa Payoh  \\\n",
       "0                         0  ...              0                0   \n",
       "1                         0  ...              0                0   \n",
       "2                         0  ...              0                0   \n",
       "3                         0  ...              0                0   \n",
       "4                         0  ...              0                0   \n",
       "...                     ...  ...            ...              ...   \n",
       "60563                     0  ...              0                0   \n",
       "60564                     0  ...              0                0   \n",
       "60565                     0  ...              0                0   \n",
       "60566                     0  ...              0                0   \n",
       "60567                     0  ...              0                0   \n",
       "\n",
       "       Towns_West Region  Towns_Woodlands  Towns_Yishun  \\\n",
       "0                      0                0             0   \n",
       "1                      0                0             0   \n",
       "2                      0                0             0   \n",
       "3                      0                0             0   \n",
       "4                      0                0             0   \n",
       "...                  ...              ...           ...   \n",
       "60563                  0                0             0   \n",
       "60564                  0                0             0   \n",
       "60565                  0                0             0   \n",
       "60566                  0                0             0   \n",
       "60567                  1                0             0   \n",
       "\n",
       "       Region_Central Region  Region_East Region  Region_North East Region  \\\n",
       "0                          1                   0                         0   \n",
       "1                          1                   0                         0   \n",
       "2                          1                   0                         0   \n",
       "3                          1                   0                         0   \n",
       "4                          1                   0                         0   \n",
       "...                      ...                 ...                       ...   \n",
       "60563                      0                   0                         0   \n",
       "60564                      0                   0                         0   \n",
       "60565                      0                   0                         0   \n",
       "60566                      0                   0                         0   \n",
       "60567                      0                   0                         0   \n",
       "\n",
       "       Region_North Region  Region_West Region  \n",
       "0                        0                   0  \n",
       "1                        0                   0  \n",
       "2                        0                   0  \n",
       "3                        0                   0  \n",
       "4                        0                   0  \n",
       "...                    ...                 ...  \n",
       "60563                    0                   1  \n",
       "60564                    0                   1  \n",
       "60565                    0                   1  \n",
       "60566                    0                   1  \n",
       "60567                    0                   1  \n",
       "\n",
       "[60568 rows x 80 columns]"
      ]
     },
     "execution_count": 5,
     "metadata": {},
     "output_type": "execute_result"
    }
   ],
   "source": [
    "features_df = pd.get_dummies(df_one_hot_encoded, columns=['Dwelling Type', 'Month', 'Towns', 'Region'])\n",
    "del features_df['Avg kWh']\n",
    "del features_df['Highest 30 min Rainfall (mm)']\n",
    "del features_df['Highest 60 min Rainfall (mm)']\n",
    "features_df"
   ]
  },
  {
   "cell_type": "code",
   "execution_count": 6,
   "id": "2fe8d0f1",
   "metadata": {},
   "outputs": [],
   "source": [
    "# apply normalization techniques\n",
    "for column in features_df.columns:\n",
    "    features_df[column] = (features_df[column] - features_df[column].min()) / (features_df[column].max() - features_df[column].min())"
   ]
  },
  {
   "cell_type": "code",
   "execution_count": 7,
   "id": "9fd14154",
   "metadata": {},
   "outputs": [
    {
     "data": {
      "text/html": [
       "<div>\n",
       "<style scoped>\n",
       "    .dataframe tbody tr th:only-of-type {\n",
       "        vertical-align: middle;\n",
       "    }\n",
       "\n",
       "    .dataframe tbody tr th {\n",
       "        vertical-align: top;\n",
       "    }\n",
       "\n",
       "    .dataframe thead th {\n",
       "        text-align: right;\n",
       "    }\n",
       "</style>\n",
       "<table border=\"1\" class=\"dataframe\">\n",
       "  <thead>\n",
       "    <tr style=\"text-align: right;\">\n",
       "      <th></th>\n",
       "      <th>Year</th>\n",
       "      <th>Daily Rainfall Total (mm)</th>\n",
       "      <th>Highest 120 min Rainfall (mm)</th>\n",
       "      <th>Mean Temperature (°C)</th>\n",
       "      <th>Maximum Temperature (°C)</th>\n",
       "      <th>Minimum Temperature (°C)</th>\n",
       "      <th>Mean Wind Speed (km/h)</th>\n",
       "      <th>Max Wind Speed (km/h)</th>\n",
       "      <th>Dwelling Type_1-room / 2-room</th>\n",
       "      <th>Dwelling Type_3-room</th>\n",
       "      <th>...</th>\n",
       "      <th>Towns_Tanglin</th>\n",
       "      <th>Towns_Toa Payoh</th>\n",
       "      <th>Towns_West Region</th>\n",
       "      <th>Towns_Woodlands</th>\n",
       "      <th>Towns_Yishun</th>\n",
       "      <th>Region_Central Region</th>\n",
       "      <th>Region_East Region</th>\n",
       "      <th>Region_North East Region</th>\n",
       "      <th>Region_North Region</th>\n",
       "      <th>Region_West Region</th>\n",
       "    </tr>\n",
       "  </thead>\n",
       "  <tbody>\n",
       "    <tr>\n",
       "      <th>0</th>\n",
       "      <td>0.0</td>\n",
       "      <td>0.044892</td>\n",
       "      <td>0.206612</td>\n",
       "      <td>0.519231</td>\n",
       "      <td>0.416667</td>\n",
       "      <td>0.574468</td>\n",
       "      <td>0.238095</td>\n",
       "      <td>0.452273</td>\n",
       "      <td>1.0</td>\n",
       "      <td>0.0</td>\n",
       "      <td>...</td>\n",
       "      <td>0.0</td>\n",
       "      <td>0.0</td>\n",
       "      <td>0.0</td>\n",
       "      <td>0.0</td>\n",
       "      <td>0.0</td>\n",
       "      <td>1.0</td>\n",
       "      <td>0.0</td>\n",
       "      <td>0.0</td>\n",
       "      <td>0.0</td>\n",
       "      <td>0.0</td>\n",
       "    </tr>\n",
       "    <tr>\n",
       "      <th>1</th>\n",
       "      <td>0.0</td>\n",
       "      <td>0.044892</td>\n",
       "      <td>0.206612</td>\n",
       "      <td>0.519231</td>\n",
       "      <td>0.416667</td>\n",
       "      <td>0.574468</td>\n",
       "      <td>0.238095</td>\n",
       "      <td>0.452273</td>\n",
       "      <td>1.0</td>\n",
       "      <td>0.0</td>\n",
       "      <td>...</td>\n",
       "      <td>0.0</td>\n",
       "      <td>0.0</td>\n",
       "      <td>0.0</td>\n",
       "      <td>0.0</td>\n",
       "      <td>0.0</td>\n",
       "      <td>1.0</td>\n",
       "      <td>0.0</td>\n",
       "      <td>0.0</td>\n",
       "      <td>0.0</td>\n",
       "      <td>0.0</td>\n",
       "    </tr>\n",
       "    <tr>\n",
       "      <th>2</th>\n",
       "      <td>0.0</td>\n",
       "      <td>0.044892</td>\n",
       "      <td>0.206612</td>\n",
       "      <td>0.519231</td>\n",
       "      <td>0.416667</td>\n",
       "      <td>0.574468</td>\n",
       "      <td>0.238095</td>\n",
       "      <td>0.452273</td>\n",
       "      <td>1.0</td>\n",
       "      <td>0.0</td>\n",
       "      <td>...</td>\n",
       "      <td>0.0</td>\n",
       "      <td>0.0</td>\n",
       "      <td>0.0</td>\n",
       "      <td>0.0</td>\n",
       "      <td>0.0</td>\n",
       "      <td>1.0</td>\n",
       "      <td>0.0</td>\n",
       "      <td>0.0</td>\n",
       "      <td>0.0</td>\n",
       "      <td>0.0</td>\n",
       "    </tr>\n",
       "    <tr>\n",
       "      <th>3</th>\n",
       "      <td>0.0</td>\n",
       "      <td>0.044892</td>\n",
       "      <td>0.206612</td>\n",
       "      <td>0.519231</td>\n",
       "      <td>0.416667</td>\n",
       "      <td>0.574468</td>\n",
       "      <td>0.238095</td>\n",
       "      <td>0.452273</td>\n",
       "      <td>1.0</td>\n",
       "      <td>0.0</td>\n",
       "      <td>...</td>\n",
       "      <td>0.0</td>\n",
       "      <td>0.0</td>\n",
       "      <td>0.0</td>\n",
       "      <td>0.0</td>\n",
       "      <td>0.0</td>\n",
       "      <td>1.0</td>\n",
       "      <td>0.0</td>\n",
       "      <td>0.0</td>\n",
       "      <td>0.0</td>\n",
       "      <td>0.0</td>\n",
       "    </tr>\n",
       "    <tr>\n",
       "      <th>4</th>\n",
       "      <td>0.0</td>\n",
       "      <td>0.044892</td>\n",
       "      <td>0.206612</td>\n",
       "      <td>0.519231</td>\n",
       "      <td>0.416667</td>\n",
       "      <td>0.574468</td>\n",
       "      <td>0.238095</td>\n",
       "      <td>0.452273</td>\n",
       "      <td>1.0</td>\n",
       "      <td>0.0</td>\n",
       "      <td>...</td>\n",
       "      <td>0.0</td>\n",
       "      <td>0.0</td>\n",
       "      <td>0.0</td>\n",
       "      <td>0.0</td>\n",
       "      <td>0.0</td>\n",
       "      <td>1.0</td>\n",
       "      <td>0.0</td>\n",
       "      <td>0.0</td>\n",
       "      <td>0.0</td>\n",
       "      <td>0.0</td>\n",
       "    </tr>\n",
       "    <tr>\n",
       "      <th>...</th>\n",
       "      <td>...</td>\n",
       "      <td>...</td>\n",
       "      <td>...</td>\n",
       "      <td>...</td>\n",
       "      <td>...</td>\n",
       "      <td>...</td>\n",
       "      <td>...</td>\n",
       "      <td>...</td>\n",
       "      <td>...</td>\n",
       "      <td>...</td>\n",
       "      <td>...</td>\n",
       "      <td>...</td>\n",
       "      <td>...</td>\n",
       "      <td>...</td>\n",
       "      <td>...</td>\n",
       "      <td>...</td>\n",
       "      <td>...</td>\n",
       "      <td>...</td>\n",
       "      <td>...</td>\n",
       "      <td>...</td>\n",
       "      <td>...</td>\n",
       "    </tr>\n",
       "    <tr>\n",
       "      <th>60563</th>\n",
       "      <td>1.0</td>\n",
       "      <td>0.151703</td>\n",
       "      <td>0.388430</td>\n",
       "      <td>0.634615</td>\n",
       "      <td>0.650000</td>\n",
       "      <td>0.446809</td>\n",
       "      <td>0.321429</td>\n",
       "      <td>0.375000</td>\n",
       "      <td>0.0</td>\n",
       "      <td>0.0</td>\n",
       "      <td>...</td>\n",
       "      <td>0.0</td>\n",
       "      <td>0.0</td>\n",
       "      <td>0.0</td>\n",
       "      <td>0.0</td>\n",
       "      <td>0.0</td>\n",
       "      <td>0.0</td>\n",
       "      <td>0.0</td>\n",
       "      <td>0.0</td>\n",
       "      <td>0.0</td>\n",
       "      <td>1.0</td>\n",
       "    </tr>\n",
       "    <tr>\n",
       "      <th>60564</th>\n",
       "      <td>1.0</td>\n",
       "      <td>0.116099</td>\n",
       "      <td>0.276860</td>\n",
       "      <td>0.653846</td>\n",
       "      <td>0.550000</td>\n",
       "      <td>0.595745</td>\n",
       "      <td>0.101190</td>\n",
       "      <td>0.252273</td>\n",
       "      <td>0.0</td>\n",
       "      <td>0.0</td>\n",
       "      <td>...</td>\n",
       "      <td>0.0</td>\n",
       "      <td>0.0</td>\n",
       "      <td>0.0</td>\n",
       "      <td>0.0</td>\n",
       "      <td>0.0</td>\n",
       "      <td>0.0</td>\n",
       "      <td>0.0</td>\n",
       "      <td>0.0</td>\n",
       "      <td>0.0</td>\n",
       "      <td>1.0</td>\n",
       "    </tr>\n",
       "    <tr>\n",
       "      <th>60565</th>\n",
       "      <td>1.0</td>\n",
       "      <td>0.131579</td>\n",
       "      <td>0.326446</td>\n",
       "      <td>0.653846</td>\n",
       "      <td>0.600000</td>\n",
       "      <td>0.531915</td>\n",
       "      <td>0.208333</td>\n",
       "      <td>0.313636</td>\n",
       "      <td>0.0</td>\n",
       "      <td>0.0</td>\n",
       "      <td>...</td>\n",
       "      <td>0.0</td>\n",
       "      <td>0.0</td>\n",
       "      <td>0.0</td>\n",
       "      <td>0.0</td>\n",
       "      <td>0.0</td>\n",
       "      <td>0.0</td>\n",
       "      <td>0.0</td>\n",
       "      <td>0.0</td>\n",
       "      <td>0.0</td>\n",
       "      <td>1.0</td>\n",
       "    </tr>\n",
       "    <tr>\n",
       "      <th>60566</th>\n",
       "      <td>1.0</td>\n",
       "      <td>0.131579</td>\n",
       "      <td>0.326446</td>\n",
       "      <td>0.653846</td>\n",
       "      <td>0.600000</td>\n",
       "      <td>0.531915</td>\n",
       "      <td>0.208333</td>\n",
       "      <td>0.313636</td>\n",
       "      <td>0.0</td>\n",
       "      <td>0.0</td>\n",
       "      <td>...</td>\n",
       "      <td>0.0</td>\n",
       "      <td>0.0</td>\n",
       "      <td>0.0</td>\n",
       "      <td>0.0</td>\n",
       "      <td>0.0</td>\n",
       "      <td>0.0</td>\n",
       "      <td>0.0</td>\n",
       "      <td>0.0</td>\n",
       "      <td>0.0</td>\n",
       "      <td>1.0</td>\n",
       "    </tr>\n",
       "    <tr>\n",
       "      <th>60567</th>\n",
       "      <td>1.0</td>\n",
       "      <td>0.131579</td>\n",
       "      <td>0.326446</td>\n",
       "      <td>0.653846</td>\n",
       "      <td>0.600000</td>\n",
       "      <td>0.531915</td>\n",
       "      <td>0.208333</td>\n",
       "      <td>0.313636</td>\n",
       "      <td>0.0</td>\n",
       "      <td>0.0</td>\n",
       "      <td>...</td>\n",
       "      <td>0.0</td>\n",
       "      <td>0.0</td>\n",
       "      <td>1.0</td>\n",
       "      <td>0.0</td>\n",
       "      <td>0.0</td>\n",
       "      <td>0.0</td>\n",
       "      <td>0.0</td>\n",
       "      <td>0.0</td>\n",
       "      <td>0.0</td>\n",
       "      <td>1.0</td>\n",
       "    </tr>\n",
       "  </tbody>\n",
       "</table>\n",
       "<p>60568 rows × 80 columns</p>\n",
       "</div>"
      ],
      "text/plain": [
       "       Year  Daily Rainfall Total (mm)  Highest 120 min Rainfall (mm)  \\\n",
       "0       0.0                   0.044892                       0.206612   \n",
       "1       0.0                   0.044892                       0.206612   \n",
       "2       0.0                   0.044892                       0.206612   \n",
       "3       0.0                   0.044892                       0.206612   \n",
       "4       0.0                   0.044892                       0.206612   \n",
       "...     ...                        ...                            ...   \n",
       "60563   1.0                   0.151703                       0.388430   \n",
       "60564   1.0                   0.116099                       0.276860   \n",
       "60565   1.0                   0.131579                       0.326446   \n",
       "60566   1.0                   0.131579                       0.326446   \n",
       "60567   1.0                   0.131579                       0.326446   \n",
       "\n",
       "       Mean Temperature (°C)  Maximum Temperature (°C)  \\\n",
       "0                   0.519231                  0.416667   \n",
       "1                   0.519231                  0.416667   \n",
       "2                   0.519231                  0.416667   \n",
       "3                   0.519231                  0.416667   \n",
       "4                   0.519231                  0.416667   \n",
       "...                      ...                       ...   \n",
       "60563               0.634615                  0.650000   \n",
       "60564               0.653846                  0.550000   \n",
       "60565               0.653846                  0.600000   \n",
       "60566               0.653846                  0.600000   \n",
       "60567               0.653846                  0.600000   \n",
       "\n",
       "       Minimum Temperature (°C)  Mean Wind Speed (km/h)  \\\n",
       "0                      0.574468                0.238095   \n",
       "1                      0.574468                0.238095   \n",
       "2                      0.574468                0.238095   \n",
       "3                      0.574468                0.238095   \n",
       "4                      0.574468                0.238095   \n",
       "...                         ...                     ...   \n",
       "60563                  0.446809                0.321429   \n",
       "60564                  0.595745                0.101190   \n",
       "60565                  0.531915                0.208333   \n",
       "60566                  0.531915                0.208333   \n",
       "60567                  0.531915                0.208333   \n",
       "\n",
       "       Max Wind Speed (km/h)  Dwelling Type_1-room / 2-room  \\\n",
       "0                   0.452273                            1.0   \n",
       "1                   0.452273                            1.0   \n",
       "2                   0.452273                            1.0   \n",
       "3                   0.452273                            1.0   \n",
       "4                   0.452273                            1.0   \n",
       "...                      ...                            ...   \n",
       "60563               0.375000                            0.0   \n",
       "60564               0.252273                            0.0   \n",
       "60565               0.313636                            0.0   \n",
       "60566               0.313636                            0.0   \n",
       "60567               0.313636                            0.0   \n",
       "\n",
       "       Dwelling Type_3-room  ...  Towns_Tanglin  Towns_Toa Payoh  \\\n",
       "0                       0.0  ...            0.0              0.0   \n",
       "1                       0.0  ...            0.0              0.0   \n",
       "2                       0.0  ...            0.0              0.0   \n",
       "3                       0.0  ...            0.0              0.0   \n",
       "4                       0.0  ...            0.0              0.0   \n",
       "...                     ...  ...            ...              ...   \n",
       "60563                   0.0  ...            0.0              0.0   \n",
       "60564                   0.0  ...            0.0              0.0   \n",
       "60565                   0.0  ...            0.0              0.0   \n",
       "60566                   0.0  ...            0.0              0.0   \n",
       "60567                   0.0  ...            0.0              0.0   \n",
       "\n",
       "       Towns_West Region  Towns_Woodlands  Towns_Yishun  \\\n",
       "0                    0.0              0.0           0.0   \n",
       "1                    0.0              0.0           0.0   \n",
       "2                    0.0              0.0           0.0   \n",
       "3                    0.0              0.0           0.0   \n",
       "4                    0.0              0.0           0.0   \n",
       "...                  ...              ...           ...   \n",
       "60563                0.0              0.0           0.0   \n",
       "60564                0.0              0.0           0.0   \n",
       "60565                0.0              0.0           0.0   \n",
       "60566                0.0              0.0           0.0   \n",
       "60567                1.0              0.0           0.0   \n",
       "\n",
       "       Region_Central Region  Region_East Region  Region_North East Region  \\\n",
       "0                        1.0                 0.0                       0.0   \n",
       "1                        1.0                 0.0                       0.0   \n",
       "2                        1.0                 0.0                       0.0   \n",
       "3                        1.0                 0.0                       0.0   \n",
       "4                        1.0                 0.0                       0.0   \n",
       "...                      ...                 ...                       ...   \n",
       "60563                    0.0                 0.0                       0.0   \n",
       "60564                    0.0                 0.0                       0.0   \n",
       "60565                    0.0                 0.0                       0.0   \n",
       "60566                    0.0                 0.0                       0.0   \n",
       "60567                    0.0                 0.0                       0.0   \n",
       "\n",
       "       Region_North Region  Region_West Region  \n",
       "0                      0.0                 0.0  \n",
       "1                      0.0                 0.0  \n",
       "2                      0.0                 0.0  \n",
       "3                      0.0                 0.0  \n",
       "4                      0.0                 0.0  \n",
       "...                    ...                 ...  \n",
       "60563                  0.0                 1.0  \n",
       "60564                  0.0                 1.0  \n",
       "60565                  0.0                 1.0  \n",
       "60566                  0.0                 1.0  \n",
       "60567                  0.0                 1.0  \n",
       "\n",
       "[60568 rows x 80 columns]"
      ]
     },
     "execution_count": 7,
     "metadata": {},
     "output_type": "execute_result"
    }
   ],
   "source": [
    "features_df"
   ]
  },
  {
   "cell_type": "code",
   "execution_count": 8,
   "id": "68ec135f",
   "metadata": {},
   "outputs": [],
   "source": [
    "X = features_df\n",
    "y = df_one_hot_encoded['Avg kWh']"
   ]
  },
  {
   "cell_type": "code",
   "execution_count": 9,
   "id": "d1000e55",
   "metadata": {},
   "outputs": [],
   "source": [
    "X_train, X_test, y_train, y_test = train_test_split(X, y, test_size=0.2, random_state=0)"
   ]
  },
  {
   "cell_type": "code",
   "execution_count": 10,
   "id": "3edea9ad",
   "metadata": {},
   "outputs": [],
   "source": [
    "eval_results = {}\n",
    "def perform_eval(model, model_name):\n",
    "    #Mean squared error \n",
    "    y_train_pred = model.predict(X_train)\n",
    "    y_test_pred = model.predict(X_test)\n",
    "    #Train\n",
    "    mse_train = mean_squared_error(y_train, y_train_pred)\n",
    "    rmse_train = mean_squared_error(y_train, y_train_pred, squared=False)\n",
    "    #Test\n",
    "    mse_test = mean_squared_error(y_test, y_test_pred)\n",
    "    rmse_test = mean_squared_error(y_test, y_test_pred, squared=False)\n",
    "\n",
    "    #R Squared Score\n",
    "    #Train\n",
    "    r2train = model.score(X_train, y_train)\n",
    "    adjr2_train = 1 - (1-r2train) * (len(y)-1)/(len(y)-X.shape[1]-1)\n",
    "    #Test\n",
    "    r2test = model.score(X_test, y_test)\n",
    "    adjr2_test = 1 - (1-r2test) * (len(y)-1)/(len(y)-X.shape[1]-1)\n",
    "    \n",
    "    eval_results[model_name] = {\n",
    "        \"MSE (Train)\" : mse_train,\n",
    "        \"MSE (Test)\" : mse_test,\n",
    "        \"RMSE (Train)\" : rmse_train,\n",
    "        \"RMSE (Test)\" : rmse_test,\n",
    "        \"R2 (Train)\" : r2train,\n",
    "        \"R2 (Test)\" : r2test,\n",
    "        \"Adj R2 (Train)\" : adjr2_train,\n",
    "        \"Adj R2 (Test)\" : adjr2_test\n",
    "    }\n",
    "    \n",
    "    return eval_results[model_name]"
   ]
  },
  {
   "cell_type": "code",
   "execution_count": 11,
   "id": "75406d5b",
   "metadata": {},
   "outputs": [],
   "source": [
    "def get_best_model(model, best_model):\n",
    "    if best_model == \"\":\n",
    "        best_model = model\n",
    "\n",
    "    #test adj r2\n",
    "    best_adjr2_test = 1 - (1-best_model.score(X_test, y_test)) * (len(y)-1)/(len(y)-X.shape[1]-1)\n",
    "    model_adjr2_test = 1 - (1-model.score(X_test, y_test)) * (len(y)-1)/(len(y)-X.shape[1]-1)\n",
    "\n",
    "    if model_adjr2_test > best_adjr2_test:\n",
    "        best_model = model\n",
    "\n",
    "    return best_model"
   ]
  },
  {
   "cell_type": "code",
   "execution_count": 12,
   "id": "4829ab92",
   "metadata": {},
   "outputs": [],
   "source": [
    "def compare_results(desired_model):\n",
    "    metric_data = []\n",
    "    col_names = [\"Models\"]\n",
    "    col_done = False\n",
    "\n",
    "    for model in eval_results:\n",
    "        eval_list = []\n",
    "        #Append Model names\n",
    "        if (desired_model.lower() in str(model).lower()) or (desired_model.lower() == \"all\"):\n",
    "            eval_list.append(model)\n",
    "            for metric in eval_results[model]:\n",
    "                if not col_done:\n",
    "                    col_names.append(metric)\n",
    "                eval_list.append(eval_results[model][metric])\n",
    "            col_done = True\n",
    "            metric_data.append(eval_list)\n",
    "        \n",
    "    df = pd.DataFrame(metric_data, columns=col_names)\n",
    "    df = df.sort_values(by=['Adj R2 (Test)'], ascending=False)\n",
    "    df = df.style.set_table_attributes(\"style='display:inline'\").set_caption(f'{str(desired_model).capitalize()} Models (Sort by Adj R2 (Test))')\n",
    "    \n",
    "    return df"
   ]
  },
  {
   "cell_type": "markdown",
   "id": "4b0a87de",
   "metadata": {},
   "source": [
    "# 1) Ridge Regression"
   ]
  },
  {
   "cell_type": "markdown",
   "id": "41e23947",
   "metadata": {},
   "source": [
    "Linear least squares with l2 regularization"
   ]
  },
  {
   "cell_type": "code",
   "execution_count": 13,
   "id": "c78f70b6",
   "metadata": {},
   "outputs": [],
   "source": [
    "#Reset best model for each section\n",
    "best_model = \"\""
   ]
  },
  {
   "cell_type": "code",
   "execution_count": 14,
   "id": "b71ba08d",
   "metadata": {},
   "outputs": [
    {
     "data": {
      "text/plain": [
       "Ridge(alpha=0.001, random_state=7, solver='cholesky')"
      ]
     },
     "execution_count": 14,
     "metadata": {},
     "output_type": "execute_result"
    }
   ],
   "source": [
    "from sklearn.linear_model import Ridge\n",
    "# to remove warning calls/emitted\n",
    "initial_ridge_reg = Ridge(alpha=0.001,solver=\"cholesky\", random_state=7)\n",
    "initial_ridge_reg.fit(X_train,y_train)"
   ]
  },
  {
   "cell_type": "code",
   "execution_count": 15,
   "id": "73033daa",
   "metadata": {},
   "outputs": [
    {
     "name": "stdout",
     "output_type": "stream",
     "text": [
      "MSE (Train): 48215.49201472936\n",
      "MSE (Test): 47387.174160038165\n",
      "RMSE (Train): 219.58026326318438\n",
      "RMSE (Test): 217.68595306091333\n",
      "R2 (Train): 0.740276841750428\n",
      "R2 (Test): 0.7350256695119504\n",
      "Adj R2 (Train): 0.7399333323573358\n",
      "Adj R2 (Test): 0.7346752149276754\n"
     ]
    }
   ],
   "source": [
    "best_model = get_best_model(initial_ridge_reg, best_model)\n",
    "res_val = perform_eval(initial_ridge_reg, \"Ridge Regression (Initial)\")\n",
    "for key in res_val:\n",
    "    print(f\"{key}: {res_val[key]}\")"
   ]
  },
  {
   "cell_type": "markdown",
   "id": "dfb2cb6f",
   "metadata": {},
   "source": [
    "# Lets use Ridge CV to find the best alpha for our model"
   ]
  },
  {
   "cell_type": "code",
   "execution_count": 16,
   "id": "615fe697",
   "metadata": {},
   "outputs": [],
   "source": [
    "#0.0 to 1.0\n",
    "alphas =[]\n",
    "for x in range(0, 101, 1):\n",
    "    alphas.append((x/100))"
   ]
  },
  {
   "cell_type": "code",
   "execution_count": 17,
   "id": "c077521f",
   "metadata": {},
   "outputs": [
    {
     "data": {
      "text/plain": [
       "RidgeCV(alphas=array([0.  , 0.01, 0.02, 0.03, 0.04, 0.05, 0.06, 0.07, 0.08, 0.09, 0.1 ,\n",
       "       0.11, 0.12, 0.13, 0.14, 0.15, 0.16, 0.17, 0.18, 0.19, 0.2 , 0.21,\n",
       "       0.22, 0.23, 0.24, 0.25, 0.26, 0.27, 0.28, 0.29, 0.3 , 0.31, 0.32,\n",
       "       0.33, 0.34, 0.35, 0.36, 0.37, 0.38, 0.39, 0.4 , 0.41, 0.42, 0.43,\n",
       "       0.44, 0.45, 0.46, 0.47, 0.48, 0.49, 0.5 , 0.51, 0.52, 0.53, 0.54,\n",
       "       0.55, 0.56, 0.57, 0.58, 0.59, 0.6 , 0.61, 0.62, 0.63, 0.64, 0.65,\n",
       "       0.66, 0.67, 0.68, 0.69, 0.7 , 0.71, 0.72, 0.73, 0.74, 0.75, 0.76,\n",
       "       0.77, 0.78, 0.79, 0.8 , 0.81, 0.82, 0.83, 0.84, 0.85, 0.86, 0.87,\n",
       "       0.88, 0.89, 0.9 , 0.91, 0.92, 0.93, 0.94, 0.95, 0.96, 0.97, 0.98,\n",
       "       0.99, 1.  ]),\n",
       "        cv=10)"
      ]
     },
     "execution_count": 17,
     "metadata": {},
     "output_type": "execute_result"
    }
   ],
   "source": [
    "from sklearn.linear_model import RidgeCV\n",
    "ridge_cv = RidgeCV(alphas = alphas, cv = 10)\n",
    "ridge_cv.fit(X_train, y_train)"
   ]
  },
  {
   "cell_type": "code",
   "execution_count": 18,
   "id": "c47ba60d",
   "metadata": {},
   "outputs": [
    {
     "data": {
      "text/plain": [
       "1.0"
      ]
     },
     "execution_count": 18,
     "metadata": {},
     "output_type": "execute_result"
    }
   ],
   "source": [
    "alpha = ridge_cv.alpha_\n",
    "alpha"
   ]
  },
  {
   "cell_type": "code",
   "execution_count": 19,
   "id": "11ffe0d4",
   "metadata": {},
   "outputs": [
    {
     "data": {
      "text/plain": [
       "Ridge(random_state=7)"
      ]
     },
     "execution_count": 19,
     "metadata": {},
     "output_type": "execute_result"
    }
   ],
   "source": [
    "best_alpha_ridge_reg = Ridge(alpha = ridge_cv.alpha_, random_state=7)\n",
    "best_alpha_ridge_reg.fit(X_train, y_train)"
   ]
  },
  {
   "cell_type": "code",
   "execution_count": 20,
   "id": "36d00c95",
   "metadata": {},
   "outputs": [
    {
     "name": "stdout",
     "output_type": "stream",
     "text": [
      "MSE (Train): 48215.5846319574\n",
      "MSE (Test): 47377.80044219072\n",
      "RMSE (Train): 219.58047415915058\n",
      "RMSE (Test): 217.66442162694094\n",
      "R2 (Train): 0.7402763428477315\n",
      "R2 (Test): 0.7350780844249482\n",
      "Adj R2 (Train): 0.7399328327947915\n",
      "Adj R2 (Test): 0.7347276991645451\n"
     ]
    }
   ],
   "source": [
    "best_model = get_best_model(best_alpha_ridge_reg, best_model)\n",
    "res_val = perform_eval(best_alpha_ridge_reg, \"Ridge Regression (Best Alpha)\")\n",
    "for key in res_val:\n",
    "    print(f\"{key}: {res_val[key]}\")"
   ]
  },
  {
   "cell_type": "markdown",
   "id": "7a4dc1df",
   "metadata": {},
   "source": [
    "# Lets use gridsearchCV to find the best solver"
   ]
  },
  {
   "cell_type": "code",
   "execution_count": 21,
   "id": "34d8059f",
   "metadata": {},
   "outputs": [],
   "source": [
    "solver = [\"auto\", \"svd\", \"cholesky\", \"lsqr\", \"sparse_cg\", \"sag\", \"saga\"]"
   ]
  },
  {
   "cell_type": "markdown",
   "id": "244bae80",
   "metadata": {},
   "source": [
    "we use the same alpha as above"
   ]
  },
  {
   "cell_type": "code",
   "execution_count": 22,
   "id": "3678433a",
   "metadata": {},
   "outputs": [
    {
     "data": {
      "text/plain": [
       "{'solver': 'sparse_cg'}"
      ]
     },
     "execution_count": 22,
     "metadata": {},
     "output_type": "execute_result"
    }
   ],
   "source": [
    "params = {'solver':solver}\n",
    "ridge_reg = Ridge(random_state=7, alpha = ridge_cv.alpha_)\n",
    "model = GridSearchCV(ridge_reg, params, scoring='r2', cv=10)\n",
    "model.fit(X_train,y_train)\n",
    "model.best_params_"
   ]
  },
  {
   "cell_type": "code",
   "execution_count": 23,
   "id": "7b0c2925",
   "metadata": {},
   "outputs": [
    {
     "data": {
      "text/plain": [
       "Ridge(random_state=7, solver='sparse_cg')"
      ]
     },
     "execution_count": 23,
     "metadata": {},
     "output_type": "execute_result"
    }
   ],
   "source": [
    "best_params_ridge_reg = Ridge(alpha = ridge_cv.alpha_, solver='sparse_cg', random_state=7)\n",
    "best_params_ridge_reg.fit(X_train, y_train)"
   ]
  },
  {
   "cell_type": "code",
   "execution_count": 24,
   "id": "21ac69b7",
   "metadata": {},
   "outputs": [
    {
     "name": "stdout",
     "output_type": "stream",
     "text": [
      "MSE (Train): 48215.88491049413\n",
      "MSE (Test): 47375.823381363545\n",
      "RMSE (Train): 219.58115791318284\n",
      "RMSE (Test): 217.65988004536698\n",
      "R2 (Train): 0.7402747253325583\n",
      "R2 (Test): 0.7350891395338104\n",
      "Adj R2 (Train): 0.7399312131402955\n",
      "Adj R2 (Test): 0.7347387688948748\n"
     ]
    }
   ],
   "source": [
    "best_model = get_best_model(best_params_ridge_reg, best_model)\n",
    "res_val = perform_eval(best_params_ridge_reg, \"Ridge Regression (Best Params)\")\n",
    "for key in res_val:\n",
    "    print(f\"{key}: {res_val[key]}\")"
   ]
  },
  {
   "cell_type": "code",
   "execution_count": 25,
   "id": "27837bb4",
   "metadata": {},
   "outputs": [
    {
     "data": {
      "text/html": [
       "<style type=\"text/css\">\n",
       "</style>\n",
       "<table id=\"T_42cbc\" style='display:inline'>\n",
       "  <caption>Ridge Models (Sort by Adj R2 (Test)</caption>\n",
       "  <thead>\n",
       "    <tr>\n",
       "      <th class=\"blank level0\" >&nbsp;</th>\n",
       "      <th id=\"T_42cbc_level0_col0\" class=\"col_heading level0 col0\" >Models</th>\n",
       "      <th id=\"T_42cbc_level0_col1\" class=\"col_heading level0 col1\" >MSE (Train)</th>\n",
       "      <th id=\"T_42cbc_level0_col2\" class=\"col_heading level0 col2\" >MSE (Test)</th>\n",
       "      <th id=\"T_42cbc_level0_col3\" class=\"col_heading level0 col3\" >RMSE (Train)</th>\n",
       "      <th id=\"T_42cbc_level0_col4\" class=\"col_heading level0 col4\" >RMSE (Test)</th>\n",
       "      <th id=\"T_42cbc_level0_col5\" class=\"col_heading level0 col5\" >R2 (Train)</th>\n",
       "      <th id=\"T_42cbc_level0_col6\" class=\"col_heading level0 col6\" >R2 (Test)</th>\n",
       "      <th id=\"T_42cbc_level0_col7\" class=\"col_heading level0 col7\" >Adj R2 (Train)</th>\n",
       "      <th id=\"T_42cbc_level0_col8\" class=\"col_heading level0 col8\" >Adj R2 (Test)</th>\n",
       "    </tr>\n",
       "  </thead>\n",
       "  <tbody>\n",
       "    <tr>\n",
       "      <th id=\"T_42cbc_level0_row0\" class=\"row_heading level0 row0\" >2</th>\n",
       "      <td id=\"T_42cbc_row0_col0\" class=\"data row0 col0\" >Ridge Regression (Best Params)</td>\n",
       "      <td id=\"T_42cbc_row0_col1\" class=\"data row0 col1\" >48215.884910</td>\n",
       "      <td id=\"T_42cbc_row0_col2\" class=\"data row0 col2\" >47375.823381</td>\n",
       "      <td id=\"T_42cbc_row0_col3\" class=\"data row0 col3\" >219.581158</td>\n",
       "      <td id=\"T_42cbc_row0_col4\" class=\"data row0 col4\" >217.659880</td>\n",
       "      <td id=\"T_42cbc_row0_col5\" class=\"data row0 col5\" >0.740275</td>\n",
       "      <td id=\"T_42cbc_row0_col6\" class=\"data row0 col6\" >0.735089</td>\n",
       "      <td id=\"T_42cbc_row0_col7\" class=\"data row0 col7\" >0.739931</td>\n",
       "      <td id=\"T_42cbc_row0_col8\" class=\"data row0 col8\" >0.734739</td>\n",
       "    </tr>\n",
       "    <tr>\n",
       "      <th id=\"T_42cbc_level0_row1\" class=\"row_heading level0 row1\" >1</th>\n",
       "      <td id=\"T_42cbc_row1_col0\" class=\"data row1 col0\" >Ridge Regression (Best Alpha)</td>\n",
       "      <td id=\"T_42cbc_row1_col1\" class=\"data row1 col1\" >48215.584632</td>\n",
       "      <td id=\"T_42cbc_row1_col2\" class=\"data row1 col2\" >47377.800442</td>\n",
       "      <td id=\"T_42cbc_row1_col3\" class=\"data row1 col3\" >219.580474</td>\n",
       "      <td id=\"T_42cbc_row1_col4\" class=\"data row1 col4\" >217.664422</td>\n",
       "      <td id=\"T_42cbc_row1_col5\" class=\"data row1 col5\" >0.740276</td>\n",
       "      <td id=\"T_42cbc_row1_col6\" class=\"data row1 col6\" >0.735078</td>\n",
       "      <td id=\"T_42cbc_row1_col7\" class=\"data row1 col7\" >0.739933</td>\n",
       "      <td id=\"T_42cbc_row1_col8\" class=\"data row1 col8\" >0.734728</td>\n",
       "    </tr>\n",
       "    <tr>\n",
       "      <th id=\"T_42cbc_level0_row2\" class=\"row_heading level0 row2\" >0</th>\n",
       "      <td id=\"T_42cbc_row2_col0\" class=\"data row2 col0\" >Ridge Regression (Initial)</td>\n",
       "      <td id=\"T_42cbc_row2_col1\" class=\"data row2 col1\" >48215.492015</td>\n",
       "      <td id=\"T_42cbc_row2_col2\" class=\"data row2 col2\" >47387.174160</td>\n",
       "      <td id=\"T_42cbc_row2_col3\" class=\"data row2 col3\" >219.580263</td>\n",
       "      <td id=\"T_42cbc_row2_col4\" class=\"data row2 col4\" >217.685953</td>\n",
       "      <td id=\"T_42cbc_row2_col5\" class=\"data row2 col5\" >0.740277</td>\n",
       "      <td id=\"T_42cbc_row2_col6\" class=\"data row2 col6\" >0.735026</td>\n",
       "      <td id=\"T_42cbc_row2_col7\" class=\"data row2 col7\" >0.739933</td>\n",
       "      <td id=\"T_42cbc_row2_col8\" class=\"data row2 col8\" >0.734675</td>\n",
       "    </tr>\n",
       "  </tbody>\n",
       "</table>\n"
      ],
      "text/plain": [
       "<pandas.io.formats.style.Styler at 0x24a0369bc10>"
      ]
     },
     "execution_count": 25,
     "metadata": {},
     "output_type": "execute_result"
    }
   ],
   "source": [
    "ridge_df = compare_results(\"ridge\")\n",
    "ridge_df"
   ]
  },
  {
   "cell_type": "code",
   "execution_count": 26,
   "id": "2fdc991b",
   "metadata": {},
   "outputs": [],
   "source": [
    "import pickle\n",
    "filename = 'ridge.pkl'\n",
    "save_location = os.path.join(\".\",\"trained_models\", filename)\n",
    "pickle.dump(best_model, open(save_location, 'wb'))"
   ]
  },
  {
   "cell_type": "markdown",
   "id": "8157c906",
   "metadata": {},
   "source": [
    "# 2) Lasso Regression"
   ]
  },
  {
   "cell_type": "markdown",
   "id": "f8b5a900",
   "metadata": {},
   "source": [
    "Linear Model trained with L1 prior as regularizer (aka the Lasso)."
   ]
  },
  {
   "cell_type": "code",
   "execution_count": 27,
   "id": "421fc638",
   "metadata": {},
   "outputs": [],
   "source": [
    "#Reset best model for each section\n",
    "best_model = \"\""
   ]
  },
  {
   "cell_type": "code",
   "execution_count": 28,
   "id": "ae7fb9a2",
   "metadata": {},
   "outputs": [
    {
     "data": {
      "text/plain": [
       "Lasso(alpha=0.01, random_state=7)"
      ]
     },
     "execution_count": 28,
     "metadata": {},
     "output_type": "execute_result"
    }
   ],
   "source": [
    "from sklearn import linear_model\n",
    "#use default alpha\n",
    "initial_lasso = linear_model.Lasso(alpha=0.01, random_state=7)\n",
    "initial_lasso.fit(X_train,y_train)"
   ]
  },
  {
   "cell_type": "code",
   "execution_count": 29,
   "id": "8861b404",
   "metadata": {},
   "outputs": [
    {
     "name": "stdout",
     "output_type": "stream",
     "text": [
      "MSE (Train): 48215.91074966479\n",
      "MSE (Test): 47375.76583028326\n",
      "RMSE (Train): 219.58121675057907\n",
      "RMSE (Test): 217.65974784117356\n",
      "R2 (Train): 0.7402745861442865\n",
      "R2 (Test): 0.7350894613415409\n",
      "Adj R2 (Train): 0.7399310737679337\n",
      "Adj R2 (Test): 0.7347390911282277\n"
     ]
    }
   ],
   "source": [
    "best_model = get_best_model(initial_lasso, best_model)\n",
    "res_val = perform_eval(initial_lasso, \"Lasso Regression (Initial)\")\n",
    "for key in res_val:\n",
    "    print(f\"{key}: {res_val[key]}\")"
   ]
  },
  {
   "cell_type": "markdown",
   "id": "279b320e",
   "metadata": {},
   "source": [
    "# Lets use Lasso CV to find the best alpha for our model"
   ]
  },
  {
   "cell_type": "code",
   "execution_count": 30,
   "id": "99eb1fe8",
   "metadata": {},
   "outputs": [
    {
     "data": {
      "text/plain": [
       "LassoCV(cv=10, max_iter=500, random_state=7)"
      ]
     },
     "execution_count": 30,
     "metadata": {},
     "output_type": "execute_result"
    }
   ],
   "source": [
    "from sklearn.linear_model import LassoCV\n",
    "lasso_cv = LassoCV(alphas = None, cv = 10, max_iter = 500, random_state=7)\n",
    "lasso_cv.fit(X_train, y_train)"
   ]
  },
  {
   "cell_type": "code",
   "execution_count": 31,
   "id": "21239738",
   "metadata": {},
   "outputs": [
    {
     "data": {
      "text/plain": [
       "0.09797670560760961"
      ]
     },
     "execution_count": 31,
     "metadata": {},
     "output_type": "execute_result"
    }
   ],
   "source": [
    "best_alpha = lasso_cv.alpha_\n",
    "best_alpha"
   ]
  },
  {
   "cell_type": "code",
   "execution_count": 32,
   "id": "8ebe35b5",
   "metadata": {},
   "outputs": [
    {
     "data": {
      "text/plain": [
       "Lasso(alpha=0.09797670560760961, max_iter=500, random_state=7)"
      ]
     },
     "execution_count": 32,
     "metadata": {},
     "output_type": "execute_result"
    }
   ],
   "source": [
    "best_alpha_lasso = linear_model.Lasso(alpha = best_alpha, max_iter = 500,random_state=7)\n",
    "best_alpha_lasso.fit(X_train, y_train)"
   ]
  },
  {
   "cell_type": "code",
   "execution_count": 33,
   "id": "5d8c8b3b",
   "metadata": {},
   "outputs": [
    {
     "name": "stdout",
     "output_type": "stream",
     "text": [
      "MSE (Train): 48254.39574773834\n",
      "MSE (Test): 47313.88074736757\n",
      "RMSE (Train): 219.66883198974392\n",
      "RMSE (Test): 217.51754124062631\n",
      "R2 (Train): 0.7400672783926237\n",
      "R2 (Test): 0.7354355034658802\n",
      "Adj R2 (Train): 0.7397234918314024\n",
      "Adj R2 (Test): 0.7350855909272731\n"
     ]
    }
   ],
   "source": [
    "best_model = get_best_model(best_alpha_lasso, best_model)\n",
    "res_val = perform_eval(best_alpha_lasso, \"Lasso Regression (Best Alpha)\")\n",
    "for key in res_val:\n",
    "    print(f\"{key}: {res_val[key]}\")"
   ]
  },
  {
   "cell_type": "code",
   "execution_count": 34,
   "id": "81e07f5e",
   "metadata": {},
   "outputs": [
    {
     "data": {
      "text/html": [
       "<style type=\"text/css\">\n",
       "</style>\n",
       "<table id=\"T_959c3\" style='display:inline'>\n",
       "  <caption>Lasso Models (Sort by Adj R2 (Test)</caption>\n",
       "  <thead>\n",
       "    <tr>\n",
       "      <th class=\"blank level0\" >&nbsp;</th>\n",
       "      <th id=\"T_959c3_level0_col0\" class=\"col_heading level0 col0\" >Models</th>\n",
       "      <th id=\"T_959c3_level0_col1\" class=\"col_heading level0 col1\" >MSE (Train)</th>\n",
       "      <th id=\"T_959c3_level0_col2\" class=\"col_heading level0 col2\" >MSE (Test)</th>\n",
       "      <th id=\"T_959c3_level0_col3\" class=\"col_heading level0 col3\" >RMSE (Train)</th>\n",
       "      <th id=\"T_959c3_level0_col4\" class=\"col_heading level0 col4\" >RMSE (Test)</th>\n",
       "      <th id=\"T_959c3_level0_col5\" class=\"col_heading level0 col5\" >R2 (Train)</th>\n",
       "      <th id=\"T_959c3_level0_col6\" class=\"col_heading level0 col6\" >R2 (Test)</th>\n",
       "      <th id=\"T_959c3_level0_col7\" class=\"col_heading level0 col7\" >Adj R2 (Train)</th>\n",
       "      <th id=\"T_959c3_level0_col8\" class=\"col_heading level0 col8\" >Adj R2 (Test)</th>\n",
       "    </tr>\n",
       "  </thead>\n",
       "  <tbody>\n",
       "    <tr>\n",
       "      <th id=\"T_959c3_level0_row0\" class=\"row_heading level0 row0\" >1</th>\n",
       "      <td id=\"T_959c3_row0_col0\" class=\"data row0 col0\" >Lasso Regression (Best Alpha)</td>\n",
       "      <td id=\"T_959c3_row0_col1\" class=\"data row0 col1\" >48254.395748</td>\n",
       "      <td id=\"T_959c3_row0_col2\" class=\"data row0 col2\" >47313.880747</td>\n",
       "      <td id=\"T_959c3_row0_col3\" class=\"data row0 col3\" >219.668832</td>\n",
       "      <td id=\"T_959c3_row0_col4\" class=\"data row0 col4\" >217.517541</td>\n",
       "      <td id=\"T_959c3_row0_col5\" class=\"data row0 col5\" >0.740067</td>\n",
       "      <td id=\"T_959c3_row0_col6\" class=\"data row0 col6\" >0.735436</td>\n",
       "      <td id=\"T_959c3_row0_col7\" class=\"data row0 col7\" >0.739723</td>\n",
       "      <td id=\"T_959c3_row0_col8\" class=\"data row0 col8\" >0.735086</td>\n",
       "    </tr>\n",
       "    <tr>\n",
       "      <th id=\"T_959c3_level0_row1\" class=\"row_heading level0 row1\" >0</th>\n",
       "      <td id=\"T_959c3_row1_col0\" class=\"data row1 col0\" >Lasso Regression (Initial)</td>\n",
       "      <td id=\"T_959c3_row1_col1\" class=\"data row1 col1\" >48215.910750</td>\n",
       "      <td id=\"T_959c3_row1_col2\" class=\"data row1 col2\" >47375.765830</td>\n",
       "      <td id=\"T_959c3_row1_col3\" class=\"data row1 col3\" >219.581217</td>\n",
       "      <td id=\"T_959c3_row1_col4\" class=\"data row1 col4\" >217.659748</td>\n",
       "      <td id=\"T_959c3_row1_col5\" class=\"data row1 col5\" >0.740275</td>\n",
       "      <td id=\"T_959c3_row1_col6\" class=\"data row1 col6\" >0.735089</td>\n",
       "      <td id=\"T_959c3_row1_col7\" class=\"data row1 col7\" >0.739931</td>\n",
       "      <td id=\"T_959c3_row1_col8\" class=\"data row1 col8\" >0.734739</td>\n",
       "    </tr>\n",
       "  </tbody>\n",
       "</table>\n"
      ],
      "text/plain": [
       "<pandas.io.formats.style.Styler at 0x24a41ade380>"
      ]
     },
     "execution_count": 34,
     "metadata": {},
     "output_type": "execute_result"
    }
   ],
   "source": [
    "laaso_df = compare_results(\"lasso\")\n",
    "laaso_df"
   ]
  },
  {
   "cell_type": "code",
   "execution_count": 35,
   "id": "d14bd16e",
   "metadata": {},
   "outputs": [],
   "source": [
    "import pickle\n",
    "filename = 'lasso.pkl'\n",
    "save_location = os.path.join(\".\",\"trained_models\", filename)\n",
    "pickle.dump(best_model, open(save_location, 'wb'))"
   ]
  },
  {
   "cell_type": "markdown",
   "id": "80e808da",
   "metadata": {},
   "source": [
    "# 3) ElasticNet Regression"
   ]
  },
  {
   "cell_type": "markdown",
   "id": "e1c686cc",
   "metadata": {},
   "source": [
    "Linear regression with combined L1 and L2 priors as regularizer."
   ]
  },
  {
   "cell_type": "code",
   "execution_count": 36,
   "id": "c9a6baae",
   "metadata": {},
   "outputs": [],
   "source": [
    "#Reset best model for each section\n",
    "best_model = \"\""
   ]
  },
  {
   "cell_type": "code",
   "execution_count": 37,
   "id": "8731b954",
   "metadata": {},
   "outputs": [
    {
     "data": {
      "text/plain": [
       "ElasticNet(alpha=1, random_state=7)"
      ]
     },
     "execution_count": 37,
     "metadata": {},
     "output_type": "execute_result"
    }
   ],
   "source": [
    "from sklearn.linear_model import ElasticNet\n",
    "initial_elastic_net= linear_model.ElasticNet(random_state=7, l1_ratio = 0.5,alpha=1)\n",
    "initial_elastic_net.fit(X_train,y_train)"
   ]
  },
  {
   "cell_type": "code",
   "execution_count": 38,
   "id": "8d139c20",
   "metadata": {},
   "outputs": [
    {
     "name": "stdout",
     "output_type": "stream",
     "text": [
      "MSE (Train): 141002.42953963391\n",
      "MSE (Test): 134699.34532205082\n",
      "RMSE (Train): 375.50290217205236\n",
      "RMSE (Test): 367.01409417357644\n",
      "R2 (Train): 0.2404599685572235\n",
      "R2 (Test): 0.2468031808913359\n",
      "Adj R2 (Train): 0.23945540224519912\n",
      "Adj R2 (Test): 0.24580700410080747\n"
     ]
    }
   ],
   "source": [
    "best_model = get_best_model(initial_elastic_net, best_model)\n",
    "res_val = perform_eval(initial_elastic_net, \"ElasticNet Regression (Initial)\")\n",
    "for key in res_val:\n",
    "    print(f\"{key}: {res_val[key]}\")"
   ]
  },
  {
   "cell_type": "markdown",
   "id": "d9976bfd",
   "metadata": {},
   "source": [
    "# Gridsearch CV to find best alpha"
   ]
  },
  {
   "cell_type": "code",
   "execution_count": 39,
   "id": "e97cc6f8",
   "metadata": {},
   "outputs": [
    {
     "data": {
      "text/plain": [
       "{'alpha': 0.01}"
      ]
     },
     "execution_count": 39,
     "metadata": {},
     "output_type": "execute_result"
    }
   ],
   "source": [
    "params = {'alpha':[0.01, 0.02, 0.1, 0.2, 0.5, 1.0]}\n",
    "model = GridSearchCV(linear_model.ElasticNet(random_state=7, l1_ratio = 0.5), params, scoring='r2', cv=10)\n",
    "model.fit(X_train,y_train)\n",
    "model.best_params_"
   ]
  },
  {
   "cell_type": "code",
   "execution_count": 40,
   "id": "781d6689",
   "metadata": {},
   "outputs": [
    {
     "data": {
      "text/plain": [
       "ElasticNet(alpha=0.01, random_state=7)"
      ]
     },
     "execution_count": 40,
     "metadata": {},
     "output_type": "execute_result"
    }
   ],
   "source": [
    "best_alpha_elastic_net= linear_model.ElasticNet(random_state=7, alpha = 0.01,l1_ratio = 0.5)\n",
    "best_alpha_elastic_net.fit(X_train,y_train)"
   ]
  },
  {
   "cell_type": "code",
   "execution_count": 41,
   "id": "fd849cbf",
   "metadata": {},
   "outputs": [
    {
     "name": "stdout",
     "output_type": "stream",
     "text": [
      "MSE (Train): 50651.990813572615\n",
      "MSE (Test): 48326.32865854733\n",
      "RMSE (Train): 225.05997159329024\n",
      "RMSE (Test): 219.83250136990057\n",
      "R2 (Train): 0.7271521148905726\n",
      "R2 (Test): 0.7297742098315974\n",
      "Adj R2 (Train): 0.7267912467567794\n",
      "Adj R2 (Test): 0.7294168096759693\n"
     ]
    }
   ],
   "source": [
    "best_model = get_best_model(best_alpha_elastic_net, best_model)\n",
    "res_val = perform_eval(best_alpha_elastic_net, \"ElasticNet Regression (Best Alpha)\")\n",
    "for key in res_val:\n",
    "    print(f\"{key}: {res_val[key]}\")"
   ]
  },
  {
   "cell_type": "code",
   "execution_count": 42,
   "id": "a55f2759",
   "metadata": {},
   "outputs": [
    {
     "data": {
      "text/html": [
       "<style type=\"text/css\">\n",
       "</style>\n",
       "<table id=\"T_e0cd9\" style='display:inline'>\n",
       "  <caption>Elastic Models (Sort by Adj R2 (Test)</caption>\n",
       "  <thead>\n",
       "    <tr>\n",
       "      <th class=\"blank level0\" >&nbsp;</th>\n",
       "      <th id=\"T_e0cd9_level0_col0\" class=\"col_heading level0 col0\" >Models</th>\n",
       "      <th id=\"T_e0cd9_level0_col1\" class=\"col_heading level0 col1\" >MSE (Train)</th>\n",
       "      <th id=\"T_e0cd9_level0_col2\" class=\"col_heading level0 col2\" >MSE (Test)</th>\n",
       "      <th id=\"T_e0cd9_level0_col3\" class=\"col_heading level0 col3\" >RMSE (Train)</th>\n",
       "      <th id=\"T_e0cd9_level0_col4\" class=\"col_heading level0 col4\" >RMSE (Test)</th>\n",
       "      <th id=\"T_e0cd9_level0_col5\" class=\"col_heading level0 col5\" >R2 (Train)</th>\n",
       "      <th id=\"T_e0cd9_level0_col6\" class=\"col_heading level0 col6\" >R2 (Test)</th>\n",
       "      <th id=\"T_e0cd9_level0_col7\" class=\"col_heading level0 col7\" >Adj R2 (Train)</th>\n",
       "      <th id=\"T_e0cd9_level0_col8\" class=\"col_heading level0 col8\" >Adj R2 (Test)</th>\n",
       "    </tr>\n",
       "  </thead>\n",
       "  <tbody>\n",
       "    <tr>\n",
       "      <th id=\"T_e0cd9_level0_row0\" class=\"row_heading level0 row0\" >1</th>\n",
       "      <td id=\"T_e0cd9_row0_col0\" class=\"data row0 col0\" >ElasticNet Regression (Best Alpha)</td>\n",
       "      <td id=\"T_e0cd9_row0_col1\" class=\"data row0 col1\" >50651.990814</td>\n",
       "      <td id=\"T_e0cd9_row0_col2\" class=\"data row0 col2\" >48326.328659</td>\n",
       "      <td id=\"T_e0cd9_row0_col3\" class=\"data row0 col3\" >225.059972</td>\n",
       "      <td id=\"T_e0cd9_row0_col4\" class=\"data row0 col4\" >219.832501</td>\n",
       "      <td id=\"T_e0cd9_row0_col5\" class=\"data row0 col5\" >0.727152</td>\n",
       "      <td id=\"T_e0cd9_row0_col6\" class=\"data row0 col6\" >0.729774</td>\n",
       "      <td id=\"T_e0cd9_row0_col7\" class=\"data row0 col7\" >0.726791</td>\n",
       "      <td id=\"T_e0cd9_row0_col8\" class=\"data row0 col8\" >0.729417</td>\n",
       "    </tr>\n",
       "    <tr>\n",
       "      <th id=\"T_e0cd9_level0_row1\" class=\"row_heading level0 row1\" >0</th>\n",
       "      <td id=\"T_e0cd9_row1_col0\" class=\"data row1 col0\" >ElasticNet Regression (Initial)</td>\n",
       "      <td id=\"T_e0cd9_row1_col1\" class=\"data row1 col1\" >141002.429540</td>\n",
       "      <td id=\"T_e0cd9_row1_col2\" class=\"data row1 col2\" >134699.345322</td>\n",
       "      <td id=\"T_e0cd9_row1_col3\" class=\"data row1 col3\" >375.502902</td>\n",
       "      <td id=\"T_e0cd9_row1_col4\" class=\"data row1 col4\" >367.014094</td>\n",
       "      <td id=\"T_e0cd9_row1_col5\" class=\"data row1 col5\" >0.240460</td>\n",
       "      <td id=\"T_e0cd9_row1_col6\" class=\"data row1 col6\" >0.246803</td>\n",
       "      <td id=\"T_e0cd9_row1_col7\" class=\"data row1 col7\" >0.239455</td>\n",
       "      <td id=\"T_e0cd9_row1_col8\" class=\"data row1 col8\" >0.245807</td>\n",
       "    </tr>\n",
       "  </tbody>\n",
       "</table>\n"
      ],
      "text/plain": [
       "<pandas.io.formats.style.Styler at 0x24a03146a70>"
      ]
     },
     "execution_count": 42,
     "metadata": {},
     "output_type": "execute_result"
    }
   ],
   "source": [
    "elastic_net_df = compare_results(\"elastic\")\n",
    "elastic_net_df"
   ]
  },
  {
   "cell_type": "code",
   "execution_count": 43,
   "id": "37fb7137",
   "metadata": {},
   "outputs": [],
   "source": [
    "import pickle\n",
    "filename = 'elasticnet.pkl'\n",
    "save_location = os.path.join(\".\",\"trained_models\", filename)\n",
    "pickle.dump(best_model, open(save_location, 'wb'))"
   ]
  },
  {
   "cell_type": "markdown",
   "id": "05b8ed5c",
   "metadata": {},
   "source": [
    "# 4) Stochastic Gradient Descent Regressor (SGD Regressor)"
   ]
  },
  {
   "cell_type": "markdown",
   "id": "9471d00c",
   "metadata": {},
   "source": [
    "Linear model fitted by minimizing a regularized empirical loss with SGD."
   ]
  },
  {
   "cell_type": "code",
   "execution_count": 44,
   "id": "e29a2d94",
   "metadata": {},
   "outputs": [],
   "source": [
    "#Reset best model for each section\n",
    "best_model = \"\""
   ]
  },
  {
   "cell_type": "code",
   "execution_count": 45,
   "id": "778562e1",
   "metadata": {},
   "outputs": [
    {
     "data": {
      "text/plain": [
       "SGDRegressor(alpha=1.0, eta0=0.1, max_iter=50, random_state=7)"
      ]
     },
     "execution_count": 45,
     "metadata": {},
     "output_type": "execute_result"
    }
   ],
   "source": [
    "from sklearn.linear_model import SGDRegressor\n",
    "initial_sgd_reg=SGDRegressor(max_iter=50, penalty='l2', eta0=0.1, alpha=1.0, random_state=7)\n",
    "initial_sgd_reg.fit(X_train,y_train.ravel())"
   ]
  },
  {
   "cell_type": "code",
   "execution_count": 46,
   "id": "eabc0038",
   "metadata": {},
   "outputs": [
    {
     "name": "stdout",
     "output_type": "stream",
     "text": [
      "MSE (Train): 160876.16393668714\n",
      "MSE (Test): 154291.50388554245\n",
      "RMSE (Train): 401.09370966980663\n",
      "RMSE (Test): 392.7995721554982\n",
      "R2 (Train): 0.13340580716364114\n",
      "R2 (Test): 0.13724992750162757\n",
      "Adj R2 (Train): 0.1322596512057178\n",
      "Adj R2 (Test): 0.1361088557705139\n"
     ]
    }
   ],
   "source": [
    "best_model = get_best_model(initial_sgd_reg, best_model)\n",
    "res_val = perform_eval(initial_sgd_reg, \"SGD Regressor (Initial)\")\n",
    "for key in res_val:\n",
    "    print(f\"{key}: {res_val[key]}\")"
   ]
  },
  {
   "cell_type": "markdown",
   "id": "537fa389",
   "metadata": {},
   "source": [
    "# Grid Search CV for best alpha and eta0"
   ]
  },
  {
   "cell_type": "code",
   "execution_count": 47,
   "id": "d11856cf",
   "metadata": {},
   "outputs": [],
   "source": [
    "#from 0, 0.1,0.2...0.9 and default\n",
    "alpha =[]\n",
    "alpha.append(0.001) #default\n",
    "for x in range(0, 10, 1):\n",
    "    alpha.append((x/10))\n",
    "\n",
    "#from 0.01, 0.02,.. 0.1\n",
    "eta0 =[]\n",
    "for x in range(1, 11, 1):\n",
    "    eta0.append((x/100))"
   ]
  },
  {
   "cell_type": "code",
   "execution_count": 48,
   "id": "f5f353e6",
   "metadata": {},
   "outputs": [
    {
     "data": {
      "text/plain": [
       "{'alpha': 0.0, 'eta0': 0.02}"
      ]
     },
     "execution_count": 48,
     "metadata": {},
     "output_type": "execute_result"
    }
   ],
   "source": [
    "params = {'alpha':alpha, 'eta0':eta0}\n",
    "sgd_reg = SGDRegressor(random_state=7, penalty='l2',max_iter=100)\n",
    "model = GridSearchCV(sgd_reg, params, scoring='r2')\n",
    "model.fit(X_train,y_train)\n",
    "model.best_params_"
   ]
  },
  {
   "cell_type": "code",
   "execution_count": 49,
   "id": "8ba44c41",
   "metadata": {},
   "outputs": [
    {
     "data": {
      "text/plain": [
       "SGDRegressor(alpha=0, eta0=0.02, max_iter=100, random_state=7)"
      ]
     },
     "execution_count": 49,
     "metadata": {},
     "output_type": "execute_result"
    }
   ],
   "source": [
    "best_params_sgd_reg = SGDRegressor(max_iter=100, alpha=0, eta0=0.02, random_state=7, penalty='l2')\n",
    "best_params_sgd_reg.fit(X_train,y_train.ravel())"
   ]
  },
  {
   "cell_type": "code",
   "execution_count": 50,
   "id": "a2a6c8e1",
   "metadata": {},
   "outputs": [
    {
     "name": "stdout",
     "output_type": "stream",
     "text": [
      "MSE (Train): 48260.132984138436\n",
      "MSE (Test): 47455.874786849236\n",
      "RMSE (Train): 219.68189043282206\n",
      "RMSE (Test): 217.84369347504472\n",
      "R2 (Train): 0.7400363735299915\n",
      "R2 (Test): 0.7346415169872209\n",
      "Adj R2 (Train): 0.7396925460940532\n",
      "Adj R2 (Test): 0.7342905543234912\n"
     ]
    }
   ],
   "source": [
    "best_model = get_best_model(best_params_sgd_reg, best_model)\n",
    "res_val = perform_eval(best_params_sgd_reg, \"SGD Regressor (Best Params)\")\n",
    "for key in res_val:\n",
    "    print(f\"{key}: {res_val[key]}\")"
   ]
  },
  {
   "cell_type": "code",
   "execution_count": 51,
   "id": "ce007d36",
   "metadata": {},
   "outputs": [
    {
     "data": {
      "text/html": [
       "<style type=\"text/css\">\n",
       "</style>\n",
       "<table id=\"T_4bab8\" style='display:inline'>\n",
       "  <caption>Sgd Models (Sort by Adj R2 (Test)</caption>\n",
       "  <thead>\n",
       "    <tr>\n",
       "      <th class=\"blank level0\" >&nbsp;</th>\n",
       "      <th id=\"T_4bab8_level0_col0\" class=\"col_heading level0 col0\" >Models</th>\n",
       "      <th id=\"T_4bab8_level0_col1\" class=\"col_heading level0 col1\" >MSE (Train)</th>\n",
       "      <th id=\"T_4bab8_level0_col2\" class=\"col_heading level0 col2\" >MSE (Test)</th>\n",
       "      <th id=\"T_4bab8_level0_col3\" class=\"col_heading level0 col3\" >RMSE (Train)</th>\n",
       "      <th id=\"T_4bab8_level0_col4\" class=\"col_heading level0 col4\" >RMSE (Test)</th>\n",
       "      <th id=\"T_4bab8_level0_col5\" class=\"col_heading level0 col5\" >R2 (Train)</th>\n",
       "      <th id=\"T_4bab8_level0_col6\" class=\"col_heading level0 col6\" >R2 (Test)</th>\n",
       "      <th id=\"T_4bab8_level0_col7\" class=\"col_heading level0 col7\" >Adj R2 (Train)</th>\n",
       "      <th id=\"T_4bab8_level0_col8\" class=\"col_heading level0 col8\" >Adj R2 (Test)</th>\n",
       "    </tr>\n",
       "  </thead>\n",
       "  <tbody>\n",
       "    <tr>\n",
       "      <th id=\"T_4bab8_level0_row0\" class=\"row_heading level0 row0\" >1</th>\n",
       "      <td id=\"T_4bab8_row0_col0\" class=\"data row0 col0\" >SGD Regressor (Best Params)</td>\n",
       "      <td id=\"T_4bab8_row0_col1\" class=\"data row0 col1\" >48260.132984</td>\n",
       "      <td id=\"T_4bab8_row0_col2\" class=\"data row0 col2\" >47455.874787</td>\n",
       "      <td id=\"T_4bab8_row0_col3\" class=\"data row0 col3\" >219.681890</td>\n",
       "      <td id=\"T_4bab8_row0_col4\" class=\"data row0 col4\" >217.843693</td>\n",
       "      <td id=\"T_4bab8_row0_col5\" class=\"data row0 col5\" >0.740036</td>\n",
       "      <td id=\"T_4bab8_row0_col6\" class=\"data row0 col6\" >0.734642</td>\n",
       "      <td id=\"T_4bab8_row0_col7\" class=\"data row0 col7\" >0.739693</td>\n",
       "      <td id=\"T_4bab8_row0_col8\" class=\"data row0 col8\" >0.734291</td>\n",
       "    </tr>\n",
       "    <tr>\n",
       "      <th id=\"T_4bab8_level0_row1\" class=\"row_heading level0 row1\" >0</th>\n",
       "      <td id=\"T_4bab8_row1_col0\" class=\"data row1 col0\" >SGD Regressor (Initial)</td>\n",
       "      <td id=\"T_4bab8_row1_col1\" class=\"data row1 col1\" >160876.163937</td>\n",
       "      <td id=\"T_4bab8_row1_col2\" class=\"data row1 col2\" >154291.503886</td>\n",
       "      <td id=\"T_4bab8_row1_col3\" class=\"data row1 col3\" >401.093710</td>\n",
       "      <td id=\"T_4bab8_row1_col4\" class=\"data row1 col4\" >392.799572</td>\n",
       "      <td id=\"T_4bab8_row1_col5\" class=\"data row1 col5\" >0.133406</td>\n",
       "      <td id=\"T_4bab8_row1_col6\" class=\"data row1 col6\" >0.137250</td>\n",
       "      <td id=\"T_4bab8_row1_col7\" class=\"data row1 col7\" >0.132260</td>\n",
       "      <td id=\"T_4bab8_row1_col8\" class=\"data row1 col8\" >0.136109</td>\n",
       "    </tr>\n",
       "  </tbody>\n",
       "</table>\n"
      ],
      "text/plain": [
       "<pandas.io.formats.style.Styler at 0x24a067b3cd0>"
      ]
     },
     "execution_count": 51,
     "metadata": {},
     "output_type": "execute_result"
    }
   ],
   "source": [
    "sgd_df = compare_results(\"sgd\")\n",
    "sgd_df"
   ]
  },
  {
   "cell_type": "code",
   "execution_count": 52,
   "id": "1e2b72d3",
   "metadata": {},
   "outputs": [],
   "source": [
    "import pickle\n",
    "filename = 'sgdRegressor.pkl'\n",
    "save_location = os.path.join(\".\",\"trained_models\", filename)\n",
    "pickle.dump(best_model, open(save_location, 'wb'))"
   ]
  },
  {
   "cell_type": "markdown",
   "id": "f84b86a8",
   "metadata": {},
   "source": [
    "# 5) Support Vector Regression"
   ]
  },
  {
   "cell_type": "code",
   "execution_count": 53,
   "id": "3432e319",
   "metadata": {},
   "outputs": [],
   "source": [
    "#Reset best model for each section\n",
    "best_model = \"\""
   ]
  },
  {
   "cell_type": "code",
   "execution_count": 54,
   "id": "b3ce29fb",
   "metadata": {},
   "outputs": [
    {
     "data": {
      "text/plain": [
       "LinearSVR(max_iter=30000, random_state=7)"
      ]
     },
     "execution_count": 54,
     "metadata": {},
     "output_type": "execute_result"
    }
   ],
   "source": [
    "from sklearn.svm import LinearSVR\n",
    "initial_svr = LinearSVR(random_state=7, max_iter=30000)\n",
    "initial_svr.fit(X_train,y_train.ravel())"
   ]
  },
  {
   "cell_type": "code",
   "execution_count": 55,
   "id": "4e8ea075",
   "metadata": {},
   "outputs": [
    {
     "name": "stdout",
     "output_type": "stream",
     "text": [
      "MSE (Train): 67086.34405439474\n",
      "MSE (Test): 62904.090230065965\n",
      "RMSE (Train): 259.010316501862\n",
      "RMSE (Test): 250.80687835477312\n",
      "R2 (Train): 0.6386249227135963\n",
      "R2 (Test): 0.6482599038849677\n",
      "Adj R2 (Train): 0.6381469686708613\n",
      "Adj R2 (Test): 0.6477946930514134\n"
     ]
    }
   ],
   "source": [
    "best_model = get_best_model(best_params_sgd_reg, best_model)\n",
    "res_val = perform_eval(initial_svr, \"Support Vector Regression (Initial)\")\n",
    "for key in res_val:\n",
    "    print(f\"{key}: {res_val[key]}\")"
   ]
  },
  {
   "cell_type": "markdown",
   "id": "c0d21960",
   "metadata": {},
   "source": [
    "# Grid Search CV for c and loss"
   ]
  },
  {
   "cell_type": "code",
   "execution_count": 56,
   "id": "d416471d",
   "metadata": {},
   "outputs": [],
   "source": [
    "param_grid = {'C':[0.01,0.1,0.2,0.3,0.5,1.0], 'loss':[\"epsilon_insensitive\", \"squared_epsilon_insensitive\"]}"
   ]
  },
  {
   "cell_type": "code",
   "execution_count": 57,
   "id": "82708ce8",
   "metadata": {},
   "outputs": [
    {
     "data": {
      "text/plain": [
       "GridSearchCV(cv=10, estimator=LinearSVR(max_iter=30000, random_state=7),\n",
       "             param_grid={'C': [0.01, 0.1, 0.2, 0.3, 0.5, 1.0],\n",
       "                         'loss': ['epsilon_insensitive',\n",
       "                                  'squared_epsilon_insensitive']})"
      ]
     },
     "execution_count": 57,
     "metadata": {},
     "output_type": "execute_result"
    }
   ],
   "source": [
    "svr_search = LinearSVR(random_state=7, max_iter=30000)\n",
    "rnd_grid_search_extra = GridSearchCV(svr_search, param_grid, cv=10)\n",
    "rnd_grid_search_extra.fit(X_train,y_train)"
   ]
  },
  {
   "cell_type": "code",
   "execution_count": 58,
   "id": "b788bd19",
   "metadata": {},
   "outputs": [
    {
     "data": {
      "text/plain": [
       "{'C': 0.1, 'loss': 'squared_epsilon_insensitive'}"
      ]
     },
     "execution_count": 58,
     "metadata": {},
     "output_type": "execute_result"
    }
   ],
   "source": [
    "rnd_grid_search_extra.best_params_"
   ]
  },
  {
   "cell_type": "code",
   "execution_count": 59,
   "id": "ac8e2a80",
   "metadata": {},
   "outputs": [
    {
     "data": {
      "text/plain": [
       "LinearSVR(C=0.1, loss='squared_epsilon_insensitive', max_iter=30000,\n",
       "          random_state=7)"
      ]
     },
     "execution_count": 59,
     "metadata": {},
     "output_type": "execute_result"
    }
   ],
   "source": [
    "best_params_svr=LinearSVR(random_state=7, max_iter=30000, loss=\"squared_epsilon_insensitive\", C=0.1)\n",
    "best_params_svr.fit(X_train,y_train.ravel())"
   ]
  },
  {
   "cell_type": "code",
   "execution_count": 60,
   "id": "15b5bbbd",
   "metadata": {},
   "outputs": [
    {
     "name": "stdout",
     "output_type": "stream",
     "text": [
      "MSE (Train): 48217.83406760637\n",
      "MSE (Test): 47344.7562916438\n",
      "RMSE (Train): 219.58559622071382\n",
      "RMSE (Test): 217.58850220460593\n",
      "R2 (Train): 0.7402642257769185\n",
      "R2 (Test): 0.7352628570310998\n",
      "Adj R2 (Train): 0.7399206996979619\n",
      "Adj R2 (Test): 0.7349127161506213\n"
     ]
    }
   ],
   "source": [
    "best_model = get_best_model(best_params_svr, best_model)\n",
    "res_val = perform_eval(best_params_svr, \"Support Vector Regression (Best Params)\")\n",
    "for key in res_val:\n",
    "    print(f\"{key}: {res_val[key]}\")"
   ]
  },
  {
   "cell_type": "code",
   "execution_count": 61,
   "id": "546ce81c",
   "metadata": {},
   "outputs": [
    {
     "data": {
      "text/html": [
       "<style type=\"text/css\">\n",
       "</style>\n",
       "<table id=\"T_f60e9\" style='display:inline'>\n",
       "  <caption>Support Models (Sort by Adj R2 (Test)</caption>\n",
       "  <thead>\n",
       "    <tr>\n",
       "      <th class=\"blank level0\" >&nbsp;</th>\n",
       "      <th id=\"T_f60e9_level0_col0\" class=\"col_heading level0 col0\" >Models</th>\n",
       "      <th id=\"T_f60e9_level0_col1\" class=\"col_heading level0 col1\" >MSE (Train)</th>\n",
       "      <th id=\"T_f60e9_level0_col2\" class=\"col_heading level0 col2\" >MSE (Test)</th>\n",
       "      <th id=\"T_f60e9_level0_col3\" class=\"col_heading level0 col3\" >RMSE (Train)</th>\n",
       "      <th id=\"T_f60e9_level0_col4\" class=\"col_heading level0 col4\" >RMSE (Test)</th>\n",
       "      <th id=\"T_f60e9_level0_col5\" class=\"col_heading level0 col5\" >R2 (Train)</th>\n",
       "      <th id=\"T_f60e9_level0_col6\" class=\"col_heading level0 col6\" >R2 (Test)</th>\n",
       "      <th id=\"T_f60e9_level0_col7\" class=\"col_heading level0 col7\" >Adj R2 (Train)</th>\n",
       "      <th id=\"T_f60e9_level0_col8\" class=\"col_heading level0 col8\" >Adj R2 (Test)</th>\n",
       "    </tr>\n",
       "  </thead>\n",
       "  <tbody>\n",
       "    <tr>\n",
       "      <th id=\"T_f60e9_level0_row0\" class=\"row_heading level0 row0\" >1</th>\n",
       "      <td id=\"T_f60e9_row0_col0\" class=\"data row0 col0\" >Support Vector Regression (Best Params)</td>\n",
       "      <td id=\"T_f60e9_row0_col1\" class=\"data row0 col1\" >48217.834068</td>\n",
       "      <td id=\"T_f60e9_row0_col2\" class=\"data row0 col2\" >47344.756292</td>\n",
       "      <td id=\"T_f60e9_row0_col3\" class=\"data row0 col3\" >219.585596</td>\n",
       "      <td id=\"T_f60e9_row0_col4\" class=\"data row0 col4\" >217.588502</td>\n",
       "      <td id=\"T_f60e9_row0_col5\" class=\"data row0 col5\" >0.740264</td>\n",
       "      <td id=\"T_f60e9_row0_col6\" class=\"data row0 col6\" >0.735263</td>\n",
       "      <td id=\"T_f60e9_row0_col7\" class=\"data row0 col7\" >0.739921</td>\n",
       "      <td id=\"T_f60e9_row0_col8\" class=\"data row0 col8\" >0.734913</td>\n",
       "    </tr>\n",
       "    <tr>\n",
       "      <th id=\"T_f60e9_level0_row1\" class=\"row_heading level0 row1\" >0</th>\n",
       "      <td id=\"T_f60e9_row1_col0\" class=\"data row1 col0\" >Support Vector Regression (Initial)</td>\n",
       "      <td id=\"T_f60e9_row1_col1\" class=\"data row1 col1\" >67086.344054</td>\n",
       "      <td id=\"T_f60e9_row1_col2\" class=\"data row1 col2\" >62904.090230</td>\n",
       "      <td id=\"T_f60e9_row1_col3\" class=\"data row1 col3\" >259.010317</td>\n",
       "      <td id=\"T_f60e9_row1_col4\" class=\"data row1 col4\" >250.806878</td>\n",
       "      <td id=\"T_f60e9_row1_col5\" class=\"data row1 col5\" >0.638625</td>\n",
       "      <td id=\"T_f60e9_row1_col6\" class=\"data row1 col6\" >0.648260</td>\n",
       "      <td id=\"T_f60e9_row1_col7\" class=\"data row1 col7\" >0.638147</td>\n",
       "      <td id=\"T_f60e9_row1_col8\" class=\"data row1 col8\" >0.647795</td>\n",
       "    </tr>\n",
       "  </tbody>\n",
       "</table>\n"
      ],
      "text/plain": [
       "<pandas.io.formats.style.Styler at 0x24a067b2530>"
      ]
     },
     "execution_count": 61,
     "metadata": {},
     "output_type": "execute_result"
    }
   ],
   "source": [
    "svr_df = compare_results(\"Support\")\n",
    "svr_df"
   ]
  },
  {
   "cell_type": "code",
   "execution_count": 62,
   "id": "bcc5b66c",
   "metadata": {},
   "outputs": [],
   "source": [
    "import pickle\n",
    "filename = 'svr.pkl'\n",
    "save_location = os.path.join(\".\",\"trained_models\", filename)\n",
    "pickle.dump(best_model, open(save_location, 'wb'))"
   ]
  },
  {
   "cell_type": "code",
   "execution_count": 63,
   "id": "6259edd3",
   "metadata": {},
   "outputs": [
    {
     "data": {
      "text/html": [
       "<style type=\"text/css\">\n",
       "</style>\n",
       "<table id=\"T_5e32b\" style='display:inline'>\n",
       "  <caption>All Models (Sort by Adj R2 (Test)</caption>\n",
       "  <thead>\n",
       "    <tr>\n",
       "      <th class=\"blank level0\" >&nbsp;</th>\n",
       "      <th id=\"T_5e32b_level0_col0\" class=\"col_heading level0 col0\" >Models</th>\n",
       "      <th id=\"T_5e32b_level0_col1\" class=\"col_heading level0 col1\" >MSE (Train)</th>\n",
       "      <th id=\"T_5e32b_level0_col2\" class=\"col_heading level0 col2\" >MSE (Test)</th>\n",
       "      <th id=\"T_5e32b_level0_col3\" class=\"col_heading level0 col3\" >RMSE (Train)</th>\n",
       "      <th id=\"T_5e32b_level0_col4\" class=\"col_heading level0 col4\" >RMSE (Test)</th>\n",
       "      <th id=\"T_5e32b_level0_col5\" class=\"col_heading level0 col5\" >R2 (Train)</th>\n",
       "      <th id=\"T_5e32b_level0_col6\" class=\"col_heading level0 col6\" >R2 (Test)</th>\n",
       "      <th id=\"T_5e32b_level0_col7\" class=\"col_heading level0 col7\" >Adj R2 (Train)</th>\n",
       "      <th id=\"T_5e32b_level0_col8\" class=\"col_heading level0 col8\" >Adj R2 (Test)</th>\n",
       "    </tr>\n",
       "  </thead>\n",
       "  <tbody>\n",
       "    <tr>\n",
       "      <th id=\"T_5e32b_level0_row0\" class=\"row_heading level0 row0\" >4</th>\n",
       "      <td id=\"T_5e32b_row0_col0\" class=\"data row0 col0\" >Lasso Regression (Best Alpha)</td>\n",
       "      <td id=\"T_5e32b_row0_col1\" class=\"data row0 col1\" >48254.395748</td>\n",
       "      <td id=\"T_5e32b_row0_col2\" class=\"data row0 col2\" >47313.880747</td>\n",
       "      <td id=\"T_5e32b_row0_col3\" class=\"data row0 col3\" >219.668832</td>\n",
       "      <td id=\"T_5e32b_row0_col4\" class=\"data row0 col4\" >217.517541</td>\n",
       "      <td id=\"T_5e32b_row0_col5\" class=\"data row0 col5\" >0.740067</td>\n",
       "      <td id=\"T_5e32b_row0_col6\" class=\"data row0 col6\" >0.735436</td>\n",
       "      <td id=\"T_5e32b_row0_col7\" class=\"data row0 col7\" >0.739723</td>\n",
       "      <td id=\"T_5e32b_row0_col8\" class=\"data row0 col8\" >0.735086</td>\n",
       "    </tr>\n",
       "    <tr>\n",
       "      <th id=\"T_5e32b_level0_row1\" class=\"row_heading level0 row1\" >10</th>\n",
       "      <td id=\"T_5e32b_row1_col0\" class=\"data row1 col0\" >Support Vector Regression (Best Params)</td>\n",
       "      <td id=\"T_5e32b_row1_col1\" class=\"data row1 col1\" >48217.834068</td>\n",
       "      <td id=\"T_5e32b_row1_col2\" class=\"data row1 col2\" >47344.756292</td>\n",
       "      <td id=\"T_5e32b_row1_col3\" class=\"data row1 col3\" >219.585596</td>\n",
       "      <td id=\"T_5e32b_row1_col4\" class=\"data row1 col4\" >217.588502</td>\n",
       "      <td id=\"T_5e32b_row1_col5\" class=\"data row1 col5\" >0.740264</td>\n",
       "      <td id=\"T_5e32b_row1_col6\" class=\"data row1 col6\" >0.735263</td>\n",
       "      <td id=\"T_5e32b_row1_col7\" class=\"data row1 col7\" >0.739921</td>\n",
       "      <td id=\"T_5e32b_row1_col8\" class=\"data row1 col8\" >0.734913</td>\n",
       "    </tr>\n",
       "    <tr>\n",
       "      <th id=\"T_5e32b_level0_row2\" class=\"row_heading level0 row2\" >3</th>\n",
       "      <td id=\"T_5e32b_row2_col0\" class=\"data row2 col0\" >Lasso Regression (Initial)</td>\n",
       "      <td id=\"T_5e32b_row2_col1\" class=\"data row2 col1\" >48215.910750</td>\n",
       "      <td id=\"T_5e32b_row2_col2\" class=\"data row2 col2\" >47375.765830</td>\n",
       "      <td id=\"T_5e32b_row2_col3\" class=\"data row2 col3\" >219.581217</td>\n",
       "      <td id=\"T_5e32b_row2_col4\" class=\"data row2 col4\" >217.659748</td>\n",
       "      <td id=\"T_5e32b_row2_col5\" class=\"data row2 col5\" >0.740275</td>\n",
       "      <td id=\"T_5e32b_row2_col6\" class=\"data row2 col6\" >0.735089</td>\n",
       "      <td id=\"T_5e32b_row2_col7\" class=\"data row2 col7\" >0.739931</td>\n",
       "      <td id=\"T_5e32b_row2_col8\" class=\"data row2 col8\" >0.734739</td>\n",
       "    </tr>\n",
       "    <tr>\n",
       "      <th id=\"T_5e32b_level0_row3\" class=\"row_heading level0 row3\" >2</th>\n",
       "      <td id=\"T_5e32b_row3_col0\" class=\"data row3 col0\" >Ridge Regression (Best Params)</td>\n",
       "      <td id=\"T_5e32b_row3_col1\" class=\"data row3 col1\" >48215.884910</td>\n",
       "      <td id=\"T_5e32b_row3_col2\" class=\"data row3 col2\" >47375.823381</td>\n",
       "      <td id=\"T_5e32b_row3_col3\" class=\"data row3 col3\" >219.581158</td>\n",
       "      <td id=\"T_5e32b_row3_col4\" class=\"data row3 col4\" >217.659880</td>\n",
       "      <td id=\"T_5e32b_row3_col5\" class=\"data row3 col5\" >0.740275</td>\n",
       "      <td id=\"T_5e32b_row3_col6\" class=\"data row3 col6\" >0.735089</td>\n",
       "      <td id=\"T_5e32b_row3_col7\" class=\"data row3 col7\" >0.739931</td>\n",
       "      <td id=\"T_5e32b_row3_col8\" class=\"data row3 col8\" >0.734739</td>\n",
       "    </tr>\n",
       "    <tr>\n",
       "      <th id=\"T_5e32b_level0_row4\" class=\"row_heading level0 row4\" >1</th>\n",
       "      <td id=\"T_5e32b_row4_col0\" class=\"data row4 col0\" >Ridge Regression (Best Alpha)</td>\n",
       "      <td id=\"T_5e32b_row4_col1\" class=\"data row4 col1\" >48215.584632</td>\n",
       "      <td id=\"T_5e32b_row4_col2\" class=\"data row4 col2\" >47377.800442</td>\n",
       "      <td id=\"T_5e32b_row4_col3\" class=\"data row4 col3\" >219.580474</td>\n",
       "      <td id=\"T_5e32b_row4_col4\" class=\"data row4 col4\" >217.664422</td>\n",
       "      <td id=\"T_5e32b_row4_col5\" class=\"data row4 col5\" >0.740276</td>\n",
       "      <td id=\"T_5e32b_row4_col6\" class=\"data row4 col6\" >0.735078</td>\n",
       "      <td id=\"T_5e32b_row4_col7\" class=\"data row4 col7\" >0.739933</td>\n",
       "      <td id=\"T_5e32b_row4_col8\" class=\"data row4 col8\" >0.734728</td>\n",
       "    </tr>\n",
       "    <tr>\n",
       "      <th id=\"T_5e32b_level0_row5\" class=\"row_heading level0 row5\" >0</th>\n",
       "      <td id=\"T_5e32b_row5_col0\" class=\"data row5 col0\" >Ridge Regression (Initial)</td>\n",
       "      <td id=\"T_5e32b_row5_col1\" class=\"data row5 col1\" >48215.492015</td>\n",
       "      <td id=\"T_5e32b_row5_col2\" class=\"data row5 col2\" >47387.174160</td>\n",
       "      <td id=\"T_5e32b_row5_col3\" class=\"data row5 col3\" >219.580263</td>\n",
       "      <td id=\"T_5e32b_row5_col4\" class=\"data row5 col4\" >217.685953</td>\n",
       "      <td id=\"T_5e32b_row5_col5\" class=\"data row5 col5\" >0.740277</td>\n",
       "      <td id=\"T_5e32b_row5_col6\" class=\"data row5 col6\" >0.735026</td>\n",
       "      <td id=\"T_5e32b_row5_col7\" class=\"data row5 col7\" >0.739933</td>\n",
       "      <td id=\"T_5e32b_row5_col8\" class=\"data row5 col8\" >0.734675</td>\n",
       "    </tr>\n",
       "    <tr>\n",
       "      <th id=\"T_5e32b_level0_row6\" class=\"row_heading level0 row6\" >8</th>\n",
       "      <td id=\"T_5e32b_row6_col0\" class=\"data row6 col0\" >SGD Regressor (Best Params)</td>\n",
       "      <td id=\"T_5e32b_row6_col1\" class=\"data row6 col1\" >48260.132984</td>\n",
       "      <td id=\"T_5e32b_row6_col2\" class=\"data row6 col2\" >47455.874787</td>\n",
       "      <td id=\"T_5e32b_row6_col3\" class=\"data row6 col3\" >219.681890</td>\n",
       "      <td id=\"T_5e32b_row6_col4\" class=\"data row6 col4\" >217.843693</td>\n",
       "      <td id=\"T_5e32b_row6_col5\" class=\"data row6 col5\" >0.740036</td>\n",
       "      <td id=\"T_5e32b_row6_col6\" class=\"data row6 col6\" >0.734642</td>\n",
       "      <td id=\"T_5e32b_row6_col7\" class=\"data row6 col7\" >0.739693</td>\n",
       "      <td id=\"T_5e32b_row6_col8\" class=\"data row6 col8\" >0.734291</td>\n",
       "    </tr>\n",
       "    <tr>\n",
       "      <th id=\"T_5e32b_level0_row7\" class=\"row_heading level0 row7\" >6</th>\n",
       "      <td id=\"T_5e32b_row7_col0\" class=\"data row7 col0\" >ElasticNet Regression (Best Alpha)</td>\n",
       "      <td id=\"T_5e32b_row7_col1\" class=\"data row7 col1\" >50651.990814</td>\n",
       "      <td id=\"T_5e32b_row7_col2\" class=\"data row7 col2\" >48326.328659</td>\n",
       "      <td id=\"T_5e32b_row7_col3\" class=\"data row7 col3\" >225.059972</td>\n",
       "      <td id=\"T_5e32b_row7_col4\" class=\"data row7 col4\" >219.832501</td>\n",
       "      <td id=\"T_5e32b_row7_col5\" class=\"data row7 col5\" >0.727152</td>\n",
       "      <td id=\"T_5e32b_row7_col6\" class=\"data row7 col6\" >0.729774</td>\n",
       "      <td id=\"T_5e32b_row7_col7\" class=\"data row7 col7\" >0.726791</td>\n",
       "      <td id=\"T_5e32b_row7_col8\" class=\"data row7 col8\" >0.729417</td>\n",
       "    </tr>\n",
       "    <tr>\n",
       "      <th id=\"T_5e32b_level0_row8\" class=\"row_heading level0 row8\" >9</th>\n",
       "      <td id=\"T_5e32b_row8_col0\" class=\"data row8 col0\" >Support Vector Regression (Initial)</td>\n",
       "      <td id=\"T_5e32b_row8_col1\" class=\"data row8 col1\" >67086.344054</td>\n",
       "      <td id=\"T_5e32b_row8_col2\" class=\"data row8 col2\" >62904.090230</td>\n",
       "      <td id=\"T_5e32b_row8_col3\" class=\"data row8 col3\" >259.010317</td>\n",
       "      <td id=\"T_5e32b_row8_col4\" class=\"data row8 col4\" >250.806878</td>\n",
       "      <td id=\"T_5e32b_row8_col5\" class=\"data row8 col5\" >0.638625</td>\n",
       "      <td id=\"T_5e32b_row8_col6\" class=\"data row8 col6\" >0.648260</td>\n",
       "      <td id=\"T_5e32b_row8_col7\" class=\"data row8 col7\" >0.638147</td>\n",
       "      <td id=\"T_5e32b_row8_col8\" class=\"data row8 col8\" >0.647795</td>\n",
       "    </tr>\n",
       "    <tr>\n",
       "      <th id=\"T_5e32b_level0_row9\" class=\"row_heading level0 row9\" >5</th>\n",
       "      <td id=\"T_5e32b_row9_col0\" class=\"data row9 col0\" >ElasticNet Regression (Initial)</td>\n",
       "      <td id=\"T_5e32b_row9_col1\" class=\"data row9 col1\" >141002.429540</td>\n",
       "      <td id=\"T_5e32b_row9_col2\" class=\"data row9 col2\" >134699.345322</td>\n",
       "      <td id=\"T_5e32b_row9_col3\" class=\"data row9 col3\" >375.502902</td>\n",
       "      <td id=\"T_5e32b_row9_col4\" class=\"data row9 col4\" >367.014094</td>\n",
       "      <td id=\"T_5e32b_row9_col5\" class=\"data row9 col5\" >0.240460</td>\n",
       "      <td id=\"T_5e32b_row9_col6\" class=\"data row9 col6\" >0.246803</td>\n",
       "      <td id=\"T_5e32b_row9_col7\" class=\"data row9 col7\" >0.239455</td>\n",
       "      <td id=\"T_5e32b_row9_col8\" class=\"data row9 col8\" >0.245807</td>\n",
       "    </tr>\n",
       "    <tr>\n",
       "      <th id=\"T_5e32b_level0_row10\" class=\"row_heading level0 row10\" >7</th>\n",
       "      <td id=\"T_5e32b_row10_col0\" class=\"data row10 col0\" >SGD Regressor (Initial)</td>\n",
       "      <td id=\"T_5e32b_row10_col1\" class=\"data row10 col1\" >160876.163937</td>\n",
       "      <td id=\"T_5e32b_row10_col2\" class=\"data row10 col2\" >154291.503886</td>\n",
       "      <td id=\"T_5e32b_row10_col3\" class=\"data row10 col3\" >401.093710</td>\n",
       "      <td id=\"T_5e32b_row10_col4\" class=\"data row10 col4\" >392.799572</td>\n",
       "      <td id=\"T_5e32b_row10_col5\" class=\"data row10 col5\" >0.133406</td>\n",
       "      <td id=\"T_5e32b_row10_col6\" class=\"data row10 col6\" >0.137250</td>\n",
       "      <td id=\"T_5e32b_row10_col7\" class=\"data row10 col7\" >0.132260</td>\n",
       "      <td id=\"T_5e32b_row10_col8\" class=\"data row10 col8\" >0.136109</td>\n",
       "    </tr>\n",
       "  </tbody>\n",
       "</table>\n"
      ],
      "text/plain": [
       "<pandas.io.formats.style.Styler at 0x24a067b07c0>"
      ]
     },
     "execution_count": 63,
     "metadata": {},
     "output_type": "execute_result"
    }
   ],
   "source": [
    "all_df = compare_results(\"all\")\n",
    "all_df"
   ]
  }
 ],
 "metadata": {
  "kernelspec": {
   "display_name": "Python 3.10.2 64-bit",
   "language": "python",
   "name": "python3"
  },
  "language_info": {
   "codemirror_mode": {
    "name": "ipython",
    "version": 3
   },
   "file_extension": ".py",
   "mimetype": "text/x-python",
   "name": "python",
   "nbconvert_exporter": "python",
   "pygments_lexer": "ipython3",
   "version": "3.10.2"
  },
  "vscode": {
   "interpreter": {
    "hash": "54b5c02bac415170f398c1cb9c40d2712252a7d195ee8eb19ed147dda00b9728"
   }
  }
 },
 "nbformat": 4,
 "nbformat_minor": 5
}
