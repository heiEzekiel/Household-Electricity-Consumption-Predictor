{
 "cells": [
  {
   "cell_type": "code",
   "execution_count": 1,
   "id": "03ea0467",
   "metadata": {},
   "outputs": [],
   "source": [
    "import os\n",
    "import pandas as pd\n",
    "import numpy as np\n",
    "import seaborn as sns\n",
    "import matplotlib.pyplot as plt\n",
    "from sklearn.metrics import r2_score\n",
    "from sklearn.metrics import mean_squared_error\n",
    "from sklearn.model_selection import train_test_split, GridSearchCV\n",
    "#need this list of imports later on\n",
    "from sklearn.linear_model import Ridge\n",
    "from sklearn.linear_model import RidgeCV\n",
    "from sklearn.linear_model import LassoCV\n",
    "from sklearn.linear_model import ElasticNet\n",
    "from sklearn.linear_model import SGDRegressor\n",
    "import warnings\n",
    "warnings.filterwarnings('ignore')\n",
    "from sklearn.svm import LinearSVR\n",
    "from sklearn import linear_model\n",
    "from sklearn.ensemble import ExtraTreesRegressor"
   ]
  },
  {
   "cell_type": "code",
   "execution_count": 2,
   "id": "9a5556b2",
   "metadata": {},
   "outputs": [],
   "source": [
    "df = pd.read_excel('./datasets/combined.xlsx', index_col=0)"
   ]
  },
  {
   "cell_type": "code",
   "execution_count": 3,
   "id": "2d6423cb",
   "metadata": {
    "scrolled": false
   },
   "outputs": [
    {
     "data": {
      "text/html": [
       "<div>\n",
       "<style scoped>\n",
       "    .dataframe tbody tr th:only-of-type {\n",
       "        vertical-align: middle;\n",
       "    }\n",
       "\n",
       "    .dataframe tbody tr th {\n",
       "        vertical-align: top;\n",
       "    }\n",
       "\n",
       "    .dataframe thead th {\n",
       "        text-align: right;\n",
       "    }\n",
       "</style>\n",
       "<table border=\"1\" class=\"dataframe\">\n",
       "  <thead>\n",
       "    <tr style=\"text-align: right;\">\n",
       "      <th></th>\n",
       "      <th>Dwelling Type</th>\n",
       "      <th>Year</th>\n",
       "      <th>Month</th>\n",
       "      <th>Region</th>\n",
       "      <th>Towns</th>\n",
       "      <th>Avg kWh</th>\n",
       "      <th>Daily Rainfall Total (mm)</th>\n",
       "      <th>Highest 30 min Rainfall (mm)</th>\n",
       "      <th>Highest 60 min Rainfall (mm)</th>\n",
       "      <th>Highest 120 min Rainfall (mm)</th>\n",
       "      <th>Mean Temperature (°C)</th>\n",
       "      <th>Maximum Temperature (°C)</th>\n",
       "      <th>Minimum Temperature (°C)</th>\n",
       "      <th>Mean Wind Speed (km/h)</th>\n",
       "      <th>Max Wind Speed (km/h)</th>\n",
       "    </tr>\n",
       "  </thead>\n",
       "  <tbody>\n",
       "    <tr>\n",
       "      <th>0</th>\n",
       "      <td>1-room / 2-room</td>\n",
       "      <td>2005</td>\n",
       "      <td>1</td>\n",
       "      <td>Central Region</td>\n",
       "      <td>Bishan</td>\n",
       "      <td>104.9</td>\n",
       "      <td>2.9</td>\n",
       "      <td>3.6</td>\n",
       "      <td>4.4</td>\n",
       "      <td>5.0</td>\n",
       "      <td>27.5</td>\n",
       "      <td>31.3</td>\n",
       "      <td>25.1</td>\n",
       "      <td>7.2</td>\n",
       "      <td>35.3</td>\n",
       "    </tr>\n",
       "    <tr>\n",
       "      <th>1</th>\n",
       "      <td>1-room / 2-room</td>\n",
       "      <td>2005</td>\n",
       "      <td>1</td>\n",
       "      <td>Central Region</td>\n",
       "      <td>Bukit Merah</td>\n",
       "      <td>140.7</td>\n",
       "      <td>2.9</td>\n",
       "      <td>3.6</td>\n",
       "      <td>4.4</td>\n",
       "      <td>5.0</td>\n",
       "      <td>27.5</td>\n",
       "      <td>31.3</td>\n",
       "      <td>25.1</td>\n",
       "      <td>7.2</td>\n",
       "      <td>35.3</td>\n",
       "    </tr>\n",
       "    <tr>\n",
       "      <th>2</th>\n",
       "      <td>1-room / 2-room</td>\n",
       "      <td>2005</td>\n",
       "      <td>1</td>\n",
       "      <td>Central Region</td>\n",
       "      <td>Central Region</td>\n",
       "      <td>136.5</td>\n",
       "      <td>2.9</td>\n",
       "      <td>3.6</td>\n",
       "      <td>4.4</td>\n",
       "      <td>5.0</td>\n",
       "      <td>27.5</td>\n",
       "      <td>31.3</td>\n",
       "      <td>25.1</td>\n",
       "      <td>7.2</td>\n",
       "      <td>35.3</td>\n",
       "    </tr>\n",
       "    <tr>\n",
       "      <th>3</th>\n",
       "      <td>1-room / 2-room</td>\n",
       "      <td>2005</td>\n",
       "      <td>1</td>\n",
       "      <td>Central Region</td>\n",
       "      <td>Geylang</td>\n",
       "      <td>148.5</td>\n",
       "      <td>2.9</td>\n",
       "      <td>3.6</td>\n",
       "      <td>4.4</td>\n",
       "      <td>5.0</td>\n",
       "      <td>27.5</td>\n",
       "      <td>31.3</td>\n",
       "      <td>25.1</td>\n",
       "      <td>7.2</td>\n",
       "      <td>35.3</td>\n",
       "    </tr>\n",
       "    <tr>\n",
       "      <th>4</th>\n",
       "      <td>1-room / 2-room</td>\n",
       "      <td>2005</td>\n",
       "      <td>1</td>\n",
       "      <td>Central Region</td>\n",
       "      <td>Kallang</td>\n",
       "      <td>115.6</td>\n",
       "      <td>2.9</td>\n",
       "      <td>3.6</td>\n",
       "      <td>4.4</td>\n",
       "      <td>5.0</td>\n",
       "      <td>27.5</td>\n",
       "      <td>31.3</td>\n",
       "      <td>25.1</td>\n",
       "      <td>7.2</td>\n",
       "      <td>35.3</td>\n",
       "    </tr>\n",
       "  </tbody>\n",
       "</table>\n",
       "</div>"
      ],
      "text/plain": [
       "     Dwelling Type  Year  Month          Region           Towns  Avg kWh  \\\n",
       "0  1-room / 2-room  2005      1  Central Region          Bishan    104.9   \n",
       "1  1-room / 2-room  2005      1  Central Region     Bukit Merah    140.7   \n",
       "2  1-room / 2-room  2005      1  Central Region  Central Region    136.5   \n",
       "3  1-room / 2-room  2005      1  Central Region         Geylang    148.5   \n",
       "4  1-room / 2-room  2005      1  Central Region         Kallang    115.6   \n",
       "\n",
       "   Daily Rainfall Total (mm)  Highest 30 min Rainfall (mm)  \\\n",
       "0                        2.9                           3.6   \n",
       "1                        2.9                           3.6   \n",
       "2                        2.9                           3.6   \n",
       "3                        2.9                           3.6   \n",
       "4                        2.9                           3.6   \n",
       "\n",
       "   Highest 60 min Rainfall (mm)  Highest 120 min Rainfall (mm)  \\\n",
       "0                           4.4                            5.0   \n",
       "1                           4.4                            5.0   \n",
       "2                           4.4                            5.0   \n",
       "3                           4.4                            5.0   \n",
       "4                           4.4                            5.0   \n",
       "\n",
       "   Mean Temperature (°C)  Maximum Temperature (°C)  Minimum Temperature (°C)  \\\n",
       "0                   27.5                      31.3                      25.1   \n",
       "1                   27.5                      31.3                      25.1   \n",
       "2                   27.5                      31.3                      25.1   \n",
       "3                   27.5                      31.3                      25.1   \n",
       "4                   27.5                      31.3                      25.1   \n",
       "\n",
       "   Mean Wind Speed (km/h)  Max Wind Speed (km/h)  \n",
       "0                     7.2                   35.3  \n",
       "1                     7.2                   35.3  \n",
       "2                     7.2                   35.3  \n",
       "3                     7.2                   35.3  \n",
       "4                     7.2                   35.3  "
      ]
     },
     "execution_count": 3,
     "metadata": {},
     "output_type": "execute_result"
    }
   ],
   "source": [
    "df.head()"
   ]
  },
  {
   "cell_type": "code",
   "execution_count": 4,
   "id": "4a17ce05",
   "metadata": {},
   "outputs": [],
   "source": [
    "df_one_hot_encoded = df.copy()"
   ]
  },
  {
   "cell_type": "code",
   "execution_count": 5,
   "id": "25ec1870",
   "metadata": {},
   "outputs": [
    {
     "data": {
      "text/html": [
       "<div>\n",
       "<style scoped>\n",
       "    .dataframe tbody tr th:only-of-type {\n",
       "        vertical-align: middle;\n",
       "    }\n",
       "\n",
       "    .dataframe tbody tr th {\n",
       "        vertical-align: top;\n",
       "    }\n",
       "\n",
       "    .dataframe thead th {\n",
       "        text-align: right;\n",
       "    }\n",
       "</style>\n",
       "<table border=\"1\" class=\"dataframe\">\n",
       "  <thead>\n",
       "    <tr style=\"text-align: right;\">\n",
       "      <th></th>\n",
       "      <th>Year</th>\n",
       "      <th>Daily Rainfall Total (mm)</th>\n",
       "      <th>Highest 120 min Rainfall (mm)</th>\n",
       "      <th>Mean Temperature (°C)</th>\n",
       "      <th>Maximum Temperature (°C)</th>\n",
       "      <th>Minimum Temperature (°C)</th>\n",
       "      <th>Mean Wind Speed (km/h)</th>\n",
       "      <th>Max Wind Speed (km/h)</th>\n",
       "      <th>Dwelling Type_1-room / 2-room</th>\n",
       "      <th>Dwelling Type_3-room</th>\n",
       "      <th>...</th>\n",
       "      <th>Towns_Tanglin</th>\n",
       "      <th>Towns_Toa Payoh</th>\n",
       "      <th>Towns_West Region</th>\n",
       "      <th>Towns_Woodlands</th>\n",
       "      <th>Towns_Yishun</th>\n",
       "      <th>Region_Central Region</th>\n",
       "      <th>Region_East Region</th>\n",
       "      <th>Region_North East Region</th>\n",
       "      <th>Region_North Region</th>\n",
       "      <th>Region_West Region</th>\n",
       "    </tr>\n",
       "  </thead>\n",
       "  <tbody>\n",
       "    <tr>\n",
       "      <th>0</th>\n",
       "      <td>2005</td>\n",
       "      <td>2.9</td>\n",
       "      <td>5.0</td>\n",
       "      <td>27.5</td>\n",
       "      <td>31.3</td>\n",
       "      <td>25.1</td>\n",
       "      <td>7.2</td>\n",
       "      <td>35.3</td>\n",
       "      <td>1</td>\n",
       "      <td>0</td>\n",
       "      <td>...</td>\n",
       "      <td>0</td>\n",
       "      <td>0</td>\n",
       "      <td>0</td>\n",
       "      <td>0</td>\n",
       "      <td>0</td>\n",
       "      <td>1</td>\n",
       "      <td>0</td>\n",
       "      <td>0</td>\n",
       "      <td>0</td>\n",
       "      <td>0</td>\n",
       "    </tr>\n",
       "    <tr>\n",
       "      <th>1</th>\n",
       "      <td>2005</td>\n",
       "      <td>2.9</td>\n",
       "      <td>5.0</td>\n",
       "      <td>27.5</td>\n",
       "      <td>31.3</td>\n",
       "      <td>25.1</td>\n",
       "      <td>7.2</td>\n",
       "      <td>35.3</td>\n",
       "      <td>1</td>\n",
       "      <td>0</td>\n",
       "      <td>...</td>\n",
       "      <td>0</td>\n",
       "      <td>0</td>\n",
       "      <td>0</td>\n",
       "      <td>0</td>\n",
       "      <td>0</td>\n",
       "      <td>1</td>\n",
       "      <td>0</td>\n",
       "      <td>0</td>\n",
       "      <td>0</td>\n",
       "      <td>0</td>\n",
       "    </tr>\n",
       "    <tr>\n",
       "      <th>2</th>\n",
       "      <td>2005</td>\n",
       "      <td>2.9</td>\n",
       "      <td>5.0</td>\n",
       "      <td>27.5</td>\n",
       "      <td>31.3</td>\n",
       "      <td>25.1</td>\n",
       "      <td>7.2</td>\n",
       "      <td>35.3</td>\n",
       "      <td>1</td>\n",
       "      <td>0</td>\n",
       "      <td>...</td>\n",
       "      <td>0</td>\n",
       "      <td>0</td>\n",
       "      <td>0</td>\n",
       "      <td>0</td>\n",
       "      <td>0</td>\n",
       "      <td>1</td>\n",
       "      <td>0</td>\n",
       "      <td>0</td>\n",
       "      <td>0</td>\n",
       "      <td>0</td>\n",
       "    </tr>\n",
       "    <tr>\n",
       "      <th>3</th>\n",
       "      <td>2005</td>\n",
       "      <td>2.9</td>\n",
       "      <td>5.0</td>\n",
       "      <td>27.5</td>\n",
       "      <td>31.3</td>\n",
       "      <td>25.1</td>\n",
       "      <td>7.2</td>\n",
       "      <td>35.3</td>\n",
       "      <td>1</td>\n",
       "      <td>0</td>\n",
       "      <td>...</td>\n",
       "      <td>0</td>\n",
       "      <td>0</td>\n",
       "      <td>0</td>\n",
       "      <td>0</td>\n",
       "      <td>0</td>\n",
       "      <td>1</td>\n",
       "      <td>0</td>\n",
       "      <td>0</td>\n",
       "      <td>0</td>\n",
       "      <td>0</td>\n",
       "    </tr>\n",
       "    <tr>\n",
       "      <th>4</th>\n",
       "      <td>2005</td>\n",
       "      <td>2.9</td>\n",
       "      <td>5.0</td>\n",
       "      <td>27.5</td>\n",
       "      <td>31.3</td>\n",
       "      <td>25.1</td>\n",
       "      <td>7.2</td>\n",
       "      <td>35.3</td>\n",
       "      <td>1</td>\n",
       "      <td>0</td>\n",
       "      <td>...</td>\n",
       "      <td>0</td>\n",
       "      <td>0</td>\n",
       "      <td>0</td>\n",
       "      <td>0</td>\n",
       "      <td>0</td>\n",
       "      <td>1</td>\n",
       "      <td>0</td>\n",
       "      <td>0</td>\n",
       "      <td>0</td>\n",
       "      <td>0</td>\n",
       "    </tr>\n",
       "    <tr>\n",
       "      <th>...</th>\n",
       "      <td>...</td>\n",
       "      <td>...</td>\n",
       "      <td>...</td>\n",
       "      <td>...</td>\n",
       "      <td>...</td>\n",
       "      <td>...</td>\n",
       "      <td>...</td>\n",
       "      <td>...</td>\n",
       "      <td>...</td>\n",
       "      <td>...</td>\n",
       "      <td>...</td>\n",
       "      <td>...</td>\n",
       "      <td>...</td>\n",
       "      <td>...</td>\n",
       "      <td>...</td>\n",
       "      <td>...</td>\n",
       "      <td>...</td>\n",
       "      <td>...</td>\n",
       "      <td>...</td>\n",
       "      <td>...</td>\n",
       "      <td>...</td>\n",
       "    </tr>\n",
       "    <tr>\n",
       "      <th>60563</th>\n",
       "      <td>2021</td>\n",
       "      <td>9.8</td>\n",
       "      <td>9.4</td>\n",
       "      <td>28.1</td>\n",
       "      <td>32.7</td>\n",
       "      <td>24.5</td>\n",
       "      <td>8.6</td>\n",
       "      <td>31.9</td>\n",
       "      <td>0</td>\n",
       "      <td>0</td>\n",
       "      <td>...</td>\n",
       "      <td>0</td>\n",
       "      <td>0</td>\n",
       "      <td>0</td>\n",
       "      <td>0</td>\n",
       "      <td>0</td>\n",
       "      <td>0</td>\n",
       "      <td>0</td>\n",
       "      <td>0</td>\n",
       "      <td>0</td>\n",
       "      <td>1</td>\n",
       "    </tr>\n",
       "    <tr>\n",
       "      <th>60564</th>\n",
       "      <td>2021</td>\n",
       "      <td>7.5</td>\n",
       "      <td>6.7</td>\n",
       "      <td>28.2</td>\n",
       "      <td>32.1</td>\n",
       "      <td>25.2</td>\n",
       "      <td>4.9</td>\n",
       "      <td>26.5</td>\n",
       "      <td>0</td>\n",
       "      <td>0</td>\n",
       "      <td>...</td>\n",
       "      <td>0</td>\n",
       "      <td>0</td>\n",
       "      <td>0</td>\n",
       "      <td>0</td>\n",
       "      <td>0</td>\n",
       "      <td>0</td>\n",
       "      <td>0</td>\n",
       "      <td>0</td>\n",
       "      <td>0</td>\n",
       "      <td>1</td>\n",
       "    </tr>\n",
       "    <tr>\n",
       "      <th>60565</th>\n",
       "      <td>2021</td>\n",
       "      <td>8.5</td>\n",
       "      <td>7.9</td>\n",
       "      <td>28.2</td>\n",
       "      <td>32.4</td>\n",
       "      <td>24.9</td>\n",
       "      <td>6.7</td>\n",
       "      <td>29.2</td>\n",
       "      <td>0</td>\n",
       "      <td>0</td>\n",
       "      <td>...</td>\n",
       "      <td>0</td>\n",
       "      <td>0</td>\n",
       "      <td>0</td>\n",
       "      <td>0</td>\n",
       "      <td>0</td>\n",
       "      <td>0</td>\n",
       "      <td>0</td>\n",
       "      <td>0</td>\n",
       "      <td>0</td>\n",
       "      <td>1</td>\n",
       "    </tr>\n",
       "    <tr>\n",
       "      <th>60566</th>\n",
       "      <td>2021</td>\n",
       "      <td>8.5</td>\n",
       "      <td>7.9</td>\n",
       "      <td>28.2</td>\n",
       "      <td>32.4</td>\n",
       "      <td>24.9</td>\n",
       "      <td>6.7</td>\n",
       "      <td>29.2</td>\n",
       "      <td>0</td>\n",
       "      <td>0</td>\n",
       "      <td>...</td>\n",
       "      <td>0</td>\n",
       "      <td>0</td>\n",
       "      <td>0</td>\n",
       "      <td>0</td>\n",
       "      <td>0</td>\n",
       "      <td>0</td>\n",
       "      <td>0</td>\n",
       "      <td>0</td>\n",
       "      <td>0</td>\n",
       "      <td>1</td>\n",
       "    </tr>\n",
       "    <tr>\n",
       "      <th>60567</th>\n",
       "      <td>2021</td>\n",
       "      <td>8.5</td>\n",
       "      <td>7.9</td>\n",
       "      <td>28.2</td>\n",
       "      <td>32.4</td>\n",
       "      <td>24.9</td>\n",
       "      <td>6.7</td>\n",
       "      <td>29.2</td>\n",
       "      <td>0</td>\n",
       "      <td>0</td>\n",
       "      <td>...</td>\n",
       "      <td>0</td>\n",
       "      <td>0</td>\n",
       "      <td>1</td>\n",
       "      <td>0</td>\n",
       "      <td>0</td>\n",
       "      <td>0</td>\n",
       "      <td>0</td>\n",
       "      <td>0</td>\n",
       "      <td>0</td>\n",
       "      <td>1</td>\n",
       "    </tr>\n",
       "  </tbody>\n",
       "</table>\n",
       "<p>60568 rows × 80 columns</p>\n",
       "</div>"
      ],
      "text/plain": [
       "       Year  Daily Rainfall Total (mm)  Highest 120 min Rainfall (mm)  \\\n",
       "0      2005                        2.9                            5.0   \n",
       "1      2005                        2.9                            5.0   \n",
       "2      2005                        2.9                            5.0   \n",
       "3      2005                        2.9                            5.0   \n",
       "4      2005                        2.9                            5.0   \n",
       "...     ...                        ...                            ...   \n",
       "60563  2021                        9.8                            9.4   \n",
       "60564  2021                        7.5                            6.7   \n",
       "60565  2021                        8.5                            7.9   \n",
       "60566  2021                        8.5                            7.9   \n",
       "60567  2021                        8.5                            7.9   \n",
       "\n",
       "       Mean Temperature (°C)  Maximum Temperature (°C)  \\\n",
       "0                       27.5                      31.3   \n",
       "1                       27.5                      31.3   \n",
       "2                       27.5                      31.3   \n",
       "3                       27.5                      31.3   \n",
       "4                       27.5                      31.3   \n",
       "...                      ...                       ...   \n",
       "60563                   28.1                      32.7   \n",
       "60564                   28.2                      32.1   \n",
       "60565                   28.2                      32.4   \n",
       "60566                   28.2                      32.4   \n",
       "60567                   28.2                      32.4   \n",
       "\n",
       "       Minimum Temperature (°C)  Mean Wind Speed (km/h)  \\\n",
       "0                          25.1                     7.2   \n",
       "1                          25.1                     7.2   \n",
       "2                          25.1                     7.2   \n",
       "3                          25.1                     7.2   \n",
       "4                          25.1                     7.2   \n",
       "...                         ...                     ...   \n",
       "60563                      24.5                     8.6   \n",
       "60564                      25.2                     4.9   \n",
       "60565                      24.9                     6.7   \n",
       "60566                      24.9                     6.7   \n",
       "60567                      24.9                     6.7   \n",
       "\n",
       "       Max Wind Speed (km/h)  Dwelling Type_1-room / 2-room  \\\n",
       "0                       35.3                              1   \n",
       "1                       35.3                              1   \n",
       "2                       35.3                              1   \n",
       "3                       35.3                              1   \n",
       "4                       35.3                              1   \n",
       "...                      ...                            ...   \n",
       "60563                   31.9                              0   \n",
       "60564                   26.5                              0   \n",
       "60565                   29.2                              0   \n",
       "60566                   29.2                              0   \n",
       "60567                   29.2                              0   \n",
       "\n",
       "       Dwelling Type_3-room  ...  Towns_Tanglin  Towns_Toa Payoh  \\\n",
       "0                         0  ...              0                0   \n",
       "1                         0  ...              0                0   \n",
       "2                         0  ...              0                0   \n",
       "3                         0  ...              0                0   \n",
       "4                         0  ...              0                0   \n",
       "...                     ...  ...            ...              ...   \n",
       "60563                     0  ...              0                0   \n",
       "60564                     0  ...              0                0   \n",
       "60565                     0  ...              0                0   \n",
       "60566                     0  ...              0                0   \n",
       "60567                     0  ...              0                0   \n",
       "\n",
       "       Towns_West Region  Towns_Woodlands  Towns_Yishun  \\\n",
       "0                      0                0             0   \n",
       "1                      0                0             0   \n",
       "2                      0                0             0   \n",
       "3                      0                0             0   \n",
       "4                      0                0             0   \n",
       "...                  ...              ...           ...   \n",
       "60563                  0                0             0   \n",
       "60564                  0                0             0   \n",
       "60565                  0                0             0   \n",
       "60566                  0                0             0   \n",
       "60567                  1                0             0   \n",
       "\n",
       "       Region_Central Region  Region_East Region  Region_North East Region  \\\n",
       "0                          1                   0                         0   \n",
       "1                          1                   0                         0   \n",
       "2                          1                   0                         0   \n",
       "3                          1                   0                         0   \n",
       "4                          1                   0                         0   \n",
       "...                      ...                 ...                       ...   \n",
       "60563                      0                   0                         0   \n",
       "60564                      0                   0                         0   \n",
       "60565                      0                   0                         0   \n",
       "60566                      0                   0                         0   \n",
       "60567                      0                   0                         0   \n",
       "\n",
       "       Region_North Region  Region_West Region  \n",
       "0                        0                   0  \n",
       "1                        0                   0  \n",
       "2                        0                   0  \n",
       "3                        0                   0  \n",
       "4                        0                   0  \n",
       "...                    ...                 ...  \n",
       "60563                    0                   1  \n",
       "60564                    0                   1  \n",
       "60565                    0                   1  \n",
       "60566                    0                   1  \n",
       "60567                    0                   1  \n",
       "\n",
       "[60568 rows x 80 columns]"
      ]
     },
     "execution_count": 5,
     "metadata": {},
     "output_type": "execute_result"
    }
   ],
   "source": [
    "# # Using 120 min data as identified in the notebook with K-NN\n",
    "features_df = pd.get_dummies(df_one_hot_encoded, columns=['Dwelling Type', 'Month', 'Towns', 'Region'])\n",
    "del features_df['Avg kWh']\n",
    "del features_df['Highest 30 min Rainfall (mm)']\n",
    "del features_df['Highest 60 min Rainfall (mm)']\n",
    "features_df"
   ]
  },
  {
   "cell_type": "code",
   "execution_count": 6,
   "id": "2fe8d0f1",
   "metadata": {},
   "outputs": [],
   "source": [
    "# apply normalization techniques\n",
    "for column in features_df.columns:\n",
    "    features_df[column] = (features_df[column] - features_df[column].min()) / (features_df[column].max() - features_df[column].min())"
   ]
  },
  {
   "cell_type": "code",
   "execution_count": 7,
   "id": "9fd14154",
   "metadata": {},
   "outputs": [
    {
     "data": {
      "text/html": [
       "<div>\n",
       "<style scoped>\n",
       "    .dataframe tbody tr th:only-of-type {\n",
       "        vertical-align: middle;\n",
       "    }\n",
       "\n",
       "    .dataframe tbody tr th {\n",
       "        vertical-align: top;\n",
       "    }\n",
       "\n",
       "    .dataframe thead th {\n",
       "        text-align: right;\n",
       "    }\n",
       "</style>\n",
       "<table border=\"1\" class=\"dataframe\">\n",
       "  <thead>\n",
       "    <tr style=\"text-align: right;\">\n",
       "      <th></th>\n",
       "      <th>Year</th>\n",
       "      <th>Daily Rainfall Total (mm)</th>\n",
       "      <th>Highest 120 min Rainfall (mm)</th>\n",
       "      <th>Mean Temperature (°C)</th>\n",
       "      <th>Maximum Temperature (°C)</th>\n",
       "      <th>Minimum Temperature (°C)</th>\n",
       "      <th>Mean Wind Speed (km/h)</th>\n",
       "      <th>Max Wind Speed (km/h)</th>\n",
       "      <th>Dwelling Type_1-room / 2-room</th>\n",
       "      <th>Dwelling Type_3-room</th>\n",
       "      <th>...</th>\n",
       "      <th>Towns_Tanglin</th>\n",
       "      <th>Towns_Toa Payoh</th>\n",
       "      <th>Towns_West Region</th>\n",
       "      <th>Towns_Woodlands</th>\n",
       "      <th>Towns_Yishun</th>\n",
       "      <th>Region_Central Region</th>\n",
       "      <th>Region_East Region</th>\n",
       "      <th>Region_North East Region</th>\n",
       "      <th>Region_North Region</th>\n",
       "      <th>Region_West Region</th>\n",
       "    </tr>\n",
       "  </thead>\n",
       "  <tbody>\n",
       "    <tr>\n",
       "      <th>0</th>\n",
       "      <td>0.0</td>\n",
       "      <td>0.044892</td>\n",
       "      <td>0.206612</td>\n",
       "      <td>0.519231</td>\n",
       "      <td>0.416667</td>\n",
       "      <td>0.574468</td>\n",
       "      <td>0.238095</td>\n",
       "      <td>0.452273</td>\n",
       "      <td>1.0</td>\n",
       "      <td>0.0</td>\n",
       "      <td>...</td>\n",
       "      <td>0.0</td>\n",
       "      <td>0.0</td>\n",
       "      <td>0.0</td>\n",
       "      <td>0.0</td>\n",
       "      <td>0.0</td>\n",
       "      <td>1.0</td>\n",
       "      <td>0.0</td>\n",
       "      <td>0.0</td>\n",
       "      <td>0.0</td>\n",
       "      <td>0.0</td>\n",
       "    </tr>\n",
       "    <tr>\n",
       "      <th>1</th>\n",
       "      <td>0.0</td>\n",
       "      <td>0.044892</td>\n",
       "      <td>0.206612</td>\n",
       "      <td>0.519231</td>\n",
       "      <td>0.416667</td>\n",
       "      <td>0.574468</td>\n",
       "      <td>0.238095</td>\n",
       "      <td>0.452273</td>\n",
       "      <td>1.0</td>\n",
       "      <td>0.0</td>\n",
       "      <td>...</td>\n",
       "      <td>0.0</td>\n",
       "      <td>0.0</td>\n",
       "      <td>0.0</td>\n",
       "      <td>0.0</td>\n",
       "      <td>0.0</td>\n",
       "      <td>1.0</td>\n",
       "      <td>0.0</td>\n",
       "      <td>0.0</td>\n",
       "      <td>0.0</td>\n",
       "      <td>0.0</td>\n",
       "    </tr>\n",
       "    <tr>\n",
       "      <th>2</th>\n",
       "      <td>0.0</td>\n",
       "      <td>0.044892</td>\n",
       "      <td>0.206612</td>\n",
       "      <td>0.519231</td>\n",
       "      <td>0.416667</td>\n",
       "      <td>0.574468</td>\n",
       "      <td>0.238095</td>\n",
       "      <td>0.452273</td>\n",
       "      <td>1.0</td>\n",
       "      <td>0.0</td>\n",
       "      <td>...</td>\n",
       "      <td>0.0</td>\n",
       "      <td>0.0</td>\n",
       "      <td>0.0</td>\n",
       "      <td>0.0</td>\n",
       "      <td>0.0</td>\n",
       "      <td>1.0</td>\n",
       "      <td>0.0</td>\n",
       "      <td>0.0</td>\n",
       "      <td>0.0</td>\n",
       "      <td>0.0</td>\n",
       "    </tr>\n",
       "    <tr>\n",
       "      <th>3</th>\n",
       "      <td>0.0</td>\n",
       "      <td>0.044892</td>\n",
       "      <td>0.206612</td>\n",
       "      <td>0.519231</td>\n",
       "      <td>0.416667</td>\n",
       "      <td>0.574468</td>\n",
       "      <td>0.238095</td>\n",
       "      <td>0.452273</td>\n",
       "      <td>1.0</td>\n",
       "      <td>0.0</td>\n",
       "      <td>...</td>\n",
       "      <td>0.0</td>\n",
       "      <td>0.0</td>\n",
       "      <td>0.0</td>\n",
       "      <td>0.0</td>\n",
       "      <td>0.0</td>\n",
       "      <td>1.0</td>\n",
       "      <td>0.0</td>\n",
       "      <td>0.0</td>\n",
       "      <td>0.0</td>\n",
       "      <td>0.0</td>\n",
       "    </tr>\n",
       "    <tr>\n",
       "      <th>4</th>\n",
       "      <td>0.0</td>\n",
       "      <td>0.044892</td>\n",
       "      <td>0.206612</td>\n",
       "      <td>0.519231</td>\n",
       "      <td>0.416667</td>\n",
       "      <td>0.574468</td>\n",
       "      <td>0.238095</td>\n",
       "      <td>0.452273</td>\n",
       "      <td>1.0</td>\n",
       "      <td>0.0</td>\n",
       "      <td>...</td>\n",
       "      <td>0.0</td>\n",
       "      <td>0.0</td>\n",
       "      <td>0.0</td>\n",
       "      <td>0.0</td>\n",
       "      <td>0.0</td>\n",
       "      <td>1.0</td>\n",
       "      <td>0.0</td>\n",
       "      <td>0.0</td>\n",
       "      <td>0.0</td>\n",
       "      <td>0.0</td>\n",
       "    </tr>\n",
       "    <tr>\n",
       "      <th>...</th>\n",
       "      <td>...</td>\n",
       "      <td>...</td>\n",
       "      <td>...</td>\n",
       "      <td>...</td>\n",
       "      <td>...</td>\n",
       "      <td>...</td>\n",
       "      <td>...</td>\n",
       "      <td>...</td>\n",
       "      <td>...</td>\n",
       "      <td>...</td>\n",
       "      <td>...</td>\n",
       "      <td>...</td>\n",
       "      <td>...</td>\n",
       "      <td>...</td>\n",
       "      <td>...</td>\n",
       "      <td>...</td>\n",
       "      <td>...</td>\n",
       "      <td>...</td>\n",
       "      <td>...</td>\n",
       "      <td>...</td>\n",
       "      <td>...</td>\n",
       "    </tr>\n",
       "    <tr>\n",
       "      <th>60563</th>\n",
       "      <td>1.0</td>\n",
       "      <td>0.151703</td>\n",
       "      <td>0.388430</td>\n",
       "      <td>0.634615</td>\n",
       "      <td>0.650000</td>\n",
       "      <td>0.446809</td>\n",
       "      <td>0.321429</td>\n",
       "      <td>0.375000</td>\n",
       "      <td>0.0</td>\n",
       "      <td>0.0</td>\n",
       "      <td>...</td>\n",
       "      <td>0.0</td>\n",
       "      <td>0.0</td>\n",
       "      <td>0.0</td>\n",
       "      <td>0.0</td>\n",
       "      <td>0.0</td>\n",
       "      <td>0.0</td>\n",
       "      <td>0.0</td>\n",
       "      <td>0.0</td>\n",
       "      <td>0.0</td>\n",
       "      <td>1.0</td>\n",
       "    </tr>\n",
       "    <tr>\n",
       "      <th>60564</th>\n",
       "      <td>1.0</td>\n",
       "      <td>0.116099</td>\n",
       "      <td>0.276860</td>\n",
       "      <td>0.653846</td>\n",
       "      <td>0.550000</td>\n",
       "      <td>0.595745</td>\n",
       "      <td>0.101190</td>\n",
       "      <td>0.252273</td>\n",
       "      <td>0.0</td>\n",
       "      <td>0.0</td>\n",
       "      <td>...</td>\n",
       "      <td>0.0</td>\n",
       "      <td>0.0</td>\n",
       "      <td>0.0</td>\n",
       "      <td>0.0</td>\n",
       "      <td>0.0</td>\n",
       "      <td>0.0</td>\n",
       "      <td>0.0</td>\n",
       "      <td>0.0</td>\n",
       "      <td>0.0</td>\n",
       "      <td>1.0</td>\n",
       "    </tr>\n",
       "    <tr>\n",
       "      <th>60565</th>\n",
       "      <td>1.0</td>\n",
       "      <td>0.131579</td>\n",
       "      <td>0.326446</td>\n",
       "      <td>0.653846</td>\n",
       "      <td>0.600000</td>\n",
       "      <td>0.531915</td>\n",
       "      <td>0.208333</td>\n",
       "      <td>0.313636</td>\n",
       "      <td>0.0</td>\n",
       "      <td>0.0</td>\n",
       "      <td>...</td>\n",
       "      <td>0.0</td>\n",
       "      <td>0.0</td>\n",
       "      <td>0.0</td>\n",
       "      <td>0.0</td>\n",
       "      <td>0.0</td>\n",
       "      <td>0.0</td>\n",
       "      <td>0.0</td>\n",
       "      <td>0.0</td>\n",
       "      <td>0.0</td>\n",
       "      <td>1.0</td>\n",
       "    </tr>\n",
       "    <tr>\n",
       "      <th>60566</th>\n",
       "      <td>1.0</td>\n",
       "      <td>0.131579</td>\n",
       "      <td>0.326446</td>\n",
       "      <td>0.653846</td>\n",
       "      <td>0.600000</td>\n",
       "      <td>0.531915</td>\n",
       "      <td>0.208333</td>\n",
       "      <td>0.313636</td>\n",
       "      <td>0.0</td>\n",
       "      <td>0.0</td>\n",
       "      <td>...</td>\n",
       "      <td>0.0</td>\n",
       "      <td>0.0</td>\n",
       "      <td>0.0</td>\n",
       "      <td>0.0</td>\n",
       "      <td>0.0</td>\n",
       "      <td>0.0</td>\n",
       "      <td>0.0</td>\n",
       "      <td>0.0</td>\n",
       "      <td>0.0</td>\n",
       "      <td>1.0</td>\n",
       "    </tr>\n",
       "    <tr>\n",
       "      <th>60567</th>\n",
       "      <td>1.0</td>\n",
       "      <td>0.131579</td>\n",
       "      <td>0.326446</td>\n",
       "      <td>0.653846</td>\n",
       "      <td>0.600000</td>\n",
       "      <td>0.531915</td>\n",
       "      <td>0.208333</td>\n",
       "      <td>0.313636</td>\n",
       "      <td>0.0</td>\n",
       "      <td>0.0</td>\n",
       "      <td>...</td>\n",
       "      <td>0.0</td>\n",
       "      <td>0.0</td>\n",
       "      <td>1.0</td>\n",
       "      <td>0.0</td>\n",
       "      <td>0.0</td>\n",
       "      <td>0.0</td>\n",
       "      <td>0.0</td>\n",
       "      <td>0.0</td>\n",
       "      <td>0.0</td>\n",
       "      <td>1.0</td>\n",
       "    </tr>\n",
       "  </tbody>\n",
       "</table>\n",
       "<p>60568 rows × 80 columns</p>\n",
       "</div>"
      ],
      "text/plain": [
       "       Year  Daily Rainfall Total (mm)  Highest 120 min Rainfall (mm)  \\\n",
       "0       0.0                   0.044892                       0.206612   \n",
       "1       0.0                   0.044892                       0.206612   \n",
       "2       0.0                   0.044892                       0.206612   \n",
       "3       0.0                   0.044892                       0.206612   \n",
       "4       0.0                   0.044892                       0.206612   \n",
       "...     ...                        ...                            ...   \n",
       "60563   1.0                   0.151703                       0.388430   \n",
       "60564   1.0                   0.116099                       0.276860   \n",
       "60565   1.0                   0.131579                       0.326446   \n",
       "60566   1.0                   0.131579                       0.326446   \n",
       "60567   1.0                   0.131579                       0.326446   \n",
       "\n",
       "       Mean Temperature (°C)  Maximum Temperature (°C)  \\\n",
       "0                   0.519231                  0.416667   \n",
       "1                   0.519231                  0.416667   \n",
       "2                   0.519231                  0.416667   \n",
       "3                   0.519231                  0.416667   \n",
       "4                   0.519231                  0.416667   \n",
       "...                      ...                       ...   \n",
       "60563               0.634615                  0.650000   \n",
       "60564               0.653846                  0.550000   \n",
       "60565               0.653846                  0.600000   \n",
       "60566               0.653846                  0.600000   \n",
       "60567               0.653846                  0.600000   \n",
       "\n",
       "       Minimum Temperature (°C)  Mean Wind Speed (km/h)  \\\n",
       "0                      0.574468                0.238095   \n",
       "1                      0.574468                0.238095   \n",
       "2                      0.574468                0.238095   \n",
       "3                      0.574468                0.238095   \n",
       "4                      0.574468                0.238095   \n",
       "...                         ...                     ...   \n",
       "60563                  0.446809                0.321429   \n",
       "60564                  0.595745                0.101190   \n",
       "60565                  0.531915                0.208333   \n",
       "60566                  0.531915                0.208333   \n",
       "60567                  0.531915                0.208333   \n",
       "\n",
       "       Max Wind Speed (km/h)  Dwelling Type_1-room / 2-room  \\\n",
       "0                   0.452273                            1.0   \n",
       "1                   0.452273                            1.0   \n",
       "2                   0.452273                            1.0   \n",
       "3                   0.452273                            1.0   \n",
       "4                   0.452273                            1.0   \n",
       "...                      ...                            ...   \n",
       "60563               0.375000                            0.0   \n",
       "60564               0.252273                            0.0   \n",
       "60565               0.313636                            0.0   \n",
       "60566               0.313636                            0.0   \n",
       "60567               0.313636                            0.0   \n",
       "\n",
       "       Dwelling Type_3-room  ...  Towns_Tanglin  Towns_Toa Payoh  \\\n",
       "0                       0.0  ...            0.0              0.0   \n",
       "1                       0.0  ...            0.0              0.0   \n",
       "2                       0.0  ...            0.0              0.0   \n",
       "3                       0.0  ...            0.0              0.0   \n",
       "4                       0.0  ...            0.0              0.0   \n",
       "...                     ...  ...            ...              ...   \n",
       "60563                   0.0  ...            0.0              0.0   \n",
       "60564                   0.0  ...            0.0              0.0   \n",
       "60565                   0.0  ...            0.0              0.0   \n",
       "60566                   0.0  ...            0.0              0.0   \n",
       "60567                   0.0  ...            0.0              0.0   \n",
       "\n",
       "       Towns_West Region  Towns_Woodlands  Towns_Yishun  \\\n",
       "0                    0.0              0.0           0.0   \n",
       "1                    0.0              0.0           0.0   \n",
       "2                    0.0              0.0           0.0   \n",
       "3                    0.0              0.0           0.0   \n",
       "4                    0.0              0.0           0.0   \n",
       "...                  ...              ...           ...   \n",
       "60563                0.0              0.0           0.0   \n",
       "60564                0.0              0.0           0.0   \n",
       "60565                0.0              0.0           0.0   \n",
       "60566                0.0              0.0           0.0   \n",
       "60567                1.0              0.0           0.0   \n",
       "\n",
       "       Region_Central Region  Region_East Region  Region_North East Region  \\\n",
       "0                        1.0                 0.0                       0.0   \n",
       "1                        1.0                 0.0                       0.0   \n",
       "2                        1.0                 0.0                       0.0   \n",
       "3                        1.0                 0.0                       0.0   \n",
       "4                        1.0                 0.0                       0.0   \n",
       "...                      ...                 ...                       ...   \n",
       "60563                    0.0                 0.0                       0.0   \n",
       "60564                    0.0                 0.0                       0.0   \n",
       "60565                    0.0                 0.0                       0.0   \n",
       "60566                    0.0                 0.0                       0.0   \n",
       "60567                    0.0                 0.0                       0.0   \n",
       "\n",
       "       Region_North Region  Region_West Region  \n",
       "0                      0.0                 0.0  \n",
       "1                      0.0                 0.0  \n",
       "2                      0.0                 0.0  \n",
       "3                      0.0                 0.0  \n",
       "4                      0.0                 0.0  \n",
       "...                    ...                 ...  \n",
       "60563                  0.0                 1.0  \n",
       "60564                  0.0                 1.0  \n",
       "60565                  0.0                 1.0  \n",
       "60566                  0.0                 1.0  \n",
       "60567                  0.0                 1.0  \n",
       "\n",
       "[60568 rows x 80 columns]"
      ]
     },
     "execution_count": 7,
     "metadata": {},
     "output_type": "execute_result"
    }
   ],
   "source": [
    "features_df"
   ]
  },
  {
   "cell_type": "code",
   "execution_count": 8,
   "id": "68ec135f",
   "metadata": {},
   "outputs": [],
   "source": [
    "X = features_df\n",
    "y = df_one_hot_encoded['Avg kWh']"
   ]
  },
  {
   "cell_type": "code",
   "execution_count": 9,
   "id": "d1000e55",
   "metadata": {},
   "outputs": [],
   "source": [
    "X_train, X_test, y_train, y_test = train_test_split(X, y, test_size=0.2, random_state=0)"
   ]
  },
  {
   "cell_type": "code",
   "execution_count": 10,
   "id": "3171d370",
   "metadata": {},
   "outputs": [],
   "source": [
    "eval_results = {}\n",
    "def perform_eval(model, model_name):\n",
    "    #Mean squared error \n",
    "    y_train_pred = model.predict(X_train)\n",
    "    y_test_pred = model.predict(X_test)\n",
    "    #Train\n",
    "    mse_train = mean_squared_error(y_train, y_train_pred)\n",
    "    rmse_train = mean_squared_error(y_train, y_train_pred, squared=False)\n",
    "    #Test\n",
    "    mse_test = mean_squared_error(y_test, y_test_pred)\n",
    "    rmse_test = mean_squared_error(y_test, y_test_pred, squared=False)\n",
    "\n",
    "    #R Squared Score\n",
    "    #Train\n",
    "    r2train = model.score(X_train, y_train)\n",
    "    adjr2_train = 1 - (1-r2train) * (len(y)-1)/(len(y)-X.shape[1]-1)\n",
    "    #Test\n",
    "    r2test = model.score(X_test, y_test)\n",
    "    adjr2_test = 1 - (1-r2test) * (len(y)-1)/(len(y)-X.shape[1]-1)\n",
    "    \n",
    "    eval_results[model_name] = {\n",
    "        \"MSE (Train)\" : mse_train,\n",
    "        \"MSE (Test)\" : mse_test,\n",
    "        \"RMSE (Train)\" : rmse_train,\n",
    "        \"RMSE (Test)\" : rmse_test,\n",
    "        \"R2 (Train)\" : r2train,\n",
    "        \"R2 (Test)\" : r2test,\n",
    "        \"Adj R2 (Train)\" : adjr2_train,\n",
    "        \"Adj R2 (Test)\" : adjr2_test\n",
    "    }\n",
    "    \n",
    "    return eval_results[model_name]"
   ]
  },
  {
   "cell_type": "code",
   "execution_count": 11,
   "id": "695e53a7",
   "metadata": {},
   "outputs": [],
   "source": [
    "def get_best_model(model, best_model):\n",
    "    if best_model == \"\":\n",
    "        best_model = model\n",
    "\n",
    "    #test adj r2\n",
    "    best_adjr2_test = 1 - (1-best_model.score(X_test, y_test)) * (len(y)-1)/(len(y)-X.shape[1]-1)\n",
    "    model_adjr2_test = 1 - (1-model.score(X_test, y_test)) * (len(y)-1)/(len(y)-X.shape[1]-1)\n",
    "\n",
    "    if model_adjr2_test > best_adjr2_test:\n",
    "        best_model = model\n",
    "\n",
    "    return best_model"
   ]
  },
  {
   "cell_type": "code",
   "execution_count": 12,
   "id": "bbac727f",
   "metadata": {},
   "outputs": [],
   "source": [
    "def compare_results(desired_model):\n",
    "    metric_data = []\n",
    "    col_names = [\"Models\"]\n",
    "    col_done = False\n",
    "\n",
    "    for model in eval_results:\n",
    "        eval_list = []\n",
    "        #Append Model names\n",
    "        if (desired_model.lower() in str(model).lower()) or (desired_model.lower() == \"all\"):\n",
    "            eval_list.append(model)\n",
    "            for metric in eval_results[model]:\n",
    "                if not col_done:\n",
    "                    col_names.append(metric)\n",
    "                eval_list.append(eval_results[model][metric])\n",
    "            col_done = True\n",
    "            metric_data.append(eval_list)\n",
    "        \n",
    "    df = pd.DataFrame(metric_data, columns=col_names)\n",
    "    df = df.sort_values(by=['Adj R2 (Test)'], ascending=False)\n",
    "    df = df.style.set_table_attributes(\"style='display:inline'\").set_caption(f'{str(desired_model).capitalize()} Models (Sort by Adj R2 (Test))')\n",
    "    \n",
    "    return df"
   ]
  },
  {
   "cell_type": "markdown",
   "id": "58328724",
   "metadata": {},
   "source": [
    "# Ensemble Methods"
   ]
  },
  {
   "cell_type": "markdown",
   "id": "0e835759",
   "metadata": {},
   "source": [
    "# 1) Extra Tree Regressor"
   ]
  },
  {
   "cell_type": "code",
   "execution_count": 13,
   "id": "3a7daccb",
   "metadata": {},
   "outputs": [],
   "source": [
    "#Reset best model for each section\n",
    "best_model = \"\""
   ]
  },
  {
   "cell_type": "code",
   "execution_count": 14,
   "id": "f5fdf08b",
   "metadata": {},
   "outputs": [
    {
     "data": {
      "text/plain": [
       "ExtraTreesRegressor(max_depth=3, max_features=20, n_estimators=3,\n",
       "                    random_state=7)"
      ]
     },
     "execution_count": 14,
     "metadata": {},
     "output_type": "execute_result"
    }
   ],
   "source": [
    "initial_etr=ExtraTreesRegressor(max_features=20, n_estimators=3, random_state=7, max_depth=3)\n",
    "initial_etr.fit(X_train,y_train)"
   ]
  },
  {
   "cell_type": "code",
   "execution_count": 15,
   "id": "0504e50c",
   "metadata": {},
   "outputs": [
    {
     "name": "stdout",
     "output_type": "stream",
     "text": [
      "MSE (Train): 96529.22128013207\n",
      "MSE (Test): 90950.85234820581\n",
      "RMSE (Train): 310.6915210946898\n",
      "RMSE (Test): 301.5805901383672\n",
      "R2 (Train): 0.48002450733907687\n",
      "R2 (Test): 0.4914311385841901\n",
      "Adj R2 (Train): 0.47933678866543006\n",
      "Adj R2 (Test): 0.4907585063010008\n"
     ]
    }
   ],
   "source": [
    "best_model = get_best_model(initial_etr, best_model)\n",
    "res_val = perform_eval(initial_etr, \"Extra Tree Regressor (Initial)\")\n",
    "for key in res_val:\n",
    "    print(f\"{key}: {res_val[key]}\")"
   ]
  },
  {
   "cell_type": "markdown",
   "id": "569f7b81",
   "metadata": {},
   "source": [
    "# Grid Search CV for best n_estimators and max_features, max_depth"
   ]
  },
  {
   "cell_type": "code",
   "execution_count": 16,
   "id": "b2ad127c",
   "metadata": {},
   "outputs": [
    {
     "data": {
      "text/plain": [
       "GridSearchCV(cv=10, estimator=ExtraTreesRegressor(random_state=7),\n",
       "             param_grid=[{'max_depth': [3, 5, 7],\n",
       "                          'max_features': [1, 2, 5, 10, 20],\n",
       "                          'n_estimators': [50, 100, 200]}])"
      ]
     },
     "execution_count": 16,
     "metadata": {},
     "output_type": "execute_result"
    }
   ],
   "source": [
    "param_grid=[\n",
    "{'n_estimators':[50,100,200],'max_features':[1,2,5,10,20], 'max_depth':[3,5,7]}]\n",
    "forest_reg_extra=ExtraTreesRegressor(random_state=7)\n",
    "rnd_grid_search_extra=GridSearchCV(forest_reg_extra,param_grid, cv=10)\n",
    "rnd_grid_search_extra.fit(X_train,y_train)"
   ]
  },
  {
   "cell_type": "code",
   "execution_count": 17,
   "id": "9abedc05",
   "metadata": {},
   "outputs": [
    {
     "data": {
      "text/plain": [
       "{'max_depth': 7, 'max_features': 20, 'n_estimators': 200}"
      ]
     },
     "execution_count": 17,
     "metadata": {},
     "output_type": "execute_result"
    }
   ],
   "source": [
    "rnd_grid_search_extra.best_params_"
   ]
  },
  {
   "cell_type": "code",
   "execution_count": 18,
   "id": "7a4f5d7a",
   "metadata": {},
   "outputs": [
    {
     "data": {
      "text/plain": [
       "ExtraTreesRegressor(max_depth=7, max_features=20, n_estimators=200,\n",
       "                    random_state=7)"
      ]
     },
     "execution_count": 18,
     "metadata": {},
     "output_type": "execute_result"
    }
   ],
   "source": [
    "best_params_etr=ExtraTreesRegressor(max_features=20, n_estimators=200, max_depth=7, random_state=7)\n",
    "best_params_etr.fit(X_train,y_train)"
   ]
  },
  {
   "cell_type": "code",
   "execution_count": 19,
   "id": "fcc8cd64",
   "metadata": {},
   "outputs": [
    {
     "name": "stdout",
     "output_type": "stream",
     "text": [
      "MSE (Train): 27006.37983034979\n",
      "MSE (Test): 26566.010655491766\n",
      "RMSE (Train): 164.33617931042997\n",
      "RMSE (Test): 162.99082997362694\n",
      "R2 (Train): 0.8545243039253188\n",
      "R2 (Test): 0.8514511360520499\n",
      "Adj R2 (Train): 0.8543318980251092\n",
      "Adj R2 (Test): 0.8512546655854069\n"
     ]
    }
   ],
   "source": [
    "best_model = get_best_model(best_params_etr, best_model)\n",
    "res_val = perform_eval(best_params_etr, \"Extra Tree Regressor (Best Params)\")\n",
    "for key in res_val:\n",
    "    print(f\"{key}: {res_val[key]}\")"
   ]
  },
  {
   "cell_type": "code",
   "execution_count": 22,
   "id": "8f604852",
   "metadata": {},
   "outputs": [
    {
     "data": {
      "text/html": [
       "<style type=\"text/css\">\n",
       "</style>\n",
       "<table id=\"T_62a7f\" style='display:inline'>\n",
       "  <caption>Extra tree Models (Sort by Adj R2 (Test))</caption>\n",
       "  <thead>\n",
       "    <tr>\n",
       "      <th class=\"blank level0\" >&nbsp;</th>\n",
       "      <th id=\"T_62a7f_level0_col0\" class=\"col_heading level0 col0\" >Models</th>\n",
       "      <th id=\"T_62a7f_level0_col1\" class=\"col_heading level0 col1\" >MSE (Train)</th>\n",
       "      <th id=\"T_62a7f_level0_col2\" class=\"col_heading level0 col2\" >MSE (Test)</th>\n",
       "      <th id=\"T_62a7f_level0_col3\" class=\"col_heading level0 col3\" >RMSE (Train)</th>\n",
       "      <th id=\"T_62a7f_level0_col4\" class=\"col_heading level0 col4\" >RMSE (Test)</th>\n",
       "      <th id=\"T_62a7f_level0_col5\" class=\"col_heading level0 col5\" >R2 (Train)</th>\n",
       "      <th id=\"T_62a7f_level0_col6\" class=\"col_heading level0 col6\" >R2 (Test)</th>\n",
       "      <th id=\"T_62a7f_level0_col7\" class=\"col_heading level0 col7\" >Adj R2 (Train)</th>\n",
       "      <th id=\"T_62a7f_level0_col8\" class=\"col_heading level0 col8\" >Adj R2 (Test)</th>\n",
       "    </tr>\n",
       "  </thead>\n",
       "  <tbody>\n",
       "    <tr>\n",
       "      <th id=\"T_62a7f_level0_row0\" class=\"row_heading level0 row0\" >1</th>\n",
       "      <td id=\"T_62a7f_row0_col0\" class=\"data row0 col0\" >Extra Tree Regressor (Best Params)</td>\n",
       "      <td id=\"T_62a7f_row0_col1\" class=\"data row0 col1\" >27006.379830</td>\n",
       "      <td id=\"T_62a7f_row0_col2\" class=\"data row0 col2\" >26566.010655</td>\n",
       "      <td id=\"T_62a7f_row0_col3\" class=\"data row0 col3\" >164.336179</td>\n",
       "      <td id=\"T_62a7f_row0_col4\" class=\"data row0 col4\" >162.990830</td>\n",
       "      <td id=\"T_62a7f_row0_col5\" class=\"data row0 col5\" >0.854524</td>\n",
       "      <td id=\"T_62a7f_row0_col6\" class=\"data row0 col6\" >0.851451</td>\n",
       "      <td id=\"T_62a7f_row0_col7\" class=\"data row0 col7\" >0.854332</td>\n",
       "      <td id=\"T_62a7f_row0_col8\" class=\"data row0 col8\" >0.851255</td>\n",
       "    </tr>\n",
       "    <tr>\n",
       "      <th id=\"T_62a7f_level0_row1\" class=\"row_heading level0 row1\" >0</th>\n",
       "      <td id=\"T_62a7f_row1_col0\" class=\"data row1 col0\" >Extra Tree Regressor (Initial)</td>\n",
       "      <td id=\"T_62a7f_row1_col1\" class=\"data row1 col1\" >96529.221280</td>\n",
       "      <td id=\"T_62a7f_row1_col2\" class=\"data row1 col2\" >90950.852348</td>\n",
       "      <td id=\"T_62a7f_row1_col3\" class=\"data row1 col3\" >310.691521</td>\n",
       "      <td id=\"T_62a7f_row1_col4\" class=\"data row1 col4\" >301.580590</td>\n",
       "      <td id=\"T_62a7f_row1_col5\" class=\"data row1 col5\" >0.480025</td>\n",
       "      <td id=\"T_62a7f_row1_col6\" class=\"data row1 col6\" >0.491431</td>\n",
       "      <td id=\"T_62a7f_row1_col7\" class=\"data row1 col7\" >0.479337</td>\n",
       "      <td id=\"T_62a7f_row1_col8\" class=\"data row1 col8\" >0.490759</td>\n",
       "    </tr>\n",
       "  </tbody>\n",
       "</table>\n"
      ],
      "text/plain": [
       "<pandas.io.formats.style.Styler at 0x27fc1ddd4e0>"
      ]
     },
     "execution_count": 22,
     "metadata": {},
     "output_type": "execute_result"
    }
   ],
   "source": [
    "etr_df = compare_results(\"extra tree\")\n",
    "etr_df"
   ]
  },
  {
   "cell_type": "code",
   "execution_count": 23,
   "id": "5abd6443",
   "metadata": {},
   "outputs": [],
   "source": [
    "import pickle\n",
    "filename = 'ensemble_etr.pkl'\n",
    "save_location = os.path.join(\".\",\"trained_models\", filename)\n",
    "pickle.dump(best_model, open(save_location, 'wb'))"
   ]
  },
  {
   "cell_type": "markdown",
   "id": "93e890b4",
   "metadata": {},
   "source": [
    "# 2) Random Forest Regressor"
   ]
  },
  {
   "cell_type": "code",
   "execution_count": 24,
   "id": "cfd2aa05",
   "metadata": {},
   "outputs": [],
   "source": [
    "#Reset best model for each section\n",
    "best_model = \"\""
   ]
  },
  {
   "cell_type": "code",
   "execution_count": 25,
   "id": "a89a665b",
   "metadata": {},
   "outputs": [
    {
     "data": {
      "text/plain": [
       "RandomForestRegressor(max_depth=3, max_features=20, n_estimators=50,\n",
       "                      random_state=7)"
      ]
     },
     "execution_count": 25,
     "metadata": {},
     "output_type": "execute_result"
    }
   ],
   "source": [
    "from sklearn.ensemble import RandomForestRegressor\n",
    "#default criterion is MSE\n",
    "# fitting RandomForestRegressor with training dataset\n",
    "# criterion = MSE\n",
    "initial_rfr = RandomForestRegressor(\n",
    "    random_state=7,\n",
    "    n_estimators = 50, max_depth=3, max_features=20)\n",
    "initial_rfr.fit(X_train, y_train.values.ravel())"
   ]
  },
  {
   "cell_type": "code",
   "execution_count": 26,
   "id": "3484f274",
   "metadata": {},
   "outputs": [
    {
     "name": "stdout",
     "output_type": "stream",
     "text": [
      "MSE (Train): 74470.46354116454\n",
      "MSE (Test): 71533.56391412587\n",
      "RMSE (Train): 272.89276930905396\n",
      "RMSE (Test): 267.4575927397199\n",
      "R2 (Train): 0.5988487687461084\n",
      "R2 (Test): 0.6000065726317547\n",
      "Adj R2 (Train): 0.598318206831973\n",
      "Adj R2 (Test): 0.5994775420270055\n"
     ]
    }
   ],
   "source": [
    "best_model = get_best_model(initial_rfr, best_model)\n",
    "res_val = perform_eval(initial_rfr, \"Random Forest Regressor (Initial)\")\n",
    "for key in res_val:\n",
    "    print(f\"{key}: {res_val[key]}\")"
   ]
  },
  {
   "cell_type": "markdown",
   "id": "bd3ee980",
   "metadata": {},
   "source": [
    "# Gridsearch CV for best n_estimators, max_features, max_depth"
   ]
  },
  {
   "cell_type": "code",
   "execution_count": 27,
   "id": "f2e100fc",
   "metadata": {},
   "outputs": [
    {
     "data": {
      "text/plain": [
       "GridSearchCV(estimator=RandomForestRegressor(random_state=7),\n",
       "             param_grid=[{'max_depth': [3, 5, 7],\n",
       "                          'max_features': [1, 2, 5, 10, 20],\n",
       "                          'n_estimators': [50, 100, 200]}])"
      ]
     },
     "execution_count": 27,
     "metadata": {},
     "output_type": "execute_result"
    }
   ],
   "source": [
    "param_grid=[\n",
    "{'n_estimators':[50,100,200],'max_features':[1,2,5,10,20], 'max_depth':[3,5,7]}]\n",
    "forest_reg=RandomForestRegressor(random_state=7)\n",
    "rnd_grid_search=GridSearchCV(forest_reg,param_grid)\n",
    "rnd_grid_search.fit(X_train,y_train)"
   ]
  },
  {
   "cell_type": "code",
   "execution_count": 28,
   "id": "c7eef466",
   "metadata": {},
   "outputs": [
    {
     "data": {
      "text/plain": [
       "{'max_depth': 7, 'max_features': 20, 'n_estimators': 50}"
      ]
     },
     "execution_count": 28,
     "metadata": {},
     "output_type": "execute_result"
    }
   ],
   "source": [
    "rnd_grid_search.best_params_"
   ]
  },
  {
   "cell_type": "code",
   "execution_count": 29,
   "id": "18e4317b",
   "metadata": {},
   "outputs": [
    {
     "data": {
      "text/plain": [
       "RandomForestRegressor(max_depth=7, max_features=20, n_estimators=50,\n",
       "                      random_state=7)"
      ]
     },
     "execution_count": 29,
     "metadata": {},
     "output_type": "execute_result"
    }
   ],
   "source": [
    "best_params_rfr = RandomForestRegressor(\n",
    "    random_state=7,\n",
    "    n_estimators = 50, max_features=20, max_depth=7)\n",
    "best_params_rfr.fit(X_train, y_train.values.ravel())"
   ]
  },
  {
   "cell_type": "code",
   "execution_count": 30,
   "id": "2643a0e3",
   "metadata": {},
   "outputs": [
    {
     "name": "stdout",
     "output_type": "stream",
     "text": [
      "MSE (Train): 27447.049300168026\n",
      "MSE (Test): 26937.765106422536\n",
      "RMSE (Train): 165.67151022480607\n",
      "RMSE (Test): 164.12728324816243\n",
      "R2 (Train): 0.8521505426784068\n",
      "R2 (Test): 0.8493724008565589\n",
      "Adj R2 (Train): 0.8519549972457399\n",
      "Adj R2 (Test): 0.849173181058396\n"
     ]
    }
   ],
   "source": [
    "best_model = get_best_model(best_params_rfr, best_model)\n",
    "res_val = perform_eval(best_params_rfr, \"Random Forest Regressor (Best Params)\")\n",
    "for key in res_val:\n",
    "    print(f\"{key}: {res_val[key]}\")"
   ]
  },
  {
   "cell_type": "markdown",
   "id": "bf36c378",
   "metadata": {},
   "source": [
    "Try to improve somemore"
   ]
  },
  {
   "cell_type": "code",
   "execution_count": 31,
   "id": "27daf871",
   "metadata": {},
   "outputs": [
    {
     "data": {
      "text/plain": [
       "GridSearchCV(estimator=RandomForestRegressor(max_depth=7, random_state=7),\n",
       "             param_grid=[{'max_features': [10, 20, 50],\n",
       "                          'n_estimators': [50, 100]}])"
      ]
     },
     "execution_count": 31,
     "metadata": {},
     "output_type": "execute_result"
    }
   ],
   "source": [
    "param_grid=[\n",
    "{'n_estimators':[50,100],'max_features':[10,20,50]}]\n",
    "forest_reg=RandomForestRegressor(random_state=7, max_depth=7)\n",
    "rnd_grid_search=GridSearchCV(forest_reg,param_grid)\n",
    "rnd_grid_search.fit(X_train,y_train)"
   ]
  },
  {
   "cell_type": "code",
   "execution_count": 32,
   "id": "7a1c8a64",
   "metadata": {},
   "outputs": [
    {
     "data": {
      "text/plain": [
       "{'max_features': 50, 'n_estimators': 100}"
      ]
     },
     "execution_count": 32,
     "metadata": {},
     "output_type": "execute_result"
    }
   ],
   "source": [
    "rnd_grid_search.best_params_"
   ]
  },
  {
   "cell_type": "code",
   "execution_count": 33,
   "id": "72e422c7",
   "metadata": {},
   "outputs": [
    {
     "data": {
      "text/plain": [
       "RandomForestRegressor(max_depth=7, max_features=50, random_state=7)"
      ]
     },
     "execution_count": 33,
     "metadata": {},
     "output_type": "execute_result"
    }
   ],
   "source": [
    "best_params_rfr_v2 = RandomForestRegressor(\n",
    "    random_state=7,\n",
    "    n_estimators = 100, max_features=50, max_depth=7)\n",
    "best_params_rfr_v2.fit(X_train, y_train.values.ravel())"
   ]
  },
  {
   "cell_type": "code",
   "execution_count": 34,
   "id": "413d2b40",
   "metadata": {},
   "outputs": [
    {
     "name": "stdout",
     "output_type": "stream",
     "text": [
      "MSE (Train): 17555.93643692776\n",
      "MSE (Test): 17487.6574728108\n",
      "RMSE (Train): 132.4988167378402\n",
      "RMSE (Test): 132.2409069570033\n",
      "R2 (Train): 0.9054311577690698\n",
      "R2 (Test): 0.9022144617652667\n",
      "Adj R2 (Train): 0.9053060811843743\n",
      "Adj R2 (Test): 0.9020851307840843\n"
     ]
    }
   ],
   "source": [
    "best_model = get_best_model(best_params_rfr_v2, best_model)\n",
    "res_val = perform_eval(best_params_rfr_v2, \"Random Forest Regressor (Best Params v2)\")\n",
    "for key in res_val:\n",
    "    print(f\"{key}: {res_val[key]}\")"
   ]
  },
  {
   "cell_type": "code",
   "execution_count": 35,
   "id": "ceea17fb",
   "metadata": {},
   "outputs": [
    {
     "data": {
      "text/html": [
       "<style type=\"text/css\">\n",
       "</style>\n",
       "<table id=\"T_f6263\" style='display:inline'>\n",
       "  <caption>Random forest Models (Sort by Adj R2 (Test))</caption>\n",
       "  <thead>\n",
       "    <tr>\n",
       "      <th class=\"blank level0\" >&nbsp;</th>\n",
       "      <th id=\"T_f6263_level0_col0\" class=\"col_heading level0 col0\" >Models</th>\n",
       "      <th id=\"T_f6263_level0_col1\" class=\"col_heading level0 col1\" >MSE (Train)</th>\n",
       "      <th id=\"T_f6263_level0_col2\" class=\"col_heading level0 col2\" >MSE (Test)</th>\n",
       "      <th id=\"T_f6263_level0_col3\" class=\"col_heading level0 col3\" >RMSE (Train)</th>\n",
       "      <th id=\"T_f6263_level0_col4\" class=\"col_heading level0 col4\" >RMSE (Test)</th>\n",
       "      <th id=\"T_f6263_level0_col5\" class=\"col_heading level0 col5\" >R2 (Train)</th>\n",
       "      <th id=\"T_f6263_level0_col6\" class=\"col_heading level0 col6\" >R2 (Test)</th>\n",
       "      <th id=\"T_f6263_level0_col7\" class=\"col_heading level0 col7\" >Adj R2 (Train)</th>\n",
       "      <th id=\"T_f6263_level0_col8\" class=\"col_heading level0 col8\" >Adj R2 (Test)</th>\n",
       "    </tr>\n",
       "  </thead>\n",
       "  <tbody>\n",
       "    <tr>\n",
       "      <th id=\"T_f6263_level0_row0\" class=\"row_heading level0 row0\" >2</th>\n",
       "      <td id=\"T_f6263_row0_col0\" class=\"data row0 col0\" >Random Forest Regressor (Best Params v2)</td>\n",
       "      <td id=\"T_f6263_row0_col1\" class=\"data row0 col1\" >17555.936437</td>\n",
       "      <td id=\"T_f6263_row0_col2\" class=\"data row0 col2\" >17487.657473</td>\n",
       "      <td id=\"T_f6263_row0_col3\" class=\"data row0 col3\" >132.498817</td>\n",
       "      <td id=\"T_f6263_row0_col4\" class=\"data row0 col4\" >132.240907</td>\n",
       "      <td id=\"T_f6263_row0_col5\" class=\"data row0 col5\" >0.905431</td>\n",
       "      <td id=\"T_f6263_row0_col6\" class=\"data row0 col6\" >0.902214</td>\n",
       "      <td id=\"T_f6263_row0_col7\" class=\"data row0 col7\" >0.905306</td>\n",
       "      <td id=\"T_f6263_row0_col8\" class=\"data row0 col8\" >0.902085</td>\n",
       "    </tr>\n",
       "    <tr>\n",
       "      <th id=\"T_f6263_level0_row1\" class=\"row_heading level0 row1\" >1</th>\n",
       "      <td id=\"T_f6263_row1_col0\" class=\"data row1 col0\" >Random Forest Regressor (Best Params)</td>\n",
       "      <td id=\"T_f6263_row1_col1\" class=\"data row1 col1\" >27447.049300</td>\n",
       "      <td id=\"T_f6263_row1_col2\" class=\"data row1 col2\" >26937.765106</td>\n",
       "      <td id=\"T_f6263_row1_col3\" class=\"data row1 col3\" >165.671510</td>\n",
       "      <td id=\"T_f6263_row1_col4\" class=\"data row1 col4\" >164.127283</td>\n",
       "      <td id=\"T_f6263_row1_col5\" class=\"data row1 col5\" >0.852151</td>\n",
       "      <td id=\"T_f6263_row1_col6\" class=\"data row1 col6\" >0.849372</td>\n",
       "      <td id=\"T_f6263_row1_col7\" class=\"data row1 col7\" >0.851955</td>\n",
       "      <td id=\"T_f6263_row1_col8\" class=\"data row1 col8\" >0.849173</td>\n",
       "    </tr>\n",
       "    <tr>\n",
       "      <th id=\"T_f6263_level0_row2\" class=\"row_heading level0 row2\" >0</th>\n",
       "      <td id=\"T_f6263_row2_col0\" class=\"data row2 col0\" >Random Forest Regressor (Initial)</td>\n",
       "      <td id=\"T_f6263_row2_col1\" class=\"data row2 col1\" >74470.463541</td>\n",
       "      <td id=\"T_f6263_row2_col2\" class=\"data row2 col2\" >71533.563914</td>\n",
       "      <td id=\"T_f6263_row2_col3\" class=\"data row2 col3\" >272.892769</td>\n",
       "      <td id=\"T_f6263_row2_col4\" class=\"data row2 col4\" >267.457593</td>\n",
       "      <td id=\"T_f6263_row2_col5\" class=\"data row2 col5\" >0.598849</td>\n",
       "      <td id=\"T_f6263_row2_col6\" class=\"data row2 col6\" >0.600007</td>\n",
       "      <td id=\"T_f6263_row2_col7\" class=\"data row2 col7\" >0.598318</td>\n",
       "      <td id=\"T_f6263_row2_col8\" class=\"data row2 col8\" >0.599478</td>\n",
       "    </tr>\n",
       "  </tbody>\n",
       "</table>\n"
      ],
      "text/plain": [
       "<pandas.io.formats.style.Styler at 0x27fcc8cbd60>"
      ]
     },
     "execution_count": 35,
     "metadata": {},
     "output_type": "execute_result"
    }
   ],
   "source": [
    "rfr_df = compare_results(\"random forest\")\n",
    "rfr_df"
   ]
  },
  {
   "cell_type": "code",
   "execution_count": 36,
   "id": "3483dcdd",
   "metadata": {},
   "outputs": [],
   "source": [
    "import pickle\n",
    "filename = 'ensemble_rfr.pkl'\n",
    "save_location = os.path.join(\".\",\"trained_models\", filename)\n",
    "pickle.dump(best_model, open(save_location, 'wb'))"
   ]
  },
  {
   "cell_type": "markdown",
   "id": "81e24803",
   "metadata": {},
   "source": [
    "# 3) Voting Regressor"
   ]
  },
  {
   "cell_type": "code",
   "execution_count": 37,
   "id": "afdaa6e0",
   "metadata": {},
   "outputs": [],
   "source": [
    "#Reset best model for each section\n",
    "best_model = \"\""
   ]
  },
  {
   "cell_type": "markdown",
   "id": "2ef03787",
   "metadata": {},
   "source": [
    "Here we try to put in all the models we have did so far (fine tuned), but we exclude K-NN given its long prediction time"
   ]
  },
  {
   "cell_type": "code",
   "execution_count": 38,
   "id": "c8157424",
   "metadata": {},
   "outputs": [],
   "source": [
    "from sklearn.ensemble import VotingRegressor\n",
    "from sklearn.neighbors import KNeighborsRegressor\n",
    "from sklearn.linear_model import LinearRegression\n",
    "from sklearn.ensemble import ExtraTreesRegressor,GradientBoostingRegressor\n",
    "from sklearn.linear_model import RidgeCV\n",
    "from sklearn.linear_model import SGDRegressor\n",
    "from sklearn import ensemble\n",
    "from sklearn.linear_model import ElasticNet\n",
    "from sklearn.svm import LinearSVR\n",
    "from sklearn.linear_model import Ridge\n",
    "from sklearn import linear_model"
   ]
  },
  {
   "cell_type": "code",
   "execution_count": 39,
   "id": "8242cea0",
   "metadata": {},
   "outputs": [],
   "source": [
    "#Non-ensemble methods\n",
    "lr = LinearRegression()\n",
    "r = Ridge(alpha = 1.0, solver='sparse_cg', random_state=7)\n",
    "ls = linear_model.Lasso(alpha = 0.09797670560760961, max_iter = 500,random_state=7)\n",
    "en = ElasticNet(alpha = 0.01, l1_ratio = 0.5, random_state=7)\n",
    "sgd = SGDRegressor(max_iter=100, alpha=0, eta0=0.02 ,random_state=7, penalty='l2')\n",
    "svr = LinearSVR(random_state=7, max_iter=30000, loss=\"squared_epsilon_insensitive\", C=0.1)\n",
    "\n",
    "#Ensemble methods\n",
    "#results from gridsearchcv file\n",
    "gbr = ensemble.GradientBoostingRegressor(\n",
    "    n_estimators=3000, #how many decision trees to build\n",
    "    learning_rate=0.1, #how much decision trees influence overall prediction\n",
    "    max_depth=9,\n",
    "    min_samples_leaf=15,\n",
    "    max_features=1.0,\n",
    "    loss='huber',\n",
    "    random_state=7\n",
    ")\n",
    "\n",
    "etr = ExtraTreesRegressor(max_features=20, n_estimators=200, max_depth=7, random_state=7)\n",
    "\n",
    "rfr = RandomForestRegressor(random_state=7,n_estimators = 100, max_features=50, max_depth=7)"
   ]
  },
  {
   "cell_type": "code",
   "execution_count": 40,
   "id": "b90d40c8",
   "metadata": {},
   "outputs": [],
   "source": [
    "first_voting_reg = VotingRegressor(\n",
    "    estimators=[('lr', lr), ('r', r), ('ls', ls),\n",
    "               ('en',en),('svr',svr),('sgd',sgd),('etr',etr),('rfr',rfr),('gbr',gbr)])"
   ]
  },
  {
   "cell_type": "code",
   "execution_count": 41,
   "id": "7ee375fe",
   "metadata": {},
   "outputs": [
    {
     "data": {
      "text/plain": [
       "VotingRegressor(estimators=[('lr', LinearRegression()),\n",
       "                            ('r', Ridge(random_state=7, solver='sparse_cg')),\n",
       "                            ('ls',\n",
       "                             Lasso(alpha=0.09797670560760961, max_iter=500,\n",
       "                                   random_state=7)),\n",
       "                            ('en', ElasticNet(alpha=0.01, random_state=7)),\n",
       "                            ('svr',\n",
       "                             LinearSVR(C=0.1,\n",
       "                                       loss='squared_epsilon_insensitive',\n",
       "                                       max_iter=30000, random_state=7)),\n",
       "                            ('sgd',\n",
       "                             SGDRegressor(alpha=0, eta0=0.02, max_iter=100,\n",
       "                                          random_state=7)),\n",
       "                            ('etr',\n",
       "                             ExtraTreesRegressor(max_depth=7, max_features=20,\n",
       "                                                 n_estimators=200,\n",
       "                                                 random_state=7)),\n",
       "                            ('rfr',\n",
       "                             RandomForestRegressor(max_depth=7, max_features=50,\n",
       "                                                   random_state=7)),\n",
       "                            ('gbr',\n",
       "                             GradientBoostingRegressor(loss='huber',\n",
       "                                                       max_depth=9,\n",
       "                                                       max_features=1.0,\n",
       "                                                       min_samples_leaf=15,\n",
       "                                                       n_estimators=3000,\n",
       "                                                       random_state=7))])"
      ]
     },
     "execution_count": 41,
     "metadata": {},
     "output_type": "execute_result"
    }
   ],
   "source": [
    "first_voting_reg.fit(X_train,y_train.ravel())"
   ]
  },
  {
   "cell_type": "code",
   "execution_count": 42,
   "id": "4ca98865",
   "metadata": {},
   "outputs": [
    {
     "name": "stdout",
     "output_type": "stream",
     "text": [
      "MSE (Train): 29510.29104722374\n",
      "MSE (Test): 29036.556117990272\n",
      "RMSE (Train): 171.78559615760497\n",
      "RMSE (Test): 170.40116231408246\n",
      "R2 (Train): 0.841036445520299\n",
      "R2 (Test): 0.8376366146869443\n",
      "Adj R2 (Train): 0.8408262006022442\n",
      "Adj R2 (Test): 0.8374218731585986\n"
     ]
    }
   ],
   "source": [
    "best_model = get_best_model(first_voting_reg, best_model)\n",
    "res_val = perform_eval(first_voting_reg, \"Voting Regressor (v1)\")\n",
    "for key in res_val:\n",
    "    print(f\"{key}: {res_val[key]}\")"
   ]
  },
  {
   "cell_type": "markdown",
   "id": "945d7660",
   "metadata": {},
   "source": [
    "Save model"
   ]
  },
  {
   "cell_type": "code",
   "execution_count": 43,
   "id": "92a0cdea",
   "metadata": {},
   "outputs": [],
   "source": [
    "import pickle\n",
    "filename = 'voting_reg_v1.pkl'\n",
    "save_location = os.path.join(\".\",\"trained_models\", filename)\n",
    "pickle.dump(first_voting_reg, open(save_location, 'wb'))"
   ]
  },
  {
   "cell_type": "markdown",
   "id": "5f542c9e",
   "metadata": {},
   "source": [
    "# Retrain with better models (above 0.8)"
   ]
  },
  {
   "cell_type": "code",
   "execution_count": 44,
   "id": "e44efc22",
   "metadata": {},
   "outputs": [
    {
     "data": {
      "text/plain": [
       "VotingRegressor(estimators=[('etr',\n",
       "                             ExtraTreesRegressor(max_depth=7, max_features=20,\n",
       "                                                 n_estimators=200,\n",
       "                                                 random_state=7)),\n",
       "                            ('rf',\n",
       "                             RandomForestRegressor(max_depth=7, max_features=50,\n",
       "                                                   random_state=7)),\n",
       "                            ('gbr',\n",
       "                             GradientBoostingRegressor(loss='huber',\n",
       "                                                       max_depth=9,\n",
       "                                                       max_features=1.0,\n",
       "                                                       min_samples_leaf=15,\n",
       "                                                       n_estimators=3000,\n",
       "                                                       random_state=7))])"
      ]
     },
     "execution_count": 44,
     "metadata": {},
     "output_type": "execute_result"
    }
   ],
   "source": [
    "second_voting_reg = VotingRegressor(\n",
    "    estimators=[('etr',etr),('rf',rfr),('gbr',gbr)])\n",
    "second_voting_reg.fit(X_train,y_train.ravel())"
   ]
  },
  {
   "cell_type": "code",
   "execution_count": 45,
   "id": "8e988873",
   "metadata": {},
   "outputs": [
    {
     "name": "stdout",
     "output_type": "stream",
     "text": [
      "MSE (Train): 10557.985917672777\n",
      "MSE (Test): 10906.038975039939\n",
      "RMSE (Train): 102.75206040597325\n",
      "RMSE (Test): 104.43198252949112\n",
      "R2 (Train): 0.9431271292128518\n",
      "R2 (Test): 0.9390168241320289\n",
      "Adj R2 (Train): 0.9430519092538032\n",
      "Adj R2 (Test): 0.9389361678906971\n"
     ]
    }
   ],
   "source": [
    "best_model = get_best_model(second_voting_reg, best_model)\n",
    "res_val = perform_eval(second_voting_reg, \"Voting Regressor (v2)\")\n",
    "for key in res_val:\n",
    "    print(f\"{key}: {res_val[key]}\")"
   ]
  },
  {
   "cell_type": "code",
   "execution_count": 46,
   "id": "d8cf2b22",
   "metadata": {},
   "outputs": [],
   "source": [
    "import pickle\n",
    "filename = 'voting_reg_v2.pkl'\n",
    "save_location = os.path.join(\".\",\"trained_models\", filename)\n",
    "pickle.dump(second_voting_reg, open(save_location, 'wb'))"
   ]
  },
  {
   "cell_type": "code",
   "execution_count": 47,
   "id": "eb2e86cb",
   "metadata": {},
   "outputs": [
    {
     "data": {
      "text/html": [
       "<style type=\"text/css\">\n",
       "</style>\n",
       "<table id=\"T_132df\" style='display:inline'>\n",
       "  <caption>Voting Models (Sort by Adj R2 (Test))</caption>\n",
       "  <thead>\n",
       "    <tr>\n",
       "      <th class=\"blank level0\" >&nbsp;</th>\n",
       "      <th id=\"T_132df_level0_col0\" class=\"col_heading level0 col0\" >Models</th>\n",
       "      <th id=\"T_132df_level0_col1\" class=\"col_heading level0 col1\" >MSE (Train)</th>\n",
       "      <th id=\"T_132df_level0_col2\" class=\"col_heading level0 col2\" >MSE (Test)</th>\n",
       "      <th id=\"T_132df_level0_col3\" class=\"col_heading level0 col3\" >RMSE (Train)</th>\n",
       "      <th id=\"T_132df_level0_col4\" class=\"col_heading level0 col4\" >RMSE (Test)</th>\n",
       "      <th id=\"T_132df_level0_col5\" class=\"col_heading level0 col5\" >R2 (Train)</th>\n",
       "      <th id=\"T_132df_level0_col6\" class=\"col_heading level0 col6\" >R2 (Test)</th>\n",
       "      <th id=\"T_132df_level0_col7\" class=\"col_heading level0 col7\" >Adj R2 (Train)</th>\n",
       "      <th id=\"T_132df_level0_col8\" class=\"col_heading level0 col8\" >Adj R2 (Test)</th>\n",
       "    </tr>\n",
       "  </thead>\n",
       "  <tbody>\n",
       "    <tr>\n",
       "      <th id=\"T_132df_level0_row0\" class=\"row_heading level0 row0\" >1</th>\n",
       "      <td id=\"T_132df_row0_col0\" class=\"data row0 col0\" >Voting Regressor (v2)</td>\n",
       "      <td id=\"T_132df_row0_col1\" class=\"data row0 col1\" >10557.985918</td>\n",
       "      <td id=\"T_132df_row0_col2\" class=\"data row0 col2\" >10906.038975</td>\n",
       "      <td id=\"T_132df_row0_col3\" class=\"data row0 col3\" >102.752060</td>\n",
       "      <td id=\"T_132df_row0_col4\" class=\"data row0 col4\" >104.431983</td>\n",
       "      <td id=\"T_132df_row0_col5\" class=\"data row0 col5\" >0.943127</td>\n",
       "      <td id=\"T_132df_row0_col6\" class=\"data row0 col6\" >0.939017</td>\n",
       "      <td id=\"T_132df_row0_col7\" class=\"data row0 col7\" >0.943052</td>\n",
       "      <td id=\"T_132df_row0_col8\" class=\"data row0 col8\" >0.938936</td>\n",
       "    </tr>\n",
       "    <tr>\n",
       "      <th id=\"T_132df_level0_row1\" class=\"row_heading level0 row1\" >0</th>\n",
       "      <td id=\"T_132df_row1_col0\" class=\"data row1 col0\" >Voting Regressor (v1)</td>\n",
       "      <td id=\"T_132df_row1_col1\" class=\"data row1 col1\" >29510.291047</td>\n",
       "      <td id=\"T_132df_row1_col2\" class=\"data row1 col2\" >29036.556118</td>\n",
       "      <td id=\"T_132df_row1_col3\" class=\"data row1 col3\" >171.785596</td>\n",
       "      <td id=\"T_132df_row1_col4\" class=\"data row1 col4\" >170.401162</td>\n",
       "      <td id=\"T_132df_row1_col5\" class=\"data row1 col5\" >0.841036</td>\n",
       "      <td id=\"T_132df_row1_col6\" class=\"data row1 col6\" >0.837637</td>\n",
       "      <td id=\"T_132df_row1_col7\" class=\"data row1 col7\" >0.840826</td>\n",
       "      <td id=\"T_132df_row1_col8\" class=\"data row1 col8\" >0.837422</td>\n",
       "    </tr>\n",
       "  </tbody>\n",
       "</table>\n"
      ],
      "text/plain": [
       "<pandas.io.formats.style.Styler at 0x27fbfb28580>"
      ]
     },
     "execution_count": 47,
     "metadata": {},
     "output_type": "execute_result"
    }
   ],
   "source": [
    "vr_df = compare_results(\"voting\")\n",
    "vr_df"
   ]
  },
  {
   "cell_type": "markdown",
   "id": "4d80f45f",
   "metadata": {},
   "source": [
    "# 4) Stacking Regressor"
   ]
  },
  {
   "cell_type": "code",
   "execution_count": 48,
   "id": "2a9f75ad",
   "metadata": {},
   "outputs": [],
   "source": [
    "#Reset best model for each section\n",
    "best_model = \"\""
   ]
  },
  {
   "cell_type": "markdown",
   "id": "bd4ae16c",
   "metadata": {},
   "source": [
    "Here we try to put in all the models we have did so far (fine tuned), excluding KNN"
   ]
  },
  {
   "cell_type": "code",
   "execution_count": 49,
   "id": "78a15fe1",
   "metadata": {},
   "outputs": [],
   "source": [
    "#Non-ensemble methods\n",
    "lr = LinearRegression()\n",
    "r = Ridge(alpha = 1.0, solver='sparse_cg', random_state=7)\n",
    "ls = linear_model.Lasso(alpha = 0.09797670560760961, max_iter = 500,random_state=7)\n",
    "en = ElasticNet(alpha = 0.01, l1_ratio = 0.5, random_state=7)\n",
    "sgd = SGDRegressor(max_iter=100, alpha=0, eta0=0.02 ,random_state=7, penalty='l2')\n",
    "svr = LinearSVR(random_state=7, max_iter=30000, loss=\"squared_epsilon_insensitive\", C=0.1)\n",
    "\n",
    "#Ensemble methods\n",
    "#results from gridsearchcv file\n",
    "gbr = ensemble.GradientBoostingRegressor(\n",
    "    n_estimators=3000, #how many decision trees to build\n",
    "    learning_rate=0.1, #how much decision trees influence overall prediction\n",
    "    max_depth=9,\n",
    "    min_samples_leaf=15,\n",
    "    max_features=1.0,\n",
    "    loss='huber',\n",
    "    random_state=7\n",
    ")\n",
    "\n",
    "etr = ExtraTreesRegressor(max_features=20, n_estimators=200, max_depth=7, random_state=7)\n",
    "\n",
    "rfr = RandomForestRegressor(random_state=7,n_estimators = 100, max_features=50, max_depth=7)"
   ]
  },
  {
   "cell_type": "code",
   "execution_count": 50,
   "id": "a2c2c9ca",
   "metadata": {},
   "outputs": [
    {
     "data": {
      "text/plain": [
       "StackingRegressor(estimators=[('lr', LinearRegression()),\n",
       "                              ('r', Ridge(random_state=7, solver='sparse_cg')),\n",
       "                              ('ls',\n",
       "                               Lasso(alpha=0.09797670560760961, max_iter=500,\n",
       "                                     random_state=7)),\n",
       "                              ('en', ElasticNet(alpha=0.01, random_state=7)),\n",
       "                              ('svr',\n",
       "                               LinearSVR(C=0.1,\n",
       "                                         loss='squared_epsilon_insensitive',\n",
       "                                         max_iter=30000, random_state=7)),\n",
       "                              ('sgd',\n",
       "                               SGDRegressor(alpha=0, eta0=0.02, max_iter=100,\n",
       "                                            random_state=7)),\n",
       "                              ('etr',\n",
       "                               ExtraTreesRegressor(max_depth=7, max_features=20,\n",
       "                                                   n_estimators=200,\n",
       "                                                   random_state=7)),\n",
       "                              ('rf',\n",
       "                               RandomForestRegressor(max_depth=7,\n",
       "                                                     max_features=50,\n",
       "                                                     random_state=7)),\n",
       "                              ('gbr',\n",
       "                               GradientBoostingRegressor(loss='huber',\n",
       "                                                         max_depth=9,\n",
       "                                                         max_features=1.0,\n",
       "                                                         min_samples_leaf=15,\n",
       "                                                         n_estimators=3000,\n",
       "                                                         random_state=7))])"
      ]
     },
     "execution_count": 50,
     "metadata": {},
     "output_type": "execute_result"
    }
   ],
   "source": [
    "from sklearn.ensemble import StackingRegressor\n",
    "first_sr = StackingRegressor(\n",
    "    estimators=[('lr', lr), ('r', r), ('ls', ls),\n",
    "               ('en',en),('svr',svr),('sgd',sgd),('etr',etr),('rf',rfr),('gbr',gbr)])\n",
    "first_sr.fit(X_train,y_train.ravel())"
   ]
  },
  {
   "cell_type": "code",
   "execution_count": 51,
   "id": "34a8688b",
   "metadata": {},
   "outputs": [
    {
     "name": "stdout",
     "output_type": "stream",
     "text": [
      "MSE (Train): 2156.9541649295443\n",
      "MSE (Test): 3219.3317903076213\n",
      "RMSE (Train): 46.443020626672684\n",
      "RMSE (Test): 56.73915570668655\n",
      "R2 (Train): 0.9883811006689731\n",
      "R2 (Test): 0.981998498520407\n",
      "Adj R2 (Train): 0.9883657335331177\n",
      "Adj R2 (Test): 0.9819746897661562\n"
     ]
    }
   ],
   "source": [
    "best_model = get_best_model(first_sr, best_model)\n",
    "res_val = perform_eval(first_sr, \"Stacking Regressor (v1)\")\n",
    "for key in res_val:\n",
    "    print(f\"{key}: {res_val[key]}\")"
   ]
  },
  {
   "cell_type": "code",
   "execution_count": 52,
   "id": "9c81f114",
   "metadata": {},
   "outputs": [],
   "source": [
    "import pickle\n",
    "filename = 'first_sr.pkl'\n",
    "save_location = os.path.join(\".\",\"trained_models\", filename)\n",
    "pickle.dump(first_sr, open(save_location, 'wb'))"
   ]
  },
  {
   "cell_type": "markdown",
   "id": "f55375fd",
   "metadata": {},
   "source": [
    "# Retrain with better models (above 0.8)\n",
    "# As identified in voting regressor section, predicting with K-NN takes a long time, hence we will exclude it here as well."
   ]
  },
  {
   "cell_type": "code",
   "execution_count": 53,
   "id": "d0990608",
   "metadata": {},
   "outputs": [
    {
     "data": {
      "text/plain": [
       "StackingRegressor(estimators=[('etr',\n",
       "                               ExtraTreesRegressor(max_depth=7, max_features=20,\n",
       "                                                   n_estimators=200,\n",
       "                                                   random_state=7)),\n",
       "                              ('rf',\n",
       "                               RandomForestRegressor(max_depth=7,\n",
       "                                                     max_features=50,\n",
       "                                                     random_state=7)),\n",
       "                              ('gbr',\n",
       "                               GradientBoostingRegressor(loss='huber',\n",
       "                                                         max_depth=9,\n",
       "                                                         max_features=1.0,\n",
       "                                                         min_samples_leaf=15,\n",
       "                                                         n_estimators=3000,\n",
       "                                                         random_state=7))])"
      ]
     },
     "execution_count": 53,
     "metadata": {},
     "output_type": "execute_result"
    }
   ],
   "source": [
    "from sklearn.ensemble import StackingRegressor\n",
    "second_sr = StackingRegressor(\n",
    "    estimators=[('etr',etr),('rf',rfr),('gbr',gbr)])\n",
    "second_sr.fit(X_train,y_train.ravel())"
   ]
  },
  {
   "cell_type": "code",
   "execution_count": 54,
   "id": "2b6f6aa4",
   "metadata": {},
   "outputs": [
    {
     "name": "stdout",
     "output_type": "stream",
     "text": [
      "MSE (Train): 2150.686299423104\n",
      "MSE (Test): 3208.2634438293053\n",
      "RMSE (Train): 46.37549244399572\n",
      "RMSE (Test): 56.64153461753403\n",
      "R2 (Train): 0.9884148638798581\n",
      "R2 (Test): 0.9820603892693214\n",
      "Adj R2 (Train): 0.9883995413991662\n",
      "Adj R2 (Test): 0.9820366623716664\n"
     ]
    }
   ],
   "source": [
    "best_model = get_best_model(second_sr, best_model)\n",
    "res_val = perform_eval(second_sr, \"Stacking Regressor (v2)\")\n",
    "for key in res_val:\n",
    "    print(f\"{key}: {res_val[key]}\")"
   ]
  },
  {
   "cell_type": "code",
   "execution_count": 55,
   "id": "d94a6878",
   "metadata": {},
   "outputs": [],
   "source": [
    "import pickle\n",
    "filename = 'second_sr.pkl'\n",
    "save_location = os.path.join(\".\",\"trained_models\", filename)\n",
    "pickle.dump(second_sr, open(save_location, 'wb'))"
   ]
  },
  {
   "cell_type": "code",
   "execution_count": 56,
   "id": "648adb55",
   "metadata": {},
   "outputs": [
    {
     "data": {
      "text/html": [
       "<style type=\"text/css\">\n",
       "</style>\n",
       "<table id=\"T_87261\" style='display:inline'>\n",
       "  <caption>Stacking Models (Sort by Adj R2 (Test))</caption>\n",
       "  <thead>\n",
       "    <tr>\n",
       "      <th class=\"blank level0\" >&nbsp;</th>\n",
       "      <th id=\"T_87261_level0_col0\" class=\"col_heading level0 col0\" >Models</th>\n",
       "      <th id=\"T_87261_level0_col1\" class=\"col_heading level0 col1\" >MSE (Train)</th>\n",
       "      <th id=\"T_87261_level0_col2\" class=\"col_heading level0 col2\" >MSE (Test)</th>\n",
       "      <th id=\"T_87261_level0_col3\" class=\"col_heading level0 col3\" >RMSE (Train)</th>\n",
       "      <th id=\"T_87261_level0_col4\" class=\"col_heading level0 col4\" >RMSE (Test)</th>\n",
       "      <th id=\"T_87261_level0_col5\" class=\"col_heading level0 col5\" >R2 (Train)</th>\n",
       "      <th id=\"T_87261_level0_col6\" class=\"col_heading level0 col6\" >R2 (Test)</th>\n",
       "      <th id=\"T_87261_level0_col7\" class=\"col_heading level0 col7\" >Adj R2 (Train)</th>\n",
       "      <th id=\"T_87261_level0_col8\" class=\"col_heading level0 col8\" >Adj R2 (Test)</th>\n",
       "    </tr>\n",
       "  </thead>\n",
       "  <tbody>\n",
       "    <tr>\n",
       "      <th id=\"T_87261_level0_row0\" class=\"row_heading level0 row0\" >1</th>\n",
       "      <td id=\"T_87261_row0_col0\" class=\"data row0 col0\" >Stacking Regressor (v2)</td>\n",
       "      <td id=\"T_87261_row0_col1\" class=\"data row0 col1\" >2150.686299</td>\n",
       "      <td id=\"T_87261_row0_col2\" class=\"data row0 col2\" >3208.263444</td>\n",
       "      <td id=\"T_87261_row0_col3\" class=\"data row0 col3\" >46.375492</td>\n",
       "      <td id=\"T_87261_row0_col4\" class=\"data row0 col4\" >56.641535</td>\n",
       "      <td id=\"T_87261_row0_col5\" class=\"data row0 col5\" >0.988415</td>\n",
       "      <td id=\"T_87261_row0_col6\" class=\"data row0 col6\" >0.982060</td>\n",
       "      <td id=\"T_87261_row0_col7\" class=\"data row0 col7\" >0.988400</td>\n",
       "      <td id=\"T_87261_row0_col8\" class=\"data row0 col8\" >0.982037</td>\n",
       "    </tr>\n",
       "    <tr>\n",
       "      <th id=\"T_87261_level0_row1\" class=\"row_heading level0 row1\" >0</th>\n",
       "      <td id=\"T_87261_row1_col0\" class=\"data row1 col0\" >Stacking Regressor (v1)</td>\n",
       "      <td id=\"T_87261_row1_col1\" class=\"data row1 col1\" >2156.954165</td>\n",
       "      <td id=\"T_87261_row1_col2\" class=\"data row1 col2\" >3219.331790</td>\n",
       "      <td id=\"T_87261_row1_col3\" class=\"data row1 col3\" >46.443021</td>\n",
       "      <td id=\"T_87261_row1_col4\" class=\"data row1 col4\" >56.739156</td>\n",
       "      <td id=\"T_87261_row1_col5\" class=\"data row1 col5\" >0.988381</td>\n",
       "      <td id=\"T_87261_row1_col6\" class=\"data row1 col6\" >0.981998</td>\n",
       "      <td id=\"T_87261_row1_col7\" class=\"data row1 col7\" >0.988366</td>\n",
       "      <td id=\"T_87261_row1_col8\" class=\"data row1 col8\" >0.981975</td>\n",
       "    </tr>\n",
       "  </tbody>\n",
       "</table>\n"
      ],
      "text/plain": [
       "<pandas.io.formats.style.Styler at 0x27fbfc0d120>"
      ]
     },
     "execution_count": 56,
     "metadata": {},
     "output_type": "execute_result"
    }
   ],
   "source": [
    "sr_df = compare_results(\"stacking\")\n",
    "sr_df"
   ]
  },
  {
   "cell_type": "code",
   "execution_count": 57,
   "id": "f1a2cde4",
   "metadata": {},
   "outputs": [
    {
     "data": {
      "text/html": [
       "<style type=\"text/css\">\n",
       "</style>\n",
       "<table id=\"T_e1aea\" style='display:inline'>\n",
       "  <caption>All Models (Sort by Adj R2 (Test))</caption>\n",
       "  <thead>\n",
       "    <tr>\n",
       "      <th class=\"blank level0\" >&nbsp;</th>\n",
       "      <th id=\"T_e1aea_level0_col0\" class=\"col_heading level0 col0\" >Models</th>\n",
       "      <th id=\"T_e1aea_level0_col1\" class=\"col_heading level0 col1\" >MSE (Train)</th>\n",
       "      <th id=\"T_e1aea_level0_col2\" class=\"col_heading level0 col2\" >MSE (Test)</th>\n",
       "      <th id=\"T_e1aea_level0_col3\" class=\"col_heading level0 col3\" >RMSE (Train)</th>\n",
       "      <th id=\"T_e1aea_level0_col4\" class=\"col_heading level0 col4\" >RMSE (Test)</th>\n",
       "      <th id=\"T_e1aea_level0_col5\" class=\"col_heading level0 col5\" >R2 (Train)</th>\n",
       "      <th id=\"T_e1aea_level0_col6\" class=\"col_heading level0 col6\" >R2 (Test)</th>\n",
       "      <th id=\"T_e1aea_level0_col7\" class=\"col_heading level0 col7\" >Adj R2 (Train)</th>\n",
       "      <th id=\"T_e1aea_level0_col8\" class=\"col_heading level0 col8\" >Adj R2 (Test)</th>\n",
       "    </tr>\n",
       "  </thead>\n",
       "  <tbody>\n",
       "    <tr>\n",
       "      <th id=\"T_e1aea_level0_row0\" class=\"row_heading level0 row0\" >8</th>\n",
       "      <td id=\"T_e1aea_row0_col0\" class=\"data row0 col0\" >Stacking Regressor (v2)</td>\n",
       "      <td id=\"T_e1aea_row0_col1\" class=\"data row0 col1\" >2150.686299</td>\n",
       "      <td id=\"T_e1aea_row0_col2\" class=\"data row0 col2\" >3208.263444</td>\n",
       "      <td id=\"T_e1aea_row0_col3\" class=\"data row0 col3\" >46.375492</td>\n",
       "      <td id=\"T_e1aea_row0_col4\" class=\"data row0 col4\" >56.641535</td>\n",
       "      <td id=\"T_e1aea_row0_col5\" class=\"data row0 col5\" >0.988415</td>\n",
       "      <td id=\"T_e1aea_row0_col6\" class=\"data row0 col6\" >0.982060</td>\n",
       "      <td id=\"T_e1aea_row0_col7\" class=\"data row0 col7\" >0.988400</td>\n",
       "      <td id=\"T_e1aea_row0_col8\" class=\"data row0 col8\" >0.982037</td>\n",
       "    </tr>\n",
       "    <tr>\n",
       "      <th id=\"T_e1aea_level0_row1\" class=\"row_heading level0 row1\" >7</th>\n",
       "      <td id=\"T_e1aea_row1_col0\" class=\"data row1 col0\" >Stacking Regressor (v1)</td>\n",
       "      <td id=\"T_e1aea_row1_col1\" class=\"data row1 col1\" >2156.954165</td>\n",
       "      <td id=\"T_e1aea_row1_col2\" class=\"data row1 col2\" >3219.331790</td>\n",
       "      <td id=\"T_e1aea_row1_col3\" class=\"data row1 col3\" >46.443021</td>\n",
       "      <td id=\"T_e1aea_row1_col4\" class=\"data row1 col4\" >56.739156</td>\n",
       "      <td id=\"T_e1aea_row1_col5\" class=\"data row1 col5\" >0.988381</td>\n",
       "      <td id=\"T_e1aea_row1_col6\" class=\"data row1 col6\" >0.981998</td>\n",
       "      <td id=\"T_e1aea_row1_col7\" class=\"data row1 col7\" >0.988366</td>\n",
       "      <td id=\"T_e1aea_row1_col8\" class=\"data row1 col8\" >0.981975</td>\n",
       "    </tr>\n",
       "    <tr>\n",
       "      <th id=\"T_e1aea_level0_row2\" class=\"row_heading level0 row2\" >6</th>\n",
       "      <td id=\"T_e1aea_row2_col0\" class=\"data row2 col0\" >Voting Regressor (v2)</td>\n",
       "      <td id=\"T_e1aea_row2_col1\" class=\"data row2 col1\" >10557.985918</td>\n",
       "      <td id=\"T_e1aea_row2_col2\" class=\"data row2 col2\" >10906.038975</td>\n",
       "      <td id=\"T_e1aea_row2_col3\" class=\"data row2 col3\" >102.752060</td>\n",
       "      <td id=\"T_e1aea_row2_col4\" class=\"data row2 col4\" >104.431983</td>\n",
       "      <td id=\"T_e1aea_row2_col5\" class=\"data row2 col5\" >0.943127</td>\n",
       "      <td id=\"T_e1aea_row2_col6\" class=\"data row2 col6\" >0.939017</td>\n",
       "      <td id=\"T_e1aea_row2_col7\" class=\"data row2 col7\" >0.943052</td>\n",
       "      <td id=\"T_e1aea_row2_col8\" class=\"data row2 col8\" >0.938936</td>\n",
       "    </tr>\n",
       "    <tr>\n",
       "      <th id=\"T_e1aea_level0_row3\" class=\"row_heading level0 row3\" >4</th>\n",
       "      <td id=\"T_e1aea_row3_col0\" class=\"data row3 col0\" >Random Forest Regressor (Best Params v2)</td>\n",
       "      <td id=\"T_e1aea_row3_col1\" class=\"data row3 col1\" >17555.936437</td>\n",
       "      <td id=\"T_e1aea_row3_col2\" class=\"data row3 col2\" >17487.657473</td>\n",
       "      <td id=\"T_e1aea_row3_col3\" class=\"data row3 col3\" >132.498817</td>\n",
       "      <td id=\"T_e1aea_row3_col4\" class=\"data row3 col4\" >132.240907</td>\n",
       "      <td id=\"T_e1aea_row3_col5\" class=\"data row3 col5\" >0.905431</td>\n",
       "      <td id=\"T_e1aea_row3_col6\" class=\"data row3 col6\" >0.902214</td>\n",
       "      <td id=\"T_e1aea_row3_col7\" class=\"data row3 col7\" >0.905306</td>\n",
       "      <td id=\"T_e1aea_row3_col8\" class=\"data row3 col8\" >0.902085</td>\n",
       "    </tr>\n",
       "    <tr>\n",
       "      <th id=\"T_e1aea_level0_row4\" class=\"row_heading level0 row4\" >1</th>\n",
       "      <td id=\"T_e1aea_row4_col0\" class=\"data row4 col0\" >Extra Tree Regressor (Best Params)</td>\n",
       "      <td id=\"T_e1aea_row4_col1\" class=\"data row4 col1\" >27006.379830</td>\n",
       "      <td id=\"T_e1aea_row4_col2\" class=\"data row4 col2\" >26566.010655</td>\n",
       "      <td id=\"T_e1aea_row4_col3\" class=\"data row4 col3\" >164.336179</td>\n",
       "      <td id=\"T_e1aea_row4_col4\" class=\"data row4 col4\" >162.990830</td>\n",
       "      <td id=\"T_e1aea_row4_col5\" class=\"data row4 col5\" >0.854524</td>\n",
       "      <td id=\"T_e1aea_row4_col6\" class=\"data row4 col6\" >0.851451</td>\n",
       "      <td id=\"T_e1aea_row4_col7\" class=\"data row4 col7\" >0.854332</td>\n",
       "      <td id=\"T_e1aea_row4_col8\" class=\"data row4 col8\" >0.851255</td>\n",
       "    </tr>\n",
       "    <tr>\n",
       "      <th id=\"T_e1aea_level0_row5\" class=\"row_heading level0 row5\" >3</th>\n",
       "      <td id=\"T_e1aea_row5_col0\" class=\"data row5 col0\" >Random Forest Regressor (Best Params)</td>\n",
       "      <td id=\"T_e1aea_row5_col1\" class=\"data row5 col1\" >27447.049300</td>\n",
       "      <td id=\"T_e1aea_row5_col2\" class=\"data row5 col2\" >26937.765106</td>\n",
       "      <td id=\"T_e1aea_row5_col3\" class=\"data row5 col3\" >165.671510</td>\n",
       "      <td id=\"T_e1aea_row5_col4\" class=\"data row5 col4\" >164.127283</td>\n",
       "      <td id=\"T_e1aea_row5_col5\" class=\"data row5 col5\" >0.852151</td>\n",
       "      <td id=\"T_e1aea_row5_col6\" class=\"data row5 col6\" >0.849372</td>\n",
       "      <td id=\"T_e1aea_row5_col7\" class=\"data row5 col7\" >0.851955</td>\n",
       "      <td id=\"T_e1aea_row5_col8\" class=\"data row5 col8\" >0.849173</td>\n",
       "    </tr>\n",
       "    <tr>\n",
       "      <th id=\"T_e1aea_level0_row6\" class=\"row_heading level0 row6\" >5</th>\n",
       "      <td id=\"T_e1aea_row6_col0\" class=\"data row6 col0\" >Voting Regressor (v1)</td>\n",
       "      <td id=\"T_e1aea_row6_col1\" class=\"data row6 col1\" >29510.291047</td>\n",
       "      <td id=\"T_e1aea_row6_col2\" class=\"data row6 col2\" >29036.556118</td>\n",
       "      <td id=\"T_e1aea_row6_col3\" class=\"data row6 col3\" >171.785596</td>\n",
       "      <td id=\"T_e1aea_row6_col4\" class=\"data row6 col4\" >170.401162</td>\n",
       "      <td id=\"T_e1aea_row6_col5\" class=\"data row6 col5\" >0.841036</td>\n",
       "      <td id=\"T_e1aea_row6_col6\" class=\"data row6 col6\" >0.837637</td>\n",
       "      <td id=\"T_e1aea_row6_col7\" class=\"data row6 col7\" >0.840826</td>\n",
       "      <td id=\"T_e1aea_row6_col8\" class=\"data row6 col8\" >0.837422</td>\n",
       "    </tr>\n",
       "    <tr>\n",
       "      <th id=\"T_e1aea_level0_row7\" class=\"row_heading level0 row7\" >2</th>\n",
       "      <td id=\"T_e1aea_row7_col0\" class=\"data row7 col0\" >Random Forest Regressor (Initial)</td>\n",
       "      <td id=\"T_e1aea_row7_col1\" class=\"data row7 col1\" >74470.463541</td>\n",
       "      <td id=\"T_e1aea_row7_col2\" class=\"data row7 col2\" >71533.563914</td>\n",
       "      <td id=\"T_e1aea_row7_col3\" class=\"data row7 col3\" >272.892769</td>\n",
       "      <td id=\"T_e1aea_row7_col4\" class=\"data row7 col4\" >267.457593</td>\n",
       "      <td id=\"T_e1aea_row7_col5\" class=\"data row7 col5\" >0.598849</td>\n",
       "      <td id=\"T_e1aea_row7_col6\" class=\"data row7 col6\" >0.600007</td>\n",
       "      <td id=\"T_e1aea_row7_col7\" class=\"data row7 col7\" >0.598318</td>\n",
       "      <td id=\"T_e1aea_row7_col8\" class=\"data row7 col8\" >0.599478</td>\n",
       "    </tr>\n",
       "    <tr>\n",
       "      <th id=\"T_e1aea_level0_row8\" class=\"row_heading level0 row8\" >0</th>\n",
       "      <td id=\"T_e1aea_row8_col0\" class=\"data row8 col0\" >Extra Tree Regressor (Initial)</td>\n",
       "      <td id=\"T_e1aea_row8_col1\" class=\"data row8 col1\" >96529.221280</td>\n",
       "      <td id=\"T_e1aea_row8_col2\" class=\"data row8 col2\" >90950.852348</td>\n",
       "      <td id=\"T_e1aea_row8_col3\" class=\"data row8 col3\" >310.691521</td>\n",
       "      <td id=\"T_e1aea_row8_col4\" class=\"data row8 col4\" >301.580590</td>\n",
       "      <td id=\"T_e1aea_row8_col5\" class=\"data row8 col5\" >0.480025</td>\n",
       "      <td id=\"T_e1aea_row8_col6\" class=\"data row8 col6\" >0.491431</td>\n",
       "      <td id=\"T_e1aea_row8_col7\" class=\"data row8 col7\" >0.479337</td>\n",
       "      <td id=\"T_e1aea_row8_col8\" class=\"data row8 col8\" >0.490759</td>\n",
       "    </tr>\n",
       "  </tbody>\n",
       "</table>\n"
      ],
      "text/plain": [
       "<pandas.io.formats.style.Styler at 0x27fccf0c400>"
      ]
     },
     "execution_count": 57,
     "metadata": {},
     "output_type": "execute_result"
    }
   ],
   "source": [
    "all_df = compare_results(\"all\")\n",
    "all_df"
   ]
  }
 ],
 "metadata": {
  "kernelspec": {
   "display_name": "Python 3.10.2 64-bit",
   "language": "python",
   "name": "python3"
  },
  "language_info": {
   "codemirror_mode": {
    "name": "ipython",
    "version": 3
   },
   "file_extension": ".py",
   "mimetype": "text/x-python",
   "name": "python",
   "nbconvert_exporter": "python",
   "pygments_lexer": "ipython3",
   "version": "3.10.2"
  },
  "vscode": {
   "interpreter": {
    "hash": "54b5c02bac415170f398c1cb9c40d2712252a7d195ee8eb19ed147dda00b9728"
   }
  }
 },
 "nbformat": 4,
 "nbformat_minor": 5
}
