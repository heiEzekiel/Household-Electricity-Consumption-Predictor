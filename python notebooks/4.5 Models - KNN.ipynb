{
 "cells": [
  {
   "cell_type": "code",
   "execution_count": 1,
   "id": "22e60fe7",
   "metadata": {},
   "outputs": [],
   "source": [
    "import pandas as pd\n",
    "import numpy as np\n",
    "import seaborn as sns\n",
    "import matplotlib.pyplot as plt\n",
    "from sklearn.neighbors import KNeighborsRegressor\n",
    "from sklearn.model_selection import train_test_split, GridSearchCV\n",
    "from sklearn.metrics import mean_squared_error\n",
    "from sklearn.metrics import r2_score\n",
    "import warnings\n",
    "warnings.filterwarnings('ignore')\n",
    "# to remove warning calls/emitted"
   ]
  },
  {
   "cell_type": "code",
   "execution_count": 2,
   "id": "a518078c",
   "metadata": {},
   "outputs": [],
   "source": [
    "df = pd.read_excel('./datasets/combined.xlsx', index_col=0)"
   ]
  },
  {
   "cell_type": "code",
   "execution_count": 3,
   "id": "0ad703d7",
   "metadata": {},
   "outputs": [
    {
     "data": {
      "text/html": [
       "<div>\n",
       "<style scoped>\n",
       "    .dataframe tbody tr th:only-of-type {\n",
       "        vertical-align: middle;\n",
       "    }\n",
       "\n",
       "    .dataframe tbody tr th {\n",
       "        vertical-align: top;\n",
       "    }\n",
       "\n",
       "    .dataframe thead th {\n",
       "        text-align: right;\n",
       "    }\n",
       "</style>\n",
       "<table border=\"1\" class=\"dataframe\">\n",
       "  <thead>\n",
       "    <tr style=\"text-align: right;\">\n",
       "      <th></th>\n",
       "      <th>Dwelling Type</th>\n",
       "      <th>Year</th>\n",
       "      <th>Month</th>\n",
       "      <th>Region</th>\n",
       "      <th>Towns</th>\n",
       "      <th>Avg kWh</th>\n",
       "      <th>Daily Rainfall Total (mm)</th>\n",
       "      <th>Highest 30 min Rainfall (mm)</th>\n",
       "      <th>Highest 60 min Rainfall (mm)</th>\n",
       "      <th>Highest 120 min Rainfall (mm)</th>\n",
       "      <th>Mean Temperature (°C)</th>\n",
       "      <th>Maximum Temperature (°C)</th>\n",
       "      <th>Minimum Temperature (°C)</th>\n",
       "      <th>Mean Wind Speed (km/h)</th>\n",
       "      <th>Max Wind Speed (km/h)</th>\n",
       "    </tr>\n",
       "  </thead>\n",
       "  <tbody>\n",
       "    <tr>\n",
       "      <th>0</th>\n",
       "      <td>1-room / 2-room</td>\n",
       "      <td>2005</td>\n",
       "      <td>1</td>\n",
       "      <td>Central Region</td>\n",
       "      <td>Bishan</td>\n",
       "      <td>104.9</td>\n",
       "      <td>2.9</td>\n",
       "      <td>3.6</td>\n",
       "      <td>4.4</td>\n",
       "      <td>5.0</td>\n",
       "      <td>27.5</td>\n",
       "      <td>31.3</td>\n",
       "      <td>25.1</td>\n",
       "      <td>7.2</td>\n",
       "      <td>35.3</td>\n",
       "    </tr>\n",
       "    <tr>\n",
       "      <th>1</th>\n",
       "      <td>1-room / 2-room</td>\n",
       "      <td>2005</td>\n",
       "      <td>1</td>\n",
       "      <td>Central Region</td>\n",
       "      <td>Bukit Merah</td>\n",
       "      <td>140.7</td>\n",
       "      <td>2.9</td>\n",
       "      <td>3.6</td>\n",
       "      <td>4.4</td>\n",
       "      <td>5.0</td>\n",
       "      <td>27.5</td>\n",
       "      <td>31.3</td>\n",
       "      <td>25.1</td>\n",
       "      <td>7.2</td>\n",
       "      <td>35.3</td>\n",
       "    </tr>\n",
       "    <tr>\n",
       "      <th>2</th>\n",
       "      <td>1-room / 2-room</td>\n",
       "      <td>2005</td>\n",
       "      <td>1</td>\n",
       "      <td>Central Region</td>\n",
       "      <td>Central Region</td>\n",
       "      <td>136.5</td>\n",
       "      <td>2.9</td>\n",
       "      <td>3.6</td>\n",
       "      <td>4.4</td>\n",
       "      <td>5.0</td>\n",
       "      <td>27.5</td>\n",
       "      <td>31.3</td>\n",
       "      <td>25.1</td>\n",
       "      <td>7.2</td>\n",
       "      <td>35.3</td>\n",
       "    </tr>\n",
       "    <tr>\n",
       "      <th>3</th>\n",
       "      <td>1-room / 2-room</td>\n",
       "      <td>2005</td>\n",
       "      <td>1</td>\n",
       "      <td>Central Region</td>\n",
       "      <td>Geylang</td>\n",
       "      <td>148.5</td>\n",
       "      <td>2.9</td>\n",
       "      <td>3.6</td>\n",
       "      <td>4.4</td>\n",
       "      <td>5.0</td>\n",
       "      <td>27.5</td>\n",
       "      <td>31.3</td>\n",
       "      <td>25.1</td>\n",
       "      <td>7.2</td>\n",
       "      <td>35.3</td>\n",
       "    </tr>\n",
       "    <tr>\n",
       "      <th>4</th>\n",
       "      <td>1-room / 2-room</td>\n",
       "      <td>2005</td>\n",
       "      <td>1</td>\n",
       "      <td>Central Region</td>\n",
       "      <td>Kallang</td>\n",
       "      <td>115.6</td>\n",
       "      <td>2.9</td>\n",
       "      <td>3.6</td>\n",
       "      <td>4.4</td>\n",
       "      <td>5.0</td>\n",
       "      <td>27.5</td>\n",
       "      <td>31.3</td>\n",
       "      <td>25.1</td>\n",
       "      <td>7.2</td>\n",
       "      <td>35.3</td>\n",
       "    </tr>\n",
       "  </tbody>\n",
       "</table>\n",
       "</div>"
      ],
      "text/plain": [
       "     Dwelling Type  Year  Month          Region           Towns  Avg kWh  \\\n",
       "0  1-room / 2-room  2005      1  Central Region          Bishan    104.9   \n",
       "1  1-room / 2-room  2005      1  Central Region     Bukit Merah    140.7   \n",
       "2  1-room / 2-room  2005      1  Central Region  Central Region    136.5   \n",
       "3  1-room / 2-room  2005      1  Central Region         Geylang    148.5   \n",
       "4  1-room / 2-room  2005      1  Central Region         Kallang    115.6   \n",
       "\n",
       "   Daily Rainfall Total (mm)  Highest 30 min Rainfall (mm)  \\\n",
       "0                        2.9                           3.6   \n",
       "1                        2.9                           3.6   \n",
       "2                        2.9                           3.6   \n",
       "3                        2.9                           3.6   \n",
       "4                        2.9                           3.6   \n",
       "\n",
       "   Highest 60 min Rainfall (mm)  Highest 120 min Rainfall (mm)  \\\n",
       "0                           4.4                            5.0   \n",
       "1                           4.4                            5.0   \n",
       "2                           4.4                            5.0   \n",
       "3                           4.4                            5.0   \n",
       "4                           4.4                            5.0   \n",
       "\n",
       "   Mean Temperature (°C)  Maximum Temperature (°C)  Minimum Temperature (°C)  \\\n",
       "0                   27.5                      31.3                      25.1   \n",
       "1                   27.5                      31.3                      25.1   \n",
       "2                   27.5                      31.3                      25.1   \n",
       "3                   27.5                      31.3                      25.1   \n",
       "4                   27.5                      31.3                      25.1   \n",
       "\n",
       "   Mean Wind Speed (km/h)  Max Wind Speed (km/h)  \n",
       "0                     7.2                   35.3  \n",
       "1                     7.2                   35.3  \n",
       "2                     7.2                   35.3  \n",
       "3                     7.2                   35.3  \n",
       "4                     7.2                   35.3  "
      ]
     },
     "execution_count": 3,
     "metadata": {},
     "output_type": "execute_result"
    }
   ],
   "source": [
    "df.head()"
   ]
  },
  {
   "cell_type": "code",
   "execution_count": null,
   "id": "a43cc79d",
   "metadata": {},
   "outputs": [],
   "source": [
    "df_one_hot_encoded = df.copy()"
   ]
  },
  {
   "cell_type": "code",
   "execution_count": 4,
   "id": "699fdf91",
   "metadata": {},
   "outputs": [
    {
     "data": {
      "text/plain": [
       "Dwelling Type                    0\n",
       "Year                             0\n",
       "Month                            0\n",
       "Region                           0\n",
       "Towns                            0\n",
       "Avg kWh                          0\n",
       "Daily Rainfall Total (mm)        0\n",
       "Highest 30 min Rainfall (mm)     0\n",
       "Highest 60 min Rainfall (mm)     0\n",
       "Highest 120 min Rainfall (mm)    0\n",
       "Mean Temperature (°C)            0\n",
       "Maximum Temperature (°C)         0\n",
       "Minimum Temperature (°C)         0\n",
       "Mean Wind Speed (km/h)           0\n",
       "Max Wind Speed (km/h)            0\n",
       "dtype: int64"
      ]
     },
     "execution_count": 4,
     "metadata": {},
     "output_type": "execute_result"
    }
   ],
   "source": [
    "# # Using 120 min data as identified in the notebook with K-NN\n",
    "features_df = pd.get_dummies(df_one_hot_encoded, columns=['Dwelling Type', 'Month', 'Towns', 'Region'])\n",
    "del features_df['Avg kWh']\n",
    "del features_df['Highest 30 min Rainfall (mm)']\n",
    "del features_df['Highest 60 min Rainfall (mm)']\n",
    "features_df"
   ]
  },
  {
   "cell_type": "code",
   "execution_count": null,
   "id": "cf85c3e9",
   "metadata": {},
   "outputs": [],
   "source": [
    "# apply normalization techniques\n",
    "for column in features_df.columns:\n",
    "    features_df[column] = (features_df[column] - features_df[column].min()) / (features_df[column].max() - features_df[column].min())"
   ]
  },
  {
   "cell_type": "code",
   "execution_count": 17,
   "id": "5c9a9443",
   "metadata": {},
   "outputs": [],
   "source": [
    "X = features_df\n",
    "y = df_one_hot_encoded['Avg kWh']"
   ]
  },
  {
   "cell_type": "code",
   "execution_count": 18,
   "id": "190ddc8c",
   "metadata": {},
   "outputs": [],
   "source": [
    "X_train, X_test, y_train, y_test = train_test_split(X, y, test_size=0.2, random_state=0)"
   ]
  },
  {
   "cell_type": "code",
   "execution_count": 19,
   "id": "98224740",
   "metadata": {},
   "outputs": [],
   "source": [
    "eval_results = {}\n",
    "def perform_eval(model, model_name):\n",
    "    #Mean squared error \n",
    "    y_train_pred = model.predict(X_train)\n",
    "    y_test_pred = model.predict(X_test)\n",
    "    #Train\n",
    "    mse_train = mean_squared_error(y_train, y_train_pred)\n",
    "    rmse_train = mean_squared_error(y_train, y_train_pred, squared=False)\n",
    "    #Test\n",
    "    mse_test = mean_squared_error(y_test, y_test_pred)\n",
    "    rmse_test = mean_squared_error(y_test, y_test_pred, squared=False)\n",
    "\n",
    "    #R Squared Score\n",
    "    #Train\n",
    "    r2train = model.score(X_train, y_train)\n",
    "    adjr2_train = 1 - (1-r2train) * (len(y)-1)/(len(y)-X.shape[1]-1)\n",
    "    #Test\n",
    "    r2test = model.score(X_test, y_test)\n",
    "    adjr2_test = 1 - (1-r2test) * (len(y)-1)/(len(y)-X.shape[1]-1)\n",
    "    \n",
    "    eval_results[model_name] = {\n",
    "        \"MSE (Train)\" : mse_train,\n",
    "        \"MSE (Test)\" : mse_test,\n",
    "        \"RMSE (Train)\" : rmse_train,\n",
    "        \"RMSE (Test)\" : rmse_test,\n",
    "        \"R2 (Train)\" : r2train,\n",
    "        \"R2 (Test)\" : r2test,\n",
    "        \"Adj R2 (Train)\" : adjr2_train,\n",
    "        \"Adj R2 (Test)\" : adjr2_test\n",
    "    }\n",
    "    \n",
    "    return eval_results[model_name]"
   ]
  },
  {
   "cell_type": "code",
   "execution_count": 20,
   "id": "c8cf75ff",
   "metadata": {},
   "outputs": [],
   "source": [
    "def get_best_model(model, best_model):\n",
    "    if best_model == \"\":\n",
    "        best_model = model\n",
    "\n",
    "    #test adj r2\n",
    "    best_adjr2_test = 1 - (1-best_model.score(X_test, y_test)) * (len(y)-1)/(len(y)-X.shape[1]-1)\n",
    "    model_adjr2_test = 1 - (1-model.score(X_test, y_test)) * (len(y)-1)/(len(y)-X.shape[1]-1)\n",
    "\n",
    "    if model_adjr2_test > best_adjr2_test:\n",
    "        best_model = model\n",
    "\n",
    "    return best_model"
   ]
  },
  {
   "cell_type": "code",
   "execution_count": 21,
   "id": "f81f47b5",
   "metadata": {},
   "outputs": [],
   "source": [
    "def compare_results(desired_model):\n",
    "    metric_data = []\n",
    "    col_names = [\"Models\"]\n",
    "    col_done = False\n",
    "\n",
    "    for model in eval_results:\n",
    "        eval_list = []\n",
    "        #Append Model names\n",
    "        if (desired_model.lower() in str(model).lower()) or (desired_model.lower() == \"all\"):\n",
    "            eval_list.append(model)\n",
    "            for metric in eval_results[model]:\n",
    "                if not col_done:\n",
    "                    col_names.append(metric)\n",
    "                eval_list.append(eval_results[model][metric])\n",
    "            col_done = True\n",
    "            metric_data.append(eval_list)\n",
    "        \n",
    "    df = pd.DataFrame(metric_data, columns=col_names)\n",
    "    df = df.sort_values(by=['Adj R2 (Test)'], ascending=False)\n",
    "    df = df.style.set_table_attributes(\"style='display:inline'\").set_caption(f'{str(desired_model).capitalize()} Models (Sort by Adj R2 (Test))')\n",
    "    \n",
    "    return df"
   ]
  },
  {
   "cell_type": "markdown",
   "id": "7422627d",
   "metadata": {},
   "source": [
    "# K-Neighbor Regressor"
   ]
  },
  {
   "cell_type": "code",
   "execution_count": 22,
   "id": "a7b4cf06",
   "metadata": {},
   "outputs": [],
   "source": [
    "#Reset best model for each section\n",
    "best_model = \"\""
   ]
  },
  {
   "cell_type": "code",
   "execution_count": 23,
   "id": "ae9f5b7a",
   "metadata": {},
   "outputs": [
    {
     "data": {
      "text/plain": [
       "KNeighborsRegressor(n_neighbors=3)"
      ]
     },
     "execution_count": 23,
     "metadata": {},
     "output_type": "execute_result"
    }
   ],
   "source": [
    "initial_knn = KNeighborsRegressor(n_neighbors=3)\n",
    "initial_knn.fit(X_train, y_train)"
   ]
  },
  {
   "cell_type": "code",
   "execution_count": 24,
   "id": "9de7a77c",
   "metadata": {},
   "outputs": [
    {
     "name": "stdout",
     "output_type": "stream",
     "text": [
      "MSE (Train): 4379.342031323341\n",
      "MSE (Test): 8037.020545082551\n",
      "RMSE (Train): 66.17659730843934\n",
      "RMSE (Test): 89.64943137065929\n",
      "R2 (Train): 0.9764097285768042\n",
      "R2 (Test): 0.9550594823219517\n",
      "Adj R2 (Train): 0.9763785281252385\n",
      "Adj R2 (Test): 0.955000044072175\n"
     ]
    }
   ],
   "source": [
    "best_model = get_best_model(initial_knn, best_model)\n",
    "res_val = perform_eval(initial_knn, \"KNN (Initial)\")\n",
    "for key in res_val:\n",
    "    print(f\"{key}: {res_val[key]}\")"
   ]
  },
  {
   "cell_type": "markdown",
   "id": "de58b029",
   "metadata": {},
   "source": [
    "# Grid Search CV for best K"
   ]
  },
  {
   "cell_type": "code",
   "execution_count": 25,
   "id": "e39b77f2",
   "metadata": {},
   "outputs": [
    {
     "data": {
      "text/plain": [
       "{'n_neighbors': 3}"
      ]
     },
     "execution_count": 25,
     "metadata": {},
     "output_type": "execute_result"
    }
   ],
   "source": [
    "params = {'n_neighbors':[2,3,4,5,6,7,8,9,10,11,12,13,14,15,16,17,18,19,20]}\n",
    "knn = KNeighborsRegressor()\n",
    "model = GridSearchCV(knn, params, scoring='r2')\n",
    "model.fit(X_train,y_train)\n",
    "model.best_params_"
   ]
  },
  {
   "cell_type": "markdown",
   "id": "dac7ed87",
   "metadata": {},
   "source": [
    "We will use K = 3"
   ]
  },
  {
   "cell_type": "markdown",
   "id": "f40cd5c6",
   "metadata": {},
   "source": [
    "Since now we have the best hyperparameter of K = 3, this can be used to fit a KNN model and check its performance on the unseen test dataset."
   ]
  },
  {
   "cell_type": "code",
   "execution_count": 26,
   "id": "ff2d445f",
   "metadata": {},
   "outputs": [
    {
     "data": {
      "text/plain": [
       "KNeighborsRegressor(n_neighbors=3)"
      ]
     },
     "execution_count": 26,
     "metadata": {},
     "output_type": "execute_result"
    }
   ],
   "source": [
    "best_param_knn = KNeighborsRegressor(n_neighbors=3)\n",
    "best_param_knn.fit(X_train, y_train)"
   ]
  },
  {
   "cell_type": "code",
   "execution_count": 27,
   "id": "1071980c",
   "metadata": {},
   "outputs": [
    {
     "name": "stdout",
     "output_type": "stream",
     "text": [
      "MSE (Train): 4379.342031323341\n",
      "MSE (Test): 8037.020545082551\n",
      "RMSE (Train): 66.17659730843934\n",
      "RMSE (Test): 89.64943137065929\n",
      "R2 (Train): 0.9764097285768042\n",
      "R2 (Test): 0.9550594823219517\n",
      "Adj R2 (Train): 0.9763785281252385\n",
      "Adj R2 (Test): 0.955000044072175\n"
     ]
    }
   ],
   "source": [
    "best_model = get_best_model(best_param_knn, best_model)\n",
    "res_val = perform_eval(best_param_knn, \"KNN (Best Params)\")\n",
    "for key in res_val:\n",
    "    print(f\"{key}: {res_val[key]}\")"
   ]
  },
  {
   "cell_type": "code",
   "execution_count": 28,
   "id": "066ea7fd",
   "metadata": {},
   "outputs": [
    {
     "data": {
      "text/html": [
       "<style type=\"text/css\">\n",
       "</style>\n",
       "<table id=\"T_3a53a\" style='display:inline'>\n",
       "  <caption>Knn Models (Sort by Adj R2 (Test))</caption>\n",
       "  <thead>\n",
       "    <tr>\n",
       "      <th class=\"blank level0\" >&nbsp;</th>\n",
       "      <th id=\"T_3a53a_level0_col0\" class=\"col_heading level0 col0\" >Models</th>\n",
       "      <th id=\"T_3a53a_level0_col1\" class=\"col_heading level0 col1\" >MSE (Train)</th>\n",
       "      <th id=\"T_3a53a_level0_col2\" class=\"col_heading level0 col2\" >MSE (Test)</th>\n",
       "      <th id=\"T_3a53a_level0_col3\" class=\"col_heading level0 col3\" >RMSE (Train)</th>\n",
       "      <th id=\"T_3a53a_level0_col4\" class=\"col_heading level0 col4\" >RMSE (Test)</th>\n",
       "      <th id=\"T_3a53a_level0_col5\" class=\"col_heading level0 col5\" >R2 (Train)</th>\n",
       "      <th id=\"T_3a53a_level0_col6\" class=\"col_heading level0 col6\" >R2 (Test)</th>\n",
       "      <th id=\"T_3a53a_level0_col7\" class=\"col_heading level0 col7\" >Adj R2 (Train)</th>\n",
       "      <th id=\"T_3a53a_level0_col8\" class=\"col_heading level0 col8\" >Adj R2 (Test)</th>\n",
       "    </tr>\n",
       "  </thead>\n",
       "  <tbody>\n",
       "    <tr>\n",
       "      <th id=\"T_3a53a_level0_row0\" class=\"row_heading level0 row0\" >0</th>\n",
       "      <td id=\"T_3a53a_row0_col0\" class=\"data row0 col0\" >KNN (Initial)</td>\n",
       "      <td id=\"T_3a53a_row0_col1\" class=\"data row0 col1\" >4379.342031</td>\n",
       "      <td id=\"T_3a53a_row0_col2\" class=\"data row0 col2\" >8037.020545</td>\n",
       "      <td id=\"T_3a53a_row0_col3\" class=\"data row0 col3\" >66.176597</td>\n",
       "      <td id=\"T_3a53a_row0_col4\" class=\"data row0 col4\" >89.649431</td>\n",
       "      <td id=\"T_3a53a_row0_col5\" class=\"data row0 col5\" >0.976410</td>\n",
       "      <td id=\"T_3a53a_row0_col6\" class=\"data row0 col6\" >0.955059</td>\n",
       "      <td id=\"T_3a53a_row0_col7\" class=\"data row0 col7\" >0.976379</td>\n",
       "      <td id=\"T_3a53a_row0_col8\" class=\"data row0 col8\" >0.955000</td>\n",
       "    </tr>\n",
       "    <tr>\n",
       "      <th id=\"T_3a53a_level0_row1\" class=\"row_heading level0 row1\" >1</th>\n",
       "      <td id=\"T_3a53a_row1_col0\" class=\"data row1 col0\" >KNN (Best Params)</td>\n",
       "      <td id=\"T_3a53a_row1_col1\" class=\"data row1 col1\" >4379.342031</td>\n",
       "      <td id=\"T_3a53a_row1_col2\" class=\"data row1 col2\" >8037.020545</td>\n",
       "      <td id=\"T_3a53a_row1_col3\" class=\"data row1 col3\" >66.176597</td>\n",
       "      <td id=\"T_3a53a_row1_col4\" class=\"data row1 col4\" >89.649431</td>\n",
       "      <td id=\"T_3a53a_row1_col5\" class=\"data row1 col5\" >0.976410</td>\n",
       "      <td id=\"T_3a53a_row1_col6\" class=\"data row1 col6\" >0.955059</td>\n",
       "      <td id=\"T_3a53a_row1_col7\" class=\"data row1 col7\" >0.976379</td>\n",
       "      <td id=\"T_3a53a_row1_col8\" class=\"data row1 col8\" >0.955000</td>\n",
       "    </tr>\n",
       "  </tbody>\n",
       "</table>\n"
      ],
      "text/plain": [
       "<pandas.io.formats.style.Styler at 0x24cae453670>"
      ]
     },
     "execution_count": 28,
     "metadata": {},
     "output_type": "execute_result"
    }
   ],
   "source": [
    "knn_df = compare_results(\"knn\")\n",
    "knn_df"
   ]
  },
  {
   "cell_type": "code",
   "execution_count": 29,
   "id": "6dd54173",
   "metadata": {},
   "outputs": [],
   "source": [
    "import pickle, os\n",
    "filename = 'knn.pkl'\n",
    "save_location = os.path.join(\".\",\"trained_models\", filename)\n",
    "pickle.dump(best_model, open(save_location, 'wb'))"
   ]
  }
 ],
 "metadata": {
  "kernelspec": {
   "display_name": "Python 3.10.2 64-bit",
   "language": "python",
   "name": "python3"
  },
  "language_info": {
   "codemirror_mode": {
    "name": "ipython",
    "version": 3
   },
   "file_extension": ".py",
   "mimetype": "text/x-python",
   "name": "python",
   "nbconvert_exporter": "python",
   "pygments_lexer": "ipython3",
   "version": "3.10.2"
  },
  "vscode": {
   "interpreter": {
    "hash": "54b5c02bac415170f398c1cb9c40d2712252a7d195ee8eb19ed147dda00b9728"
   }
  }
 },
 "nbformat": 4,
 "nbformat_minor": 5
}
